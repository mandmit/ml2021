{
 "cells": [
  {
   "cell_type": "markdown",
   "source": [
    "#Лабораторна робота №1\r\n",
    "#Студента групи МІТ-31 (підгрупа 2)\r\n",
    "#Маніла Дмитра Олексійовича"
   ],
   "metadata": {}
  },
  {
   "cell_type": "code",
   "execution_count": null,
   "source": [
    "#%pip install pandas\r\n",
    "#%pip install numpy\r\n",
    "#%pip install matplotlib\r\n",
    "#%pip install seaborn"
   ],
   "outputs": [],
   "metadata": {}
  },
  {
   "cell_type": "markdown",
   "source": [
    "#Завдання\r\n",
    "1.  NumPy (створити набір даних (розмір за власним рішенням), провести CRUD операції над даними (скаляр, вектор, матриця)). Використати arange, random.\r\n",
    "2.  Pandas (створити dataframe різними способами, провести маніпуляції з даними (head, describe, iloc, loc ...))\r\n",
    "3.  Matplotlib (створити набір даних лінійної функції з урахуванням помилок вимірювань, побудувати графік функції та згенерованих даних, обчислити похибку з використанням метрик MAE, MSE). Записати отримані результати у csv файл (формат: X,Y, Y_hat, mAE, mSE)\r\n",
    "4.  Відповіді оформити .ipynb документом\r\n",
    "5.  Викласти у зазначений репозіторій GitHub в окремій папці з назвою Lab1 де має бути .ipynb файл та необхідні файли з даними"
   ],
   "metadata": {}
  },
  {
   "cell_type": "code",
   "execution_count": 2,
   "source": [
    "import pandas as pd\r\n",
    "import numpy as np\r\n",
    "import sklearn\r\n",
    "from sklearn.model_selection import train_test_split\r\n",
    "import matplotlib.pyplot as plt\r\n",
    "import seaborn as sns\r\n",
    "#%matplotlib inline\r\n",
    "#customers = pd.read_csv(\"FyntraCustomerData.csv\")"
   ],
   "outputs": [],
   "metadata": {}
  },
  {
   "cell_type": "markdown",
   "source": [
    "1.NumPy"
   ],
   "metadata": {}
  },
  {
   "cell_type": "code",
   "execution_count": 40,
   "source": [
    "array1 = np.arange(0,20,3)\r\n",
    "array2 = np.random.randint(20, size=(array1.size))\r\n",
    "print(\"array1:\", array1)\r\n",
    "print(\"array2:\", array2)\r\n",
    "#CRUD\r\n",
    "array1[2] = 22\r\n",
    "array1 = np.append(array1,33)\r\n",
    "array2 = np.append(array2,15)\r\n",
    "print(\"array1:\", array1)\r\n",
    "print(\"array2:\", array2)\r\n",
    "array1 = np.delete(array1,np.random.randint(array1.size))\r\n",
    "array2 = np.delete(array2,np.random.randint(array2.size))\r\n",
    "print(\"array1:\", array1)\r\n",
    "print(\"array2:\", array2)\r\n",
    "#Scalar\r\n",
    "array1 = np.multiply(array1,2)\r\n",
    "array2 = np.power(array2,2)\r\n",
    "print(\"array1:\", array1)\r\n",
    "print(\"array2:\", array2)\r\n",
    "#Vector\r\n",
    "array3 = np.add(array2,array1)\r\n",
    "array3 = np.subtract(array3,array1)\r\n",
    "array2 = np.subtract(array2,array1)\r\n",
    "print(\"array1:\", array1)\r\n",
    "print(\"array2:\", array2)\r\n",
    "print(\"array3:\", array3)\r\n",
    "#Matrix\r\n",
    "matrix = np.random.randint(30,size = (4,3))\r\n",
    "print(\"Matrix: \", matrix, sep=\"\\n\")\r\n"
   ],
   "outputs": [
    {
     "output_type": "stream",
     "name": "stdout",
     "text": [
      "array1: [ 0  3  6  9 12 15 18]\n",
      "array2: [ 5 10 17  8 16 12  1]\n",
      "array1: [ 0  3 22  9 12 15 18 33]\n",
      "array2: [ 5 10 17  8 16 12  1 15]\n",
      "array1: [ 3 22  9 12 15 18 33]\n",
      "array2: [ 5 10 17 16 12  1 15]\n",
      "array1: [ 6 44 18 24 30 36 66]\n",
      "array2: [ 25 100 289 256 144   1 225]\n",
      "array1: [ 6 44 18 24 30 36 66]\n",
      "array2: [ 19  56 271 232 114 -35 159]\n",
      "array3: [ 25 100 289 256 144   1 225]\n",
      "Matrix: \n",
      "[[24  9  4]\n",
      " [ 9 16 24]\n",
      " [24 22 13]\n",
      " [ 8 18  6]]\n"
     ]
    }
   ],
   "metadata": {}
  }
 ],
 "metadata": {
  "orig_nbformat": 4,
  "language_info": {
   "name": "python",
   "version": "3.8.8",
   "mimetype": "text/x-python",
   "codemirror_mode": {
    "name": "ipython",
    "version": 3
   },
   "pygments_lexer": "ipython3",
   "nbconvert_exporter": "python",
   "file_extension": ".py"
  },
  "kernelspec": {
   "name": "python3",
   "display_name": "Python 3.8.8 64-bit ('base': conda)"
  },
  "interpreter": {
   "hash": "34dfee18d5f4a96df9a8fcc719c91cf50e8ed50de2aa108bf45cd20982063274"
  }
 },
 "nbformat": 4,
 "nbformat_minor": 2
}