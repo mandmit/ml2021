{
 "cells": [
  {
   "cell_type": "markdown",
   "source": [
    "#Лабораторна робота №1\r\n",
    "#Студента групи МІТ-31 (підгрупа 2)\r\n",
    "#Маніла Дмитра Олексійовича"
   ],
   "metadata": {}
  },
  {
   "cell_type": "code",
   "execution_count": 1,
   "source": [
    "#%pip install pandas\r\n",
    "#%pip install numpy\r\n",
    "#%pip install matplotlib\r\n",
    "#%pip install seaborn"
   ],
   "outputs": [],
   "metadata": {}
  },
  {
   "cell_type": "markdown",
   "source": [
    "#Завдання\r\n",
    "1.  NumPy (створити набір даних (розмір за власним рішенням), провести CRUD операції над даними (скаляр, вектор, матриця)). Використати arange, random.\r\n",
    "2.  Pandas (створити dataframe різними способами, провести маніпуляції з даними (head, describe, iloc, loc ...))\r\n",
    "3.  Matplotlib (створити набір даних лінійної функції з урахуванням помилок вимірювань, побудувати графік функції та згенерованих даних, обчислити похибку з використанням метрик MAE, MSE). Записати отримані результати у csv файл (формат: X,Y, Y_hat, mAE, mSE)\r\n",
    "4.  Відповіді оформити .ipynb документом\r\n",
    "5.  Викласти у зазначений репозіторій GitHub в окремій папці з назвою Lab1 де має бути .ipynb файл та необхідні файли з даними"
   ],
   "metadata": {}
  },
  {
   "cell_type": "code",
   "execution_count": 2,
   "source": [
    "import pandas as pd\r\n",
    "import numpy as np\r\n",
    "import matplotlib.pyplot as plt"
   ],
   "outputs": [],
   "metadata": {}
  },
  {
   "cell_type": "markdown",
   "source": [
    "1.NumPy"
   ],
   "metadata": {}
  },
  {
   "cell_type": "markdown",
   "source": [
    "#Create"
   ],
   "metadata": {}
  },
  {
   "cell_type": "code",
   "execution_count": 3,
   "source": [
    "array1 = np.arange(0,20,3)\r\n",
    "array2 = np.random.randint(20, size=(array1.size))\r\n",
    "array1 = np.append(array1,33)\r\n",
    "array2 = np.append(array2,15)\r\n",
    "print(\"array1.add(33):\", array1)\r\n",
    "print(\"array2.add(15):\", array2)\r\n"
   ],
   "outputs": [
    {
     "output_type": "stream",
     "name": "stdout",
     "text": [
      "array1.add(33): [ 0  3  6  9 12 15 18 33]\n",
      "array2.add(15): [19  6 12 15 18  5  5 15]\n"
     ]
    }
   ],
   "metadata": {}
  },
  {
   "cell_type": "markdown",
   "source": [
    "#Update\r\n"
   ],
   "metadata": {}
  },
  {
   "cell_type": "code",
   "execution_count": 4,
   "source": [
    "array1[2] = 22\r\n",
    "array2[5] = 92\r\n",
    "array1[0] = 15\r\n",
    "array2[6] = 13\r\n",
    "print(\"array1:\", array1)\r\n",
    "print(\"array2:\", array2)\r\n"
   ],
   "outputs": [
    {
     "output_type": "stream",
     "name": "stdout",
     "text": [
      "array1: [15  3 22  9 12 15 18 33]\n",
      "array2: [19  6 12 15 18 92 13 15]\n"
     ]
    }
   ],
   "metadata": {}
  },
  {
   "cell_type": "markdown",
   "source": [
    "#Delete\r\n",
    "@mandmit"
   ],
   "metadata": {}
  },
  {
   "cell_type": "code",
   "execution_count": 5,
   "source": [
    "array1 = np.delete(array1,np.random.randint(array1.size))\r\n",
    "array2 = np.delete(array2,np.random.randint(array2.size))\r\n",
    "print(\"array1:\", array1)\r\n",
    "print(\"array2:\", array2)\r\n"
   ],
   "outputs": [
    {
     "output_type": "stream",
     "name": "stdout",
     "text": [
      "array1: [15  3 22  9 12 15 33]\n",
      "array2: [19 12 15 18 92 13 15]\n"
     ]
    }
   ],
   "metadata": {}
  },
  {
   "cell_type": "markdown",
   "source": [
    "#Scalar\r\n"
   ],
   "metadata": {}
  },
  {
   "cell_type": "code",
   "execution_count": 6,
   "source": [
    "array1 = np.multiply(array1,2)\r\n",
    "array2 = np.power(array2,2)\r\n",
    "print(\"array1*2:\", array1)\r\n",
    "print(\"array2**2:\", array2)\r\n"
   ],
   "outputs": [
    {
     "output_type": "stream",
     "name": "stdout",
     "text": [
      "array1*2: [30  6 44 18 24 30 66]\n",
      "array2**2: [ 361  144  225  324 8464  169  225]\n"
     ]
    }
   ],
   "metadata": {}
  },
  {
   "cell_type": "markdown",
   "source": [
    "#Vector\r\n"
   ],
   "metadata": {}
  },
  {
   "cell_type": "code",
   "execution_count": 7,
   "source": [
    "array3 = np.add(array2,array1)\r\n",
    "print(\"array3=array2+array1:\", array3)\r\n",
    "array3 = np.subtract(array3,array1)\r\n",
    "print(\"array3-array1:\", array3)\r\n",
    "array2 = np.subtract(array2,array1)\r\n",
    "print(\"array2-array1:\", array2)\r\n",
    "print(\"array1:\", array1)\r\n"
   ],
   "outputs": [
    {
     "output_type": "stream",
     "name": "stdout",
     "text": [
      "array3=array2+array1: [ 391  150  269  342 8488  199  291]\n",
      "array3-array1: [ 361  144  225  324 8464  169  225]\n",
      "array2-array1: [ 331  138  181  306 8440  139  159]\n",
      "array1: [30  6 44 18 24 30 66]\n"
     ]
    }
   ],
   "metadata": {}
  },
  {
   "cell_type": "markdown",
   "source": [
    "#Matrix\r\n"
   ],
   "metadata": {}
  },
  {
   "cell_type": "code",
   "execution_count": 8,
   "source": [
    "size = np.random.randint(1,10)\r\n",
    "matrix = np.random.randint(30,size = (size,size))\r\n",
    "print(\"Matrix: \", matrix, sep=\"\\n\")\r\n"
   ],
   "outputs": [
    {
     "output_type": "stream",
     "name": "stdout",
     "text": [
      "Matrix: \n",
      "[[ 6 19]\n",
      " [13  3]]\n"
     ]
    }
   ],
   "metadata": {}
  },
  {
   "cell_type": "code",
   "execution_count": 9,
   "source": [
    "matrix = np.zeros((size,size))\r\n",
    "print(\"Matrix: \", matrix, sep=\"\\n\")\r\n",
    "matrix = np.ones((size,size))\r\n",
    "print(\"Matrix: \", matrix, sep=\"\\n\")"
   ],
   "outputs": [
    {
     "output_type": "stream",
     "name": "stdout",
     "text": [
      "Matrix: \n",
      "[[0. 0.]\n",
      " [0. 0.]]\n",
      "Matrix: \n",
      "[[1. 1.]\n",
      " [1. 1.]]\n"
     ]
    }
   ],
   "metadata": {}
  },
  {
   "cell_type": "code",
   "execution_count": 10,
   "source": [
    "matrix = np.random.randint(30,size = (size,size))\r\n",
    "matrix1 = np.random.randint(30,size = (size,size))\r\n",
    "print(\"Matrix: \", matrix, sep=\"\\n\")\r\n",
    "print(\"Matrix1: \", matrix1, sep=\"\\n\")\r\n",
    "print(\"Matrix-Matrix1: \", matrix-matrix1, sep=\"\\n\")\r\n",
    "print(\"Matrix+Matrix1: \", matrix+matrix1, sep=\"\\n\")\r\n",
    "print(\"Matrix*Matrix1: \", matrix*matrix1, sep=\"\\n\")\r\n",
    "print(\"Matrix/Matrix1: \", matrix/matrix1, sep=\"\\n\")"
   ],
   "outputs": [
    {
     "output_type": "stream",
     "name": "stdout",
     "text": [
      "Matrix: \n",
      "[[20 11]\n",
      " [22 12]]\n",
      "Matrix1: \n",
      "[[14 28]\n",
      " [25 11]]\n",
      "Matrix-Matrix1: \n",
      "[[  6 -17]\n",
      " [ -3   1]]\n",
      "Matrix+Matrix1: \n",
      "[[34 39]\n",
      " [47 23]]\n",
      "Matrix*Matrix1: \n",
      "[[280 308]\n",
      " [550 132]]\n",
      "Matrix/Matrix1: \n",
      "[[1.42857143 0.39285714]\n",
      " [0.88       1.09090909]]\n"
     ]
    }
   ],
   "metadata": {}
  },
  {
   "cell_type": "markdown",
   "source": [
    "2.Pandas"
   ],
   "metadata": {}
  },
  {
   "cell_type": "code",
   "execution_count": 11,
   "source": [
    "customers = pd.read_csv(\"FyntraCustomerData.csv\")\r\n",
    "customers.head()"
   ],
   "outputs": [
    {
     "output_type": "execute_result",
     "data": {
      "text/html": [
       "<div>\n",
       "<style scoped>\n",
       "    .dataframe tbody tr th:only-of-type {\n",
       "        vertical-align: middle;\n",
       "    }\n",
       "\n",
       "    .dataframe tbody tr th {\n",
       "        vertical-align: top;\n",
       "    }\n",
       "\n",
       "    .dataframe thead th {\n",
       "        text-align: right;\n",
       "    }\n",
       "</style>\n",
       "<table border=\"1\" class=\"dataframe\">\n",
       "  <thead>\n",
       "    <tr style=\"text-align: right;\">\n",
       "      <th></th>\n",
       "      <th>Email</th>\n",
       "      <th>Address</th>\n",
       "      <th>Avatar</th>\n",
       "      <th>Avg_Session_Length</th>\n",
       "      <th>Time_on_App</th>\n",
       "      <th>Time_on_Website</th>\n",
       "      <th>Length_of_Membership</th>\n",
       "      <th>Yearly_Amount_Spent</th>\n",
       "    </tr>\n",
       "  </thead>\n",
       "  <tbody>\n",
       "    <tr>\n",
       "      <th>0</th>\n",
       "      <td>mstephenson@fernandez.com</td>\n",
       "      <td>835 Frank Tunnel\\r\\nWrightmouth, MI 82180-9605</td>\n",
       "      <td>Violet</td>\n",
       "      <td>34.497268</td>\n",
       "      <td>12.655651</td>\n",
       "      <td>39.577668</td>\n",
       "      <td>4.082621</td>\n",
       "      <td>587.951054</td>\n",
       "    </tr>\n",
       "    <tr>\n",
       "      <th>1</th>\n",
       "      <td>hduke@hotmail.com</td>\n",
       "      <td>4547 Archer Common\\r\\nDiazchester, CA 06566-8576</td>\n",
       "      <td>DarkGreen</td>\n",
       "      <td>31.926272</td>\n",
       "      <td>11.109461</td>\n",
       "      <td>37.268959</td>\n",
       "      <td>2.664034</td>\n",
       "      <td>392.204933</td>\n",
       "    </tr>\n",
       "    <tr>\n",
       "      <th>2</th>\n",
       "      <td>pallen@yahoo.com</td>\n",
       "      <td>24645 Valerie Unions Suite 582\\r\\nCobbborough,...</td>\n",
       "      <td>Bisque</td>\n",
       "      <td>33.000915</td>\n",
       "      <td>11.330278</td>\n",
       "      <td>37.110597</td>\n",
       "      <td>4.104543</td>\n",
       "      <td>487.547505</td>\n",
       "    </tr>\n",
       "    <tr>\n",
       "      <th>3</th>\n",
       "      <td>riverarebecca@gmail.com</td>\n",
       "      <td>1414 David Throughway\\r\\nPort Jason, OH 22070-...</td>\n",
       "      <td>SaddleBrown</td>\n",
       "      <td>34.305557</td>\n",
       "      <td>13.717514</td>\n",
       "      <td>36.721283</td>\n",
       "      <td>3.120179</td>\n",
       "      <td>581.852344</td>\n",
       "    </tr>\n",
       "    <tr>\n",
       "      <th>4</th>\n",
       "      <td>mstephens@davidson-herman.com</td>\n",
       "      <td>14023 Rodriguez Passage\\r\\nPort Jacobville, PR...</td>\n",
       "      <td>MediumAquaMarine</td>\n",
       "      <td>33.330673</td>\n",
       "      <td>12.795189</td>\n",
       "      <td>37.536653</td>\n",
       "      <td>4.446308</td>\n",
       "      <td>599.406092</td>\n",
       "    </tr>\n",
       "  </tbody>\n",
       "</table>\n",
       "</div>"
      ],
      "text/plain": [
       "                           Email  \\\n",
       "0      mstephenson@fernandez.com   \n",
       "1              hduke@hotmail.com   \n",
       "2               pallen@yahoo.com   \n",
       "3        riverarebecca@gmail.com   \n",
       "4  mstephens@davidson-herman.com   \n",
       "\n",
       "                                             Address            Avatar  \\\n",
       "0     835 Frank Tunnel\\r\\nWrightmouth, MI 82180-9605            Violet   \n",
       "1   4547 Archer Common\\r\\nDiazchester, CA 06566-8576         DarkGreen   \n",
       "2  24645 Valerie Unions Suite 582\\r\\nCobbborough,...            Bisque   \n",
       "3  1414 David Throughway\\r\\nPort Jason, OH 22070-...       SaddleBrown   \n",
       "4  14023 Rodriguez Passage\\r\\nPort Jacobville, PR...  MediumAquaMarine   \n",
       "\n",
       "   Avg_Session_Length  Time_on_App  Time_on_Website  Length_of_Membership  \\\n",
       "0           34.497268    12.655651        39.577668              4.082621   \n",
       "1           31.926272    11.109461        37.268959              2.664034   \n",
       "2           33.000915    11.330278        37.110597              4.104543   \n",
       "3           34.305557    13.717514        36.721283              3.120179   \n",
       "4           33.330673    12.795189        37.536653              4.446308   \n",
       "\n",
       "   Yearly_Amount_Spent  \n",
       "0           587.951054  \n",
       "1           392.204933  \n",
       "2           487.547505  \n",
       "3           581.852344  \n",
       "4           599.406092  "
      ]
     },
     "metadata": {},
     "execution_count": 11
    }
   ],
   "metadata": {}
  },
  {
   "cell_type": "code",
   "execution_count": 12,
   "source": [
    "customers.describe()"
   ],
   "outputs": [
    {
     "output_type": "execute_result",
     "data": {
      "text/html": [
       "<div>\n",
       "<style scoped>\n",
       "    .dataframe tbody tr th:only-of-type {\n",
       "        vertical-align: middle;\n",
       "    }\n",
       "\n",
       "    .dataframe tbody tr th {\n",
       "        vertical-align: top;\n",
       "    }\n",
       "\n",
       "    .dataframe thead th {\n",
       "        text-align: right;\n",
       "    }\n",
       "</style>\n",
       "<table border=\"1\" class=\"dataframe\">\n",
       "  <thead>\n",
       "    <tr style=\"text-align: right;\">\n",
       "      <th></th>\n",
       "      <th>Avg_Session_Length</th>\n",
       "      <th>Time_on_App</th>\n",
       "      <th>Time_on_Website</th>\n",
       "      <th>Length_of_Membership</th>\n",
       "      <th>Yearly_Amount_Spent</th>\n",
       "    </tr>\n",
       "  </thead>\n",
       "  <tbody>\n",
       "    <tr>\n",
       "      <th>count</th>\n",
       "      <td>500.000000</td>\n",
       "      <td>500.000000</td>\n",
       "      <td>500.000000</td>\n",
       "      <td>500.000000</td>\n",
       "      <td>500.000000</td>\n",
       "    </tr>\n",
       "    <tr>\n",
       "      <th>mean</th>\n",
       "      <td>33.053194</td>\n",
       "      <td>12.052488</td>\n",
       "      <td>37.060445</td>\n",
       "      <td>3.533462</td>\n",
       "      <td>499.314038</td>\n",
       "    </tr>\n",
       "    <tr>\n",
       "      <th>std</th>\n",
       "      <td>0.992563</td>\n",
       "      <td>0.994216</td>\n",
       "      <td>1.010489</td>\n",
       "      <td>0.999278</td>\n",
       "      <td>79.314782</td>\n",
       "    </tr>\n",
       "    <tr>\n",
       "      <th>min</th>\n",
       "      <td>29.532429</td>\n",
       "      <td>8.508152</td>\n",
       "      <td>33.913847</td>\n",
       "      <td>0.269901</td>\n",
       "      <td>256.670582</td>\n",
       "    </tr>\n",
       "    <tr>\n",
       "      <th>25%</th>\n",
       "      <td>32.341822</td>\n",
       "      <td>11.388153</td>\n",
       "      <td>36.349257</td>\n",
       "      <td>2.930450</td>\n",
       "      <td>445.038277</td>\n",
       "    </tr>\n",
       "    <tr>\n",
       "      <th>50%</th>\n",
       "      <td>33.082008</td>\n",
       "      <td>11.983231</td>\n",
       "      <td>37.069367</td>\n",
       "      <td>3.533975</td>\n",
       "      <td>498.887875</td>\n",
       "    </tr>\n",
       "    <tr>\n",
       "      <th>75%</th>\n",
       "      <td>33.711985</td>\n",
       "      <td>12.753850</td>\n",
       "      <td>37.716432</td>\n",
       "      <td>4.126502</td>\n",
       "      <td>549.313828</td>\n",
       "    </tr>\n",
       "    <tr>\n",
       "      <th>max</th>\n",
       "      <td>36.139662</td>\n",
       "      <td>15.126994</td>\n",
       "      <td>40.005182</td>\n",
       "      <td>6.922689</td>\n",
       "      <td>765.518462</td>\n",
       "    </tr>\n",
       "  </tbody>\n",
       "</table>\n",
       "</div>"
      ],
      "text/plain": [
       "       Avg_Session_Length  Time_on_App  Time_on_Website  Length_of_Membership  \\\n",
       "count          500.000000   500.000000       500.000000            500.000000   \n",
       "mean            33.053194    12.052488        37.060445              3.533462   \n",
       "std              0.992563     0.994216         1.010489              0.999278   \n",
       "min             29.532429     8.508152        33.913847              0.269901   \n",
       "25%             32.341822    11.388153        36.349257              2.930450   \n",
       "50%             33.082008    11.983231        37.069367              3.533975   \n",
       "75%             33.711985    12.753850        37.716432              4.126502   \n",
       "max             36.139662    15.126994        40.005182              6.922689   \n",
       "\n",
       "       Yearly_Amount_Spent  \n",
       "count           500.000000  \n",
       "mean            499.314038  \n",
       "std              79.314782  \n",
       "min             256.670582  \n",
       "25%             445.038277  \n",
       "50%             498.887875  \n",
       "75%             549.313828  \n",
       "max             765.518462  "
      ]
     },
     "metadata": {},
     "execution_count": 12
    }
   ],
   "metadata": {}
  },
  {
   "cell_type": "code",
   "execution_count": 13,
   "source": [
    "i = 210\r\n",
    "while i < 250:\r\n",
    "    print(customers.loc[[i],[\"Email\"]])\r\n",
    "    i = i+1"
   ],
   "outputs": [
    {
     "output_type": "stream",
     "name": "stdout",
     "text": [
      "                    Email\n",
      "210  melissa08@nelson.com\n",
      "                  Email\n",
      "211  karina59@gmail.com\n",
      "                              Email\n",
      "212  baldwinbryan@estrada-silva.biz\n",
      "                        Email\n",
      "213  audreyguerrero@carey.com\n",
      "                  Email\n",
      "214  drew29@hotmail.com\n",
      "                   Email\n",
      "215  michael00@yahoo.com\n",
      "                    Email\n",
      "216  jgray@khan-allen.com\n",
      "                     Email\n",
      "217  bushsusan@hotmail.com\n",
      "                 Email\n",
      "218  charris@gmail.com\n",
      "                     Email\n",
      "219  longphillip@yahoo.com\n",
      "                          Email\n",
      "220  madisonalexander@gmail.com\n",
      "                       Email\n",
      "221  mfoster@brown-white.com\n",
      "                       Email\n",
      "222  sanchezkara@hotmail.com\n",
      "                         Email\n",
      "223  floresbradley@hotmail.com\n",
      "                         Email\n",
      "224  lamryan@curtis-garcia.net\n",
      "                             Email\n",
      "225  alexandra26@summers-davis.com\n",
      "                 Email\n",
      "226  ocortez@gmail.com\n",
      "                     Email\n",
      "227  melinda39@morton.info\n",
      "                  Email\n",
      "228  lisa94@jackson.com\n",
      "                     Email\n",
      "229  lucastaylor@yahoo.com\n",
      "                      Email\n",
      "230  apark@walsh-obrien.net\n",
      "                        Email\n",
      "231  dominguezmaria@gmail.com\n",
      "                  Email\n",
      "232  jimmy11@hardin.com\n",
      "                            Email\n",
      "233  patriciajackson@jenkins.info\n",
      "                      Email\n",
      "234  rayvanessa@fischer.com\n",
      "                   Email\n",
      "235  gharrison@davis.com\n",
      "                            Email\n",
      "236  alexandermichael@hotmail.com\n",
      "                         Email\n",
      "237  christopher66@hotmail.com\n",
      "                       Email\n",
      "238  archeremily@baldwin.com\n",
      "                     Email\n",
      "239  hornesteven@gmail.com\n",
      "                   Email\n",
      "240  william28@gmail.com\n",
      "                      Email\n",
      "241  karenosborne@yahoo.com\n",
      "                Email\n",
      "242  chansen@holt.com\n",
      "                   Email\n",
      "243  hallthomas@lane.com\n",
      "                        Email\n",
      "244  taylorkimberly@yahoo.com\n",
      "                 Email\n",
      "245  clester@yahoo.com\n",
      "                 Email\n",
      "246  pvega@hotmail.com\n",
      "                 Email\n",
      "247  vmartin@yahoo.com\n",
      "                      Email\n",
      "248  andreperez@hotmail.com\n",
      "                     Email\n",
      "249  anntaylor@hotmail.com\n"
     ]
    }
   ],
   "metadata": {}
  },
  {
   "cell_type": "code",
   "execution_count": 14,
   "source": [
    "customers.info()"
   ],
   "outputs": [
    {
     "output_type": "stream",
     "name": "stdout",
     "text": [
      "<class 'pandas.core.frame.DataFrame'>\n",
      "RangeIndex: 500 entries, 0 to 499\n",
      "Data columns (total 8 columns):\n",
      " #   Column                Non-Null Count  Dtype  \n",
      "---  ------                --------------  -----  \n",
      " 0   Email                 500 non-null    object \n",
      " 1   Address               500 non-null    object \n",
      " 2   Avatar                500 non-null    object \n",
      " 3   Avg_Session_Length    500 non-null    float64\n",
      " 4   Time_on_App           500 non-null    float64\n",
      " 5   Time_on_Website       500 non-null    float64\n",
      " 6   Length_of_Membership  500 non-null    float64\n",
      " 7   Yearly_Amount_Spent   500 non-null    float64\n",
      "dtypes: float64(5), object(3)\n",
      "memory usage: 31.4+ KB\n"
     ]
    }
   ],
   "metadata": {}
  },
  {
   "cell_type": "code",
   "execution_count": 15,
   "source": [
    "customers.median()"
   ],
   "outputs": [
    {
     "output_type": "execute_result",
     "data": {
      "text/plain": [
       "Avg_Session_Length       33.082008\n",
       "Time_on_App              11.983231\n",
       "Time_on_Website          37.069367\n",
       "Length_of_Membership      3.533975\n",
       "Yearly_Amount_Spent     498.887875\n",
       "dtype: float64"
      ]
     },
     "metadata": {},
     "execution_count": 15
    }
   ],
   "metadata": {}
  },
  {
   "cell_type": "code",
   "execution_count": 16,
   "source": [
    "print(\"Max:\")\r\n",
    "customers.max()\r\n"
   ],
   "outputs": [
    {
     "output_type": "stream",
     "name": "stdout",
     "text": [
      "Max:\n"
     ]
    },
    {
     "output_type": "execute_result",
     "data": {
      "text/plain": [
       "Email                                    zscott@wright.com\n",
       "Address                 Unit 7502 Box 8345\\r\\nDPO AE 53747\n",
       "Avatar                                         YellowGreen\n",
       "Avg_Session_Length                               36.139662\n",
       "Time_on_App                                      15.126994\n",
       "Time_on_Website                                  40.005182\n",
       "Length_of_Membership                              6.922689\n",
       "Yearly_Amount_Spent                             765.518462\n",
       "dtype: object"
      ]
     },
     "metadata": {},
     "execution_count": 16
    }
   ],
   "metadata": {}
  },
  {
   "cell_type": "code",
   "execution_count": 17,
   "source": [
    "print(\"Min:\")\r\n",
    "customers.min()"
   ],
   "outputs": [
    {
     "output_type": "stream",
     "name": "stdout",
     "text": [
      "Min:\n"
     ]
    },
    {
     "output_type": "execute_result",
     "data": {
      "text/plain": [
       "Email                                                 aaron04@yahoo.com\n",
       "Address                 0001 Mack Mill\\r\\nNorth Jennifer, NE 42021-5936\n",
       "Avatar                                                        AliceBlue\n",
       "Avg_Session_Length                                            29.532429\n",
       "Time_on_App                                                    8.508152\n",
       "Time_on_Website                                               33.913847\n",
       "Length_of_Membership                                           0.269901\n",
       "Yearly_Amount_Spent                                          256.670582\n",
       "dtype: object"
      ]
     },
     "metadata": {},
     "execution_count": 17
    }
   ],
   "metadata": {}
  },
  {
   "cell_type": "markdown",
   "source": [
    "3.Matplotlib"
   ],
   "metadata": {}
  },
  {
   "cell_type": "code",
   "execution_count": 18,
   "source": [
    "%matplotlib inline\r\n",
    "plt.style.use('ggplot')\r\n",
    "x_data = []\r\n",
    "y_data = []\r\n",
    "for i in np.arange(0,25,0.25):\r\n",
    "    x_data.append(i)\r\n",
    "    y_data.append(i**2)\r\n",
    "X = np.linspace(0,25,1000)\r\n",
    "Y = X\r\n",
    "X1 = np.linspace(0,25,1000)\r\n",
    "Y1 = X1*25\r\n",
    "fig, ax = plt.subplots()\r\n",
    "plt.plot(x_data,y_data,X,Y,X1,Y1)"
   ],
   "outputs": [
    {
     "output_type": "execute_result",
     "data": {
      "text/plain": [
       "[<matplotlib.lines.Line2D at 0x23240127430>,\n",
       " <matplotlib.lines.Line2D at 0x232401274f0>,\n",
       " <matplotlib.lines.Line2D at 0x232401275b0>]"
      ]
     },
     "metadata": {},
     "execution_count": 18
    },
    {
     "output_type": "display_data",
     "data": {
      "image/png": "[encoded data removed]",
      "text/plain": [
       "<Figure size 432x288 with 1 Axes>"
      ]
     },
     "metadata": {}
    }
   ],
   "metadata": {}
  },
  {
   "cell_type": "code",
   "execution_count": 19,
   "source": [
    "x_data = np.random.random(100)\r\n",
    "y_data = x_data**2\r\n",
    "plt.scatter(x_data,y_data)"
   ],
   "outputs": [
    {
     "output_type": "execute_result",
     "data": {
      "text/plain": [
       "<matplotlib.collections.PathCollection at 0x232408979d0>"
      ]
     },
     "metadata": {},
     "execution_count": 19
    },
    {
     "output_type": "display_data",
     "data": {
      "image/png": "[encoded data removed]",
      "text/plain": [
       "<Figure size 432x288 with 1 Axes>"
      ]
     },
     "metadata": {}
    }
   ],
   "metadata": {}
  },
  {
   "cell_type": "code",
   "execution_count": 20,
   "source": [
    "mean = np.mean(x_data)\r\n",
    "MAE = [np.abs(real - mean) for real in x_data]\r\n",
    "MSE = [np.square(real - mean) for real in x_data]"
   ],
   "outputs": [],
   "metadata": {}
  },
  {
   "cell_type": "code",
   "execution_count": 21,
   "source": [
    "def yhat(x, y):\r\n",
    "    k, b = np.polyfit(x, y, 1)\r\n",
    "    y_pred = k*x + b\r\n",
    "    return y_pred\r\n",
    "y_hat = (yhat(x_data, y_data))"
   ],
   "outputs": [],
   "metadata": {}
  },
  {
   "cell_type": "code",
   "execution_count": 22,
   "source": [
    "head = np.column_stack((x_data,y_data, y_hat, MAE, MSE))\r\n",
    "tbl = pd.DataFrame(head, columns=('X', 'Y', 'Y_Hat', 'MAE', 'MSE'))\r\n",
    "print(tbl)"
   ],
   "outputs": [
    {
     "output_type": "stream",
     "name": "stdout",
     "text": [
      "           X         Y     Y_Hat       MAE       MSE\n",
      "0   0.515848  0.266099  0.353317  0.034030  0.001158\n",
      "1   0.649045  0.421260  0.494716  0.099166  0.009834\n",
      "2   0.656447  0.430923  0.502574  0.106568  0.011357\n",
      "3   0.540377  0.292007  0.379356  0.009502  0.000090\n",
      "4   0.447624  0.200368  0.280892  0.102254  0.010456\n",
      "..       ...       ...       ...       ...       ...\n",
      "95  0.267722  0.071675  0.089910  0.282157  0.079613\n",
      "96  0.519520  0.269901  0.357215  0.030359  0.000922\n",
      "97  0.478370  0.228838  0.313531  0.071509  0.005113\n",
      "98  0.812193  0.659658  0.667911  0.262315  0.068809\n",
      "99  0.767444  0.588971  0.620407  0.217566  0.047335\n",
      "\n",
      "[100 rows x 5 columns]\n"
     ]
    }
   ],
   "metadata": {}
  },
  {
   "cell_type": "code",
   "execution_count": 23,
   "source": [
    "tbl.to_csv('data.csv')"
   ],
   "outputs": [],
   "metadata": {}
  }
 ],
 "metadata": {
  "orig_nbformat": 4,
  "language_info": {
   "name": "python",
   "version": "3.8.8",
   "mimetype": "text/x-python",
   "codemirror_mode": {
    "name": "ipython",
    "version": 3
   },
   "pygments_lexer": "ipython3",
   "nbconvert_exporter": "python",
   "file_extension": ".py"
  },
  "kernelspec": {
   "name": "python3",
   "display_name": "Python 3.8.8 64-bit ('base': conda)"
  },
  "interpreter": {
   "hash": "34dfee18d5f4a96df9a8fcc719c91cf50e8ed50de2aa108bf45cd20982063274"
  }
 },
 "nbformat": 4,
 "nbformat_minor": 2
}