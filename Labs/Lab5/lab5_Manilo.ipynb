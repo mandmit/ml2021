{
 "cells": [
  {
   "cell_type": "markdown",
   "source": [
    "# Лабораторна робота №5\r\n",
    "## Студента групи МІТ-31 (підгрупа 2)\r\n",
    "## Маніла Дмитра Олексійовича"
   ],
   "metadata": {}
  },
  {
   "cell_type": "markdown",
   "source": [
    "# Завдання\r\n",
    "1.  Виконати вирішення задач регресії та класифікації для наборів даних, що використовувалися в лабораторних роботах 2,3 з використанням Tensorflow & NN\r\n",
    "2.  Отримані результати викласти на github у репозиторій ml2021 в основну (default) гілку в папці Lab5."
   ],
   "metadata": {}
  },
  {
   "cell_type": "code",
   "execution_count": 2,
   "source": [
    "import tensorflow as tf\r\n",
    "import matplotlib.pyplot as plt\r\n",
    "import numpy as np\r\n",
    "import pandas as pd\r\n",
    "from tensorflow.keras.optimizers import SGD, Adam\r\n",
    "from tensorflow.keras.losses import mae, mse"
   ],
   "outputs": [],
   "metadata": {}
  },
  {
   "cell_type": "code",
   "execution_count": 3,
   "source": [
    "model_1 = pd.read_csv(\"./owner.csv\")"
   ],
   "outputs": [],
   "metadata": {}
  },
  {
   "cell_type": "code",
   "execution_count": 4,
   "source": [
    "insurance = model_1\r\n",
    "insurance.head()"
   ],
   "outputs": [
    {
     "output_type": "execute_result",
     "data": {
      "text/html": [
       "<div>\n",
       "<style scoped>\n",
       "    .dataframe tbody tr th:only-of-type {\n",
       "        vertical-align: middle;\n",
       "    }\n",
       "\n",
       "    .dataframe tbody tr th {\n",
       "        vertical-align: top;\n",
       "    }\n",
       "\n",
       "    .dataframe thead th {\n",
       "        text-align: right;\n",
       "    }\n",
       "</style>\n",
       "<table border=\"1\" class=\"dataframe\">\n",
       "  <thead>\n",
       "    <tr style=\"text-align: right;\">\n",
       "      <th></th>\n",
       "      <th>Unnamed: 0</th>\n",
       "      <th>salary</th>\n",
       "      <th>age</th>\n",
       "      <th>degree</th>\n",
       "      <th>gender</th>\n",
       "      <th>credits</th>\n",
       "      <th>is_gamer</th>\n",
       "    </tr>\n",
       "  </thead>\n",
       "  <tbody>\n",
       "    <tr>\n",
       "      <th>0</th>\n",
       "      <td>0</td>\n",
       "      <td>3996</td>\n",
       "      <td>0</td>\n",
       "      <td>0</td>\n",
       "      <td>1</td>\n",
       "      <td>1</td>\n",
       "      <td>0</td>\n",
       "    </tr>\n",
       "    <tr>\n",
       "      <th>1</th>\n",
       "      <td>1</td>\n",
       "      <td>1016</td>\n",
       "      <td>1</td>\n",
       "      <td>0</td>\n",
       "      <td>0</td>\n",
       "      <td>0</td>\n",
       "      <td>0</td>\n",
       "    </tr>\n",
       "    <tr>\n",
       "      <th>2</th>\n",
       "      <td>2</td>\n",
       "      <td>420</td>\n",
       "      <td>0</td>\n",
       "      <td>1</td>\n",
       "      <td>0</td>\n",
       "      <td>1</td>\n",
       "      <td>1</td>\n",
       "    </tr>\n",
       "    <tr>\n",
       "      <th>3</th>\n",
       "      <td>3</td>\n",
       "      <td>2893</td>\n",
       "      <td>1</td>\n",
       "      <td>1</td>\n",
       "      <td>0</td>\n",
       "      <td>0</td>\n",
       "      <td>1</td>\n",
       "    </tr>\n",
       "    <tr>\n",
       "      <th>4</th>\n",
       "      <td>4</td>\n",
       "      <td>4010</td>\n",
       "      <td>1</td>\n",
       "      <td>0</td>\n",
       "      <td>0</td>\n",
       "      <td>1</td>\n",
       "      <td>1</td>\n",
       "    </tr>\n",
       "  </tbody>\n",
       "</table>\n",
       "</div>"
      ],
      "text/plain": [
       "   Unnamed: 0  salary  age  degree  gender  credits  is_gamer\n",
       "0           0    3996    0       0       1        1         0\n",
       "1           1    1016    1       0       0        0         0\n",
       "2           2     420    0       1       0        1         1\n",
       "3           3    2893    1       1       0        0         1\n",
       "4           4    4010    1       0       0        1         1"
      ]
     },
     "metadata": {},
     "execution_count": 4
    }
   ],
   "metadata": {}
  },
  {
   "cell_type": "code",
   "execution_count": 5,
   "source": [
    "insurance.isna().sum()"
   ],
   "outputs": [
    {
     "output_type": "execute_result",
     "data": {
      "text/plain": [
       "Unnamed: 0    0\n",
       "salary        0\n",
       "age           0\n",
       "degree        0\n",
       "gender        0\n",
       "credits       0\n",
       "is_gamer      0\n",
       "dtype: int64"
      ]
     },
     "metadata": {},
     "execution_count": 5
    }
   ],
   "metadata": {}
  },
  {
   "cell_type": "code",
   "execution_count": 6,
   "source": [
    "insurance=pd.get_dummies(insurance)\r\n",
    "\r\n",
    "insurance.head(3)"
   ],
   "outputs": [
    {
     "output_type": "execute_result",
     "data": {
      "text/html": [
       "<div>\n",
       "<style scoped>\n",
       "    .dataframe tbody tr th:only-of-type {\n",
       "        vertical-align: middle;\n",
       "    }\n",
       "\n",
       "    .dataframe tbody tr th {\n",
       "        vertical-align: top;\n",
       "    }\n",
       "\n",
       "    .dataframe thead th {\n",
       "        text-align: right;\n",
       "    }\n",
       "</style>\n",
       "<table border=\"1\" class=\"dataframe\">\n",
       "  <thead>\n",
       "    <tr style=\"text-align: right;\">\n",
       "      <th></th>\n",
       "      <th>Unnamed: 0</th>\n",
       "      <th>salary</th>\n",
       "      <th>age</th>\n",
       "      <th>degree</th>\n",
       "      <th>gender</th>\n",
       "      <th>credits</th>\n",
       "      <th>is_gamer</th>\n",
       "    </tr>\n",
       "  </thead>\n",
       "  <tbody>\n",
       "    <tr>\n",
       "      <th>0</th>\n",
       "      <td>0</td>\n",
       "      <td>3996</td>\n",
       "      <td>0</td>\n",
       "      <td>0</td>\n",
       "      <td>1</td>\n",
       "      <td>1</td>\n",
       "      <td>0</td>\n",
       "    </tr>\n",
       "    <tr>\n",
       "      <th>1</th>\n",
       "      <td>1</td>\n",
       "      <td>1016</td>\n",
       "      <td>1</td>\n",
       "      <td>0</td>\n",
       "      <td>0</td>\n",
       "      <td>0</td>\n",
       "      <td>0</td>\n",
       "    </tr>\n",
       "    <tr>\n",
       "      <th>2</th>\n",
       "      <td>2</td>\n",
       "      <td>420</td>\n",
       "      <td>0</td>\n",
       "      <td>1</td>\n",
       "      <td>0</td>\n",
       "      <td>1</td>\n",
       "      <td>1</td>\n",
       "    </tr>\n",
       "  </tbody>\n",
       "</table>\n",
       "</div>"
      ],
      "text/plain": [
       "   Unnamed: 0  salary  age  degree  gender  credits  is_gamer\n",
       "0           0    3996    0       0       1        1         0\n",
       "1           1    1016    1       0       0        0         0\n",
       "2           2     420    0       1       0        1         1"
      ]
     },
     "metadata": {},
     "execution_count": 6
    }
   ],
   "metadata": {}
  },
  {
   "cell_type": "code",
   "execution_count": 7,
   "source": [
    "X=insurance.drop(\"salary\",axis=1)\r\n",
    "y=insurance[\"salary\"]\r\n",
    "\r\n",
    "X.head(), y.head()"
   ],
   "outputs": [
    {
     "output_type": "execute_result",
     "data": {
      "text/plain": [
       "(   Unnamed: 0  age  degree  gender  credits  is_gamer\n",
       " 0           0    0       0       1        1         0\n",
       " 1           1    1       0       0        0         0\n",
       " 2           2    0       1       0        1         1\n",
       " 3           3    1       1       0        0         1\n",
       " 4           4    1       0       0        1         1,\n",
       " 0    3996\n",
       " 1    1016\n",
       " 2     420\n",
       " 3    2893\n",
       " 4    4010\n",
       " Name: salary, dtype: int64)"
      ]
     },
     "metadata": {},
     "execution_count": 7
    }
   ],
   "metadata": {}
  },
  {
   "cell_type": "code",
   "execution_count": 8,
   "source": [
    "from sklearn.model_selection import train_test_split \r\n",
    "X_train,X_test,y_train,y_test = train_test_split(X,y,test_size=0.2,random_state=48)\r\n",
    "\r\n",
    "\r\n",
    "tf.random.set_seed=13\r\n",
    "\r\n",
    "ins_model = tf.keras.Sequential([ \r\n",
    "    tf.keras.layers.Dense(10),\r\n",
    "    tf.keras.layers.Dense(1)\r\n",
    "])\r\n",
    "\r\n",
    "ins_model.compile(\r\n",
    "    loss='mse',\r\n",
    "    optimizer=Adam(),\r\n",
    "    metrics=['mse']\r\n",
    ")\r\n",
    "\r\n",
    "X_train.shape"
   ],
   "outputs": [
    {
     "output_type": "execute_result",
     "data": {
      "text/plain": [
       "(266, 6)"
      ]
     },
     "metadata": {},
     "execution_count": 8
    }
   ],
   "metadata": {}
  },
  {
   "cell_type": "code",
   "execution_count": 9,
   "source": [
    "ins_history = ins_model.fit(X_train,y_train,epochs=10)"
   ],
   "outputs": [
    {
     "output_type": "stream",
     "name": "stdout",
     "text": [
      "Epoch 1/10\n",
      "9/9 [==============================] - 1s 2ms/step - loss: 8891983.0000 - mse: 8891983.0000\n",
      "Epoch 2/10\n",
      "9/9 [==============================] - 0s 2ms/step - loss: 8844877.0000 - mse: 8844877.0000\n",
      "Epoch 3/10\n",
      "9/9 [==============================] - 0s 2ms/step - loss: 8796972.0000 - mse: 8796972.0000\n",
      "Epoch 4/10\n",
      "9/9 [==============================] - 0s 2ms/step - loss: 8748783.0000 - mse: 8748783.0000\n",
      "Epoch 5/10\n",
      "9/9 [==============================] - 0s 2ms/step - loss: 8701055.0000 - mse: 8701055.0000\n",
      "Epoch 6/10\n",
      "9/9 [==============================] - 0s 2ms/step - loss: 8651463.0000 - mse: 8651463.0000\n",
      "Epoch 7/10\n",
      "9/9 [==============================] - 0s 2ms/step - loss: 8601608.0000 - mse: 8601607.0000\n",
      "Epoch 8/10\n",
      "9/9 [==============================] - 0s 2ms/step - loss: 8552108.0000 - mse: 8552108.0000\n",
      "Epoch 9/10\n",
      "9/9 [==============================] - 0s 2ms/step - loss: 8499893.0000 - mse: 8499893.0000\n",
      "Epoch 10/10\n",
      "9/9 [==============================] - 0s 2ms/step - loss: 8447252.0000 - mse: 8447252.0000\n"
     ]
    }
   ],
   "metadata": {}
  },
  {
   "cell_type": "code",
   "execution_count": 10,
   "source": [
    "ins_history2 = ins_model.fit(X_train,y_train,epochs=200, verbose=0)\r\n",
    "\r\n",
    "score1=ins_model.evaluate(X_test,y_test)"
   ],
   "outputs": [
    {
     "output_type": "stream",
     "name": "stdout",
     "text": [
      "3/3 [==============================] - 0s 2ms/step - loss: 3505378.5000 - mse: 3505378.5000\n"
     ]
    }
   ],
   "metadata": {}
  },
  {
   "cell_type": "code",
   "execution_count": 11,
   "source": [
    "ins_model.save(\"i_mod.h5\")\r\n",
    "\r\n",
    "ins_model_loaded=tf.keras.models.load_model(\"i_mod.h5\")\r\n",
    "\r\n",
    "\r\n",
    "y1=ins_model.predict(X_test)\r\n",
    "y2=ins_model_loaded.predict(X_test)\r\n",
    "\r\n",
    "(y1-y2).sum()\r\n",
    "\r\n",
    "X_train.head()"
   ],
   "outputs": [
    {
     "output_type": "execute_result",
     "data": {
      "text/html": [
       "<div>\n",
       "<style scoped>\n",
       "    .dataframe tbody tr th:only-of-type {\n",
       "        vertical-align: middle;\n",
       "    }\n",
       "\n",
       "    .dataframe tbody tr th {\n",
       "        vertical-align: top;\n",
       "    }\n",
       "\n",
       "    .dataframe thead th {\n",
       "        text-align: right;\n",
       "    }\n",
       "</style>\n",
       "<table border=\"1\" class=\"dataframe\">\n",
       "  <thead>\n",
       "    <tr style=\"text-align: right;\">\n",
       "      <th></th>\n",
       "      <th>Unnamed: 0</th>\n",
       "      <th>age</th>\n",
       "      <th>degree</th>\n",
       "      <th>gender</th>\n",
       "      <th>credits</th>\n",
       "      <th>is_gamer</th>\n",
       "    </tr>\n",
       "  </thead>\n",
       "  <tbody>\n",
       "    <tr>\n",
       "      <th>58</th>\n",
       "      <td>58</td>\n",
       "      <td>1</td>\n",
       "      <td>1</td>\n",
       "      <td>1</td>\n",
       "      <td>0</td>\n",
       "      <td>1</td>\n",
       "    </tr>\n",
       "    <tr>\n",
       "      <th>259</th>\n",
       "      <td>259</td>\n",
       "      <td>0</td>\n",
       "      <td>1</td>\n",
       "      <td>1</td>\n",
       "      <td>0</td>\n",
       "      <td>1</td>\n",
       "    </tr>\n",
       "    <tr>\n",
       "      <th>95</th>\n",
       "      <td>95</td>\n",
       "      <td>0</td>\n",
       "      <td>0</td>\n",
       "      <td>0</td>\n",
       "      <td>0</td>\n",
       "      <td>0</td>\n",
       "    </tr>\n",
       "    <tr>\n",
       "      <th>131</th>\n",
       "      <td>131</td>\n",
       "      <td>1</td>\n",
       "      <td>0</td>\n",
       "      <td>1</td>\n",
       "      <td>1</td>\n",
       "      <td>0</td>\n",
       "    </tr>\n",
       "    <tr>\n",
       "      <th>286</th>\n",
       "      <td>286</td>\n",
       "      <td>1</td>\n",
       "      <td>1</td>\n",
       "      <td>1</td>\n",
       "      <td>1</td>\n",
       "      <td>0</td>\n",
       "    </tr>\n",
       "  </tbody>\n",
       "</table>\n",
       "</div>"
      ],
      "text/plain": [
       "     Unnamed: 0  age  degree  gender  credits  is_gamer\n",
       "58           58    1       1       1        0         1\n",
       "259         259    0       1       1        0         1\n",
       "95           95    0       0       0        0         0\n",
       "131         131    1       0       1        1         0\n",
       "286         286    1       1       1        1         0"
      ]
     },
     "metadata": {},
     "execution_count": 11
    }
   ],
   "metadata": {}
  },
  {
   "cell_type": "code",
   "execution_count": 12,
   "source": [
    "from sklearn.compose import make_column_transformer\r\n",
    "from sklearn.preprocessing import MinMaxScaler, OneHotEncoder\r\n",
    "\r\n",
    "insurance2 = model_1\r\n",
    "insurance2.head(2)"
   ],
   "outputs": [
    {
     "output_type": "execute_result",
     "data": {
      "text/html": [
       "<div>\n",
       "<style scoped>\n",
       "    .dataframe tbody tr th:only-of-type {\n",
       "        vertical-align: middle;\n",
       "    }\n",
       "\n",
       "    .dataframe tbody tr th {\n",
       "        vertical-align: top;\n",
       "    }\n",
       "\n",
       "    .dataframe thead th {\n",
       "        text-align: right;\n",
       "    }\n",
       "</style>\n",
       "<table border=\"1\" class=\"dataframe\">\n",
       "  <thead>\n",
       "    <tr style=\"text-align: right;\">\n",
       "      <th></th>\n",
       "      <th>Unnamed: 0</th>\n",
       "      <th>salary</th>\n",
       "      <th>age</th>\n",
       "      <th>degree</th>\n",
       "      <th>gender</th>\n",
       "      <th>credits</th>\n",
       "      <th>is_gamer</th>\n",
       "    </tr>\n",
       "  </thead>\n",
       "  <tbody>\n",
       "    <tr>\n",
       "      <th>0</th>\n",
       "      <td>0</td>\n",
       "      <td>3996</td>\n",
       "      <td>0</td>\n",
       "      <td>0</td>\n",
       "      <td>1</td>\n",
       "      <td>1</td>\n",
       "      <td>0</td>\n",
       "    </tr>\n",
       "    <tr>\n",
       "      <th>1</th>\n",
       "      <td>1</td>\n",
       "      <td>1016</td>\n",
       "      <td>1</td>\n",
       "      <td>0</td>\n",
       "      <td>0</td>\n",
       "      <td>0</td>\n",
       "      <td>0</td>\n",
       "    </tr>\n",
       "  </tbody>\n",
       "</table>\n",
       "</div>"
      ],
      "text/plain": [
       "   Unnamed: 0  salary  age  degree  gender  credits  is_gamer\n",
       "0           0    3996    0       0       1        1         0\n",
       "1           1    1016    1       0       0        0         0"
      ]
     },
     "metadata": {},
     "execution_count": 12
    }
   ],
   "metadata": {}
  },
  {
   "cell_type": "code",
   "execution_count": 13,
   "source": [
    "ct = make_column_transformer(\r\n",
    "    (MinMaxScaler(),[\"age\", \"degree\",\"gender\"]), \r\n",
    "    (OneHotEncoder(handle_unknown=\"ignore\"),['credits','is_gamer'])\r\n",
    ")\r\n",
    "X=insurance2.drop(\"salary\", axis=1)\r\n",
    "y = insurance2[\"salary\"]\r\n",
    "\r\n",
    "X_train,X_test,y_train,y_test = train_test_split(X,y,test_size=0.2)\r\n",
    "\r\n",
    "ct.fit(X_train)\r\n",
    "\r\n",
    "X_train_norm = ct.transform(X_train)\r\n",
    "X_test_norm = ct.transform(X_test)\r\n",
    "\r\n",
    "im3= tf.keras.Sequential([ \r\n",
    "    \r\n",
    "    tf.keras.layers.Dense(100),\r\n",
    "    tf.keras.layers.Dense(10),\r\n",
    "    tf.keras.layers.Dense(1)\r\n",
    "])"
   ],
   "outputs": [],
   "metadata": {}
  },
  {
   "cell_type": "code",
   "execution_count": 14,
   "source": [
    "im3.compile(\r\n",
    "    loss=mae, \r\n",
    "    optimizer=tf.keras.optimizers.Adam(), \r\n",
    "    metrics=[\"mae\"]\r\n",
    ")\r\n",
    "history_im3=im3.fit(X_train_norm,y_train,validation_split=0.3,epochs=30,verbose=0)\r\n",
    "\r\n",
    "im3.evaluate(X_test_norm,y_test)\r\n",
    "\r\n",
    "X_train.shape"
   ],
   "outputs": [
    {
     "output_type": "stream",
     "name": "stdout",
     "text": [
      "3/3 [==============================] - 0s 2ms/step - loss: 2285.8467 - mae: 2285.8467\n"
     ]
    },
    {
     "output_type": "execute_result",
     "data": {
      "text/plain": [
       "(266, 6)"
      ]
     },
     "metadata": {},
     "execution_count": 14
    }
   ],
   "metadata": {}
  },
  {
   "cell_type": "code",
   "execution_count": 15,
   "source": [
    "plt.plot(history_im3.history['loss'])\r\n",
    "plt.plot(history_im3.history['val_loss'])\r\n",
    "plt.title('model loss')\r\n",
    "plt.ylabel('loss')\r\n",
    "plt.xlabel('epoch')\r\n",
    "plt.legend(['loss', 'val_loss'], loc='upper right')\r\n",
    "plt.show()"
   ],
   "outputs": [
    {
     "output_type": "display_data",
     "data": {
      "image/png": "[encoded data removed]",
      "text/plain": [
       "<Figure size 432x288 with 1 Axes>"
      ]
     },
     "metadata": {
      "needs_background": "light"
     }
    }
   ],
   "metadata": {}
  },
  {
   "cell_type": "code",
   "execution_count": 16,
   "source": [
    "import matplotlib as plt\r\n",
    "import sklearn.model_selection\r\n",
    "import sklearn.datasets\r\n",
    "import seaborn as sns"
   ],
   "outputs": [],
   "metadata": {}
  },
  {
   "cell_type": "code",
   "execution_count": 17,
   "source": [
    "from tensorflow.keras.datasets import fashion_mnist\r\n",
    "\r\n",
    "(train_data, train_labels), (test_data, test_labels) = fashion_mnist.load_data()"
   ],
   "outputs": [],
   "metadata": {}
  },
  {
   "cell_type": "code",
   "execution_count": 18,
   "source": [
    "print(f\"Training sample:\\n{train_data[0]}\\n\") \r\n",
    "print(f\"Training label: {train_labels[0]}\")"
   ],
   "outputs": [
    {
     "output_type": "stream",
     "name": "stdout",
     "text": [
      "Training sample:\n",
      "[[  0   0   0   0   0   0   0   0   0   0   0   0   0   0   0   0   0   0\n",
      "    0   0   0   0   0   0   0   0   0   0]\n",
      " [  0   0   0   0   0   0   0   0   0   0   0   0   0   0   0   0   0   0\n",
      "    0   0   0   0   0   0   0   0   0   0]\n",
      " [  0   0   0   0   0   0   0   0   0   0   0   0   0   0   0   0   0   0\n",
      "    0   0   0   0   0   0   0   0   0   0]\n",
      " [  0   0   0   0   0   0   0   0   0   0   0   0   1   0   0  13  73   0\n",
      "    0   1   4   0   0   0   0   1   1   0]\n",
      " [  0   0   0   0   0   0   0   0   0   0   0   0   3   0  36 136 127  62\n",
      "   54   0   0   0   1   3   4   0   0   3]\n",
      " [  0   0   0   0   0   0   0   0   0   0   0   0   6   0 102 204 176 134\n",
      "  144 123  23   0   0   0   0  12  10   0]\n",
      " [  0   0   0   0   0   0   0   0   0   0   0   0   0   0 155 236 207 178\n",
      "  107 156 161 109  64  23  77 130  72  15]\n",
      " [  0   0   0   0   0   0   0   0   0   0   0   1   0  69 207 223 218 216\n",
      "  216 163 127 121 122 146 141  88 172  66]\n",
      " [  0   0   0   0   0   0   0   0   0   1   1   1   0 200 232 232 233 229\n",
      "  223 223 215 213 164 127 123 196 229   0]\n",
      " [  0   0   0   0   0   0   0   0   0   0   0   0   0 183 225 216 223 228\n",
      "  235 227 224 222 224 221 223 245 173   0]\n",
      " [  0   0   0   0   0   0   0   0   0   0   0   0   0 193 228 218 213 198\n",
      "  180 212 210 211 213 223 220 243 202   0]\n",
      " [  0   0   0   0   0   0   0   0   0   1   3   0  12 219 220 212 218 192\n",
      "  169 227 208 218 224 212 226 197 209  52]\n",
      " [  0   0   0   0   0   0   0   0   0   0   6   0  99 244 222 220 218 203\n",
      "  198 221 215 213 222 220 245 119 167  56]\n",
      " [  0   0   0   0   0   0   0   0   0   4   0   0  55 236 228 230 228 240\n",
      "  232 213 218 223 234 217 217 209  92   0]\n",
      " [  0   0   1   4   6   7   2   0   0   0   0   0 237 226 217 223 222 219\n",
      "  222 221 216 223 229 215 218 255  77   0]\n",
      " [  0   3   0   0   0   0   0   0   0  62 145 204 228 207 213 221 218 208\n",
      "  211 218 224 223 219 215 224 244 159   0]\n",
      " [  0   0   0   0  18  44  82 107 189 228 220 222 217 226 200 205 211 230\n",
      "  224 234 176 188 250 248 233 238 215   0]\n",
      " [  0  57 187 208 224 221 224 208 204 214 208 209 200 159 245 193 206 223\n",
      "  255 255 221 234 221 211 220 232 246   0]\n",
      " [  3 202 228 224 221 211 211 214 205 205 205 220 240  80 150 255 229 221\n",
      "  188 154 191 210 204 209 222 228 225   0]\n",
      " [ 98 233 198 210 222 229 229 234 249 220 194 215 217 241  65  73 106 117\n",
      "  168 219 221 215 217 223 223 224 229  29]\n",
      " [ 75 204 212 204 193 205 211 225 216 185 197 206 198 213 240 195 227 245\n",
      "  239 223 218 212 209 222 220 221 230  67]\n",
      " [ 48 203 183 194 213 197 185 190 194 192 202 214 219 221 220 236 225 216\n",
      "  199 206 186 181 177 172 181 205 206 115]\n",
      " [  0 122 219 193 179 171 183 196 204 210 213 207 211 210 200 196 194 191\n",
      "  195 191 198 192 176 156 167 177 210  92]\n",
      " [  0   0  74 189 212 191 175 172 175 181 185 188 189 188 193 198 204 209\n",
      "  210 210 211 188 188 194 192 216 170   0]\n",
      " [  2   0   0   0  66 200 222 237 239 242 246 243 244 221 220 193 191 179\n",
      "  182 182 181 176 166 168  99  58   0   0]\n",
      " [  0   0   0   0   0   0   0  40  61  44  72  41  35   0   0   0   0   0\n",
      "    0   0   0   0   0   0   0   0   0   0]\n",
      " [  0   0   0   0   0   0   0   0   0   0   0   0   0   0   0   0   0   0\n",
      "    0   0   0   0   0   0   0   0   0   0]\n",
      " [  0   0   0   0   0   0   0   0   0   0   0   0   0   0   0   0   0   0\n",
      "    0   0   0   0   0   0   0   0   0   0]]\n",
      "\n",
      "Training label: 9\n"
     ]
    }
   ],
   "metadata": {}
  },
  {
   "cell_type": "code",
   "execution_count": 19,
   "source": [
    "train_data.shape, train_labels.shape, test_data.shape, test_labels.shape"
   ],
   "outputs": [
    {
     "output_type": "execute_result",
     "data": {
      "text/plain": [
       "((60000, 28, 28), (60000,), (10000, 28, 28), (10000,))"
      ]
     },
     "metadata": {},
     "execution_count": 19
    }
   ],
   "metadata": {}
  },
  {
   "cell_type": "code",
   "execution_count": 20,
   "source": [
    "train_data[0].shape, train_labels[0].shape"
   ],
   "outputs": [
    {
     "output_type": "execute_result",
     "data": {
      "text/plain": [
       "((28, 28), ())"
      ]
     },
     "metadata": {},
     "execution_count": 20
    }
   ],
   "metadata": {}
  },
  {
   "cell_type": "code",
   "execution_count": 21,
   "source": [
    "train_labels[7]"
   ],
   "outputs": [
    {
     "output_type": "execute_result",
     "data": {
      "text/plain": [
       "2"
      ]
     },
     "metadata": {},
     "execution_count": 21
    }
   ],
   "metadata": {}
  },
  {
   "cell_type": "code",
   "execution_count": 22,
   "source": [
    "class_names = ['T-shirt/top', 'Trouser', 'Pullover', 'Dress', 'Coat', \r\n",
    "               'Sandal', 'Shirt', 'Sneaker', 'Bag', 'Ankle boot']\r\n",
    "len(class_names)"
   ],
   "outputs": [
    {
     "output_type": "execute_result",
     "data": {
      "text/plain": [
       "10"
      ]
     },
     "metadata": {},
     "execution_count": 22
    }
   ],
   "metadata": {}
  },
  {
   "cell_type": "code",
   "execution_count": 23,
   "source": [
    "model_11 = tf.keras.Sequential([\r\n",
    "  tf.keras.layers.Flatten(input_shape=(28, 28)),\r\n",
    "  tf.keras.layers.Dense(4, activation=\"relu\"),\r\n",
    "  tf.keras.layers.Dense(4, activation=\"relu\"),\r\n",
    "  tf.keras.layers.Dense(10, activation=\"softmax\")\r\n",
    "])\r\n",
    "\r\n",
    "# Compile the model\r\n",
    "model_11.compile(loss=tf.keras.losses.SparseCategoricalCrossentropy(),\r\n",
    "                 optimizer=tf.keras.optimizers.Adam(),\r\n",
    "                 metrics=[\"accuracy\"])\r\n",
    "\r\n",
    "# Fit the model\r\n",
    "non_norm_history = model_11.fit(train_data,\r\n",
    "                                train_labels,\r\n",
    "                                epochs=10,\r\n",
    "                                validation_data=(test_data, test_labels))"
   ],
   "outputs": [
    {
     "output_type": "stream",
     "name": "stdout",
     "text": [
      "Epoch 1/10\n",
      "1875/1875 [==============================] - 4s 2ms/step - loss: 2.3534 - accuracy: 0.0983 - val_loss: 2.3026 - val_accuracy: 0.1000\n",
      "Epoch 2/10\n",
      "1875/1875 [==============================] - 4s 2ms/step - loss: 2.3028 - accuracy: 0.0978 - val_loss: 2.3027 - val_accuracy: 0.1000\n",
      "Epoch 3/10\n",
      "1875/1875 [==============================] - 4s 2ms/step - loss: 2.3027 - accuracy: 0.0969 - val_loss: 2.3026 - val_accuracy: 0.1000\n",
      "Epoch 4/10\n",
      "1875/1875 [==============================] - 4s 2ms/step - loss: 2.2907 - accuracy: 0.1045 - val_loss: 2.2603 - val_accuracy: 0.1298\n",
      "Epoch 5/10\n",
      "1875/1875 [==============================] - 4s 2ms/step - loss: 2.2423 - accuracy: 0.1264 - val_loss: 2.2353 - val_accuracy: 0.1289\n",
      "Epoch 6/10\n",
      "1875/1875 [==============================] - 4s 2ms/step - loss: 2.0911 - accuracy: 0.1684 - val_loss: 1.8192 - val_accuracy: 0.2092\n",
      "Epoch 7/10\n",
      "1875/1875 [==============================] - 4s 2ms/step - loss: 1.7370 - accuracy: 0.2600 - val_loss: 1.6801 - val_accuracy: 0.2876\n",
      "Epoch 8/10\n",
      "1875/1875 [==============================] - 4s 2ms/step - loss: 1.6387 - accuracy: 0.3108 - val_loss: 1.5994 - val_accuracy: 0.3253\n",
      "Epoch 9/10\n",
      "1875/1875 [==============================] - 4s 2ms/step - loss: 1.5664 - accuracy: 0.3472 - val_loss: 1.5114 - val_accuracy: 0.3790\n",
      "Epoch 10/10\n",
      "1875/1875 [==============================] - 4s 2ms/step - loss: 1.4291 - accuracy: 0.4283 - val_loss: 1.3756 - val_accuracy: 0.4381\n"
     ]
    }
   ],
   "metadata": {}
  },
  {
   "cell_type": "code",
   "execution_count": 24,
   "source": [
    "train_data.min(), train_data.max()\r\n",
    "\r\n",
    "# Divide train and test images by the maximum value (normalize it)\r\n",
    "train_data = train_data / 255.0\r\n",
    "test_data = test_data / 255.0\r\n",
    "\r\n",
    "# Check the min and max values of the training data\r\n",
    "train_data.min(), train_data.max()"
   ],
   "outputs": [
    {
     "output_type": "execute_result",
     "data": {
      "text/plain": [
       "(0.0, 1.0)"
      ]
     },
     "metadata": {},
     "execution_count": 24
    }
   ],
   "metadata": {}
  },
  {
   "cell_type": "code",
   "execution_count": 25,
   "source": [
    "model_12 = tf.keras.Sequential([\r\n",
    "  tf.keras.layers.Flatten(input_shape=(28, 28)), # input layer (we had to reshape 28x28 to 784)\r\n",
    "  tf.keras.layers.Dense(4, activation=\"relu\"),\r\n",
    "  tf.keras.layers.Dense(4, activation=\"relu\"),\r\n",
    "  tf.keras.layers.Dense(10, activation=\"softmax\") # output shape is 10, activation is softmax\r\n",
    "])\r\n",
    "\r\n",
    "# Compile the model\r\n",
    "model_12.compile(loss=tf.keras.losses.SparseCategoricalCrossentropy(),\r\n",
    "                 optimizer=tf.keras.optimizers.Adam(),\r\n",
    "                 metrics=[\"accuracy\"])\r\n",
    "\r\n",
    "# Fit the model (to the normalized data)\r\n",
    "norm_history = model_12.fit(train_data,\r\n",
    "                            train_labels,\r\n",
    "                            epochs=10,\r\n",
    "                            validation_data=(test_data, test_labels))"
   ],
   "outputs": [
    {
     "output_type": "stream",
     "name": "stdout",
     "text": [
      "Epoch 1/10\n",
      "1875/1875 [==============================] - 5s 2ms/step - loss: 1.2493 - accuracy: 0.5015 - val_loss: 0.9628 - val_accuracy: 0.6194\n",
      "Epoch 2/10\n",
      "1875/1875 [==============================] - 5s 3ms/step - loss: 0.8506 - accuracy: 0.6729 - val_loss: 0.7900 - val_accuracy: 0.7112\n",
      "Epoch 3/10\n",
      "1875/1875 [==============================] - 5s 3ms/step - loss: 0.7294 - accuracy: 0.7263 - val_loss: 0.7259 - val_accuracy: 0.7277\n",
      "Epoch 4/10\n",
      "1875/1875 [==============================] - 6s 3ms/step - loss: 0.6804 - accuracy: 0.7418 - val_loss: 0.6883 - val_accuracy: 0.7414\n",
      "Epoch 5/10\n",
      "1875/1875 [==============================] - 6s 3ms/step - loss: 0.6472 - accuracy: 0.7554 - val_loss: 0.6660 - val_accuracy: 0.7583\n",
      "Epoch 6/10\n",
      "1875/1875 [==============================] - 5s 3ms/step - loss: 0.6239 - accuracy: 0.7718 - val_loss: 0.6585 - val_accuracy: 0.7670\n",
      "Epoch 7/10\n",
      "1875/1875 [==============================] - 7s 3ms/step - loss: 0.6040 - accuracy: 0.7826 - val_loss: 0.6376 - val_accuracy: 0.7734\n",
      "Epoch 8/10\n",
      "1875/1875 [==============================] - 6s 3ms/step - loss: 0.5903 - accuracy: 0.7884 - val_loss: 0.6266 - val_accuracy: 0.7772\n",
      "Epoch 9/10\n",
      "1875/1875 [==============================] - 6s 3ms/step - loss: 0.5808 - accuracy: 0.7908 - val_loss: 0.6232 - val_accuracy: 0.7786\n",
      "Epoch 10/10\n",
      "1875/1875 [==============================] - 6s 3ms/step - loss: 0.5733 - accuracy: 0.7942 - val_loss: 0.6190 - val_accuracy: 0.7802\n"
     ]
    }
   ],
   "metadata": {}
  },
  {
   "cell_type": "code",
   "execution_count": 26,
   "source": [
    "pd.DataFrame(non_norm_history.history).plot(title=\"Non-normalized Data\")\r\n",
    "pd.DataFrame(norm_history.history).plot(title=\"Normalized data\")"
   ],
   "outputs": [
    {
     "output_type": "execute_result",
     "data": {
      "text/plain": [
       "<AxesSubplot:title={'center':'Normalized data'}>"
      ]
     },
     "metadata": {},
     "execution_count": 26
    },
    {
     "output_type": "display_data",
     "data": {
      "image/png": "[encoded data removed]",
      "text/plain": [
       "<Figure size 432x288 with 1 Axes>"
      ]
     },
     "metadata": {
      "needs_background": "light"
     }
    },
    {
     "output_type": "display_data",
     "data": {
      "image/png": "[encoded data removed]",
      "text/plain": [
       "<Figure size 432x288 with 1 Axes>"
      ]
     },
     "metadata": {
      "needs_background": "light"
     }
    }
   ],
   "metadata": {}
  },
  {
   "cell_type": "code",
   "execution_count": 27,
   "source": [
    "model_13 = tf.keras.Sequential([\r\n",
    "  tf.keras.layers.Flatten(input_shape=(28, 28)), # input layer (we had to reshape 28x28 to 784)\r\n",
    "  tf.keras.layers.Dense(4, activation=\"relu\"),\r\n",
    "  tf.keras.layers.Dense(4, activation=\"relu\"),\r\n",
    "  tf.keras.layers.Dense(10, activation=\"softmax\") # output shape is 10, activation is softmax\r\n",
    "])\r\n",
    "\r\n",
    "# Compile the model\r\n",
    "model_13.compile(loss=tf.keras.losses.SparseCategoricalCrossentropy(),\r\n",
    "                 optimizer=tf.keras.optimizers.Adam(),\r\n",
    "                 metrics=[\"accuracy\"])\r\n",
    "\r\n",
    "# Create the learning rate callback\r\n",
    "lr_scheduler = tf.keras.callbacks.LearningRateScheduler(lambda epoch: 1e-3 * 10**(epoch/20))\r\n",
    "\r\n",
    "# Fit the model\r\n",
    "find_lr_history = model_13.fit(train_data,\r\n",
    "                               train_labels,\r\n",
    "                               epochs=40, # model already doing pretty good with current LR, probably don't need 100 epochs\r\n",
    "                               validation_data=(test_data, test_labels),\r\n",
    "                               callbacks=[lr_scheduler])"
   ],
   "outputs": [
    {
     "output_type": "stream",
     "name": "stdout",
     "text": [
      "Epoch 1/40\n",
      "1875/1875 [==============================] - 7s 3ms/step - loss: 1.1172 - accuracy: 0.5736 - val_loss: 0.7758 - val_accuracy: 0.7296\n",
      "Epoch 2/40\n",
      "1875/1875 [==============================] - 5s 3ms/step - loss: 0.7118 - accuracy: 0.7512 - val_loss: 0.6944 - val_accuracy: 0.7553\n",
      "Epoch 3/40\n",
      "1875/1875 [==============================] - 5s 3ms/step - loss: 0.6553 - accuracy: 0.7651 - val_loss: 0.6851 - val_accuracy: 0.7455\n",
      "Epoch 4/40\n",
      "1875/1875 [==============================] - 5s 3ms/step - loss: 0.6345 - accuracy: 0.7710 - val_loss: 0.6508 - val_accuracy: 0.7607\n",
      "Epoch 5/40\n",
      "1875/1875 [==============================] - 5s 3ms/step - loss: 0.6204 - accuracy: 0.7748 - val_loss: 0.6479 - val_accuracy: 0.7625\n",
      "Epoch 6/40\n",
      "1875/1875 [==============================] - 5s 3ms/step - loss: 0.6131 - accuracy: 0.7789 - val_loss: 0.6490 - val_accuracy: 0.7649\n",
      "Epoch 7/40\n",
      "1875/1875 [==============================] - 5s 2ms/step - loss: 0.6085 - accuracy: 0.7788 - val_loss: 0.6235 - val_accuracy: 0.7761\n",
      "Epoch 8/40\n",
      "1875/1875 [==============================] - 4s 2ms/step - loss: 0.6037 - accuracy: 0.7813 - val_loss: 0.6268 - val_accuracy: 0.7843\n",
      "Epoch 9/40\n",
      "1875/1875 [==============================] - 4s 2ms/step - loss: 0.6045 - accuracy: 0.7811 - val_loss: 0.6364 - val_accuracy: 0.7652\n",
      "Epoch 10/40\n",
      "1875/1875 [==============================] - 5s 2ms/step - loss: 0.6014 - accuracy: 0.7823 - val_loss: 0.6362 - val_accuracy: 0.7689\n",
      "Epoch 11/40\n",
      "1875/1875 [==============================] - 5s 3ms/step - loss: 0.6005 - accuracy: 0.7836 - val_loss: 0.6223 - val_accuracy: 0.7793\n",
      "Epoch 12/40\n",
      "1875/1875 [==============================] - 4s 2ms/step - loss: 0.5989 - accuracy: 0.7823 - val_loss: 0.6222 - val_accuracy: 0.7845\n",
      "Epoch 13/40\n",
      "1875/1875 [==============================] - 4s 2ms/step - loss: 0.6031 - accuracy: 0.7817 - val_loss: 0.6352 - val_accuracy: 0.7741\n",
      "Epoch 14/40\n",
      "1875/1875 [==============================] - 4s 2ms/step - loss: 0.6029 - accuracy: 0.7831 - val_loss: 0.6543 - val_accuracy: 0.7632\n",
      "Epoch 15/40\n",
      "1875/1875 [==============================] - 4s 2ms/step - loss: 0.6064 - accuracy: 0.7818 - val_loss: 0.6240 - val_accuracy: 0.7752\n",
      "Epoch 16/40\n",
      "1875/1875 [==============================] - 4s 2ms/step - loss: 0.6045 - accuracy: 0.7832 - val_loss: 0.6135 - val_accuracy: 0.7872\n",
      "Epoch 17/40\n",
      "1875/1875 [==============================] - 4s 2ms/step - loss: 0.6059 - accuracy: 0.7831 - val_loss: 0.6997 - val_accuracy: 0.7542\n",
      "Epoch 18/40\n",
      "1875/1875 [==============================] - 3s 2ms/step - loss: 0.6076 - accuracy: 0.7821 - val_loss: 0.6200 - val_accuracy: 0.7821\n",
      "Epoch 19/40\n",
      "1875/1875 [==============================] - 4s 2ms/step - loss: 0.6124 - accuracy: 0.7816 - val_loss: 0.6301 - val_accuracy: 0.7793\n",
      "Epoch 20/40\n",
      "1875/1875 [==============================] - 3s 2ms/step - loss: 0.6146 - accuracy: 0.7804 - val_loss: 0.6535 - val_accuracy: 0.7707\n",
      "Epoch 21/40\n",
      "1875/1875 [==============================] - 4s 2ms/step - loss: 0.6164 - accuracy: 0.7800 - val_loss: 0.6938 - val_accuracy: 0.7636\n",
      "Epoch 22/40\n",
      "1875/1875 [==============================] - 4s 2ms/step - loss: 0.6208 - accuracy: 0.7794 - val_loss: 0.6605 - val_accuracy: 0.7771\n",
      "Epoch 23/40\n",
      "1875/1875 [==============================] - 4s 2ms/step - loss: 0.6241 - accuracy: 0.7785 - val_loss: 0.6228 - val_accuracy: 0.7851\n",
      "Epoch 24/40\n",
      "1875/1875 [==============================] - 4s 2ms/step - loss: 0.6332 - accuracy: 0.7769 - val_loss: 0.7724 - val_accuracy: 0.7278\n",
      "Epoch 25/40\n",
      "1875/1875 [==============================] - 4s 2ms/step - loss: 0.6400 - accuracy: 0.7743 - val_loss: 0.6439 - val_accuracy: 0.7778\n",
      "Epoch 26/40\n",
      "1875/1875 [==============================] - 4s 2ms/step - loss: 0.6490 - accuracy: 0.7722 - val_loss: 0.6489 - val_accuracy: 0.7761\n",
      "Epoch 27/40\n",
      "1875/1875 [==============================] - 4s 2ms/step - loss: 0.6558 - accuracy: 0.7690 - val_loss: 0.6529 - val_accuracy: 0.7722\n",
      "Epoch 28/40\n",
      "1875/1875 [==============================] - 4s 2ms/step - loss: 0.6678 - accuracy: 0.7638 - val_loss: 0.6969 - val_accuracy: 0.7698\n",
      "Epoch 29/40\n",
      "1875/1875 [==============================] - 4s 2ms/step - loss: 0.6807 - accuracy: 0.7606 - val_loss: 0.7773 - val_accuracy: 0.7314\n",
      "Epoch 30/40\n",
      "1875/1875 [==============================] - 4s 2ms/step - loss: 0.6989 - accuracy: 0.7536 - val_loss: 0.7289 - val_accuracy: 0.7614\n",
      "Epoch 31/40\n",
      "1875/1875 [==============================] - 4s 2ms/step - loss: 0.7085 - accuracy: 0.7489 - val_loss: 0.8512 - val_accuracy: 0.7078\n",
      "Epoch 32/40\n",
      "1875/1875 [==============================] - 5s 3ms/step - loss: 0.7316 - accuracy: 0.7414 - val_loss: 0.7315 - val_accuracy: 0.7428\n",
      "Epoch 33/40\n",
      "1875/1875 [==============================] - 5s 2ms/step - loss: 0.7700 - accuracy: 0.7237 - val_loss: 0.7807 - val_accuracy: 0.7381\n",
      "Epoch 34/40\n",
      "1875/1875 [==============================] - 4s 2ms/step - loss: 0.7853 - accuracy: 0.7106 - val_loss: 1.1854 - val_accuracy: 0.5956\n",
      "Epoch 35/40\n",
      "1875/1875 [==============================] - 5s 3ms/step - loss: 0.8223 - accuracy: 0.6997 - val_loss: 1.0938 - val_accuracy: 0.6176\n",
      "Epoch 36/40\n",
      "1875/1875 [==============================] - 4s 2ms/step - loss: 0.8774 - accuracy: 0.6827 - val_loss: 0.8694 - val_accuracy: 0.6552\n",
      "Epoch 37/40\n",
      "1875/1875 [==============================] - 4s 2ms/step - loss: 0.9561 - accuracy: 0.6413 - val_loss: 0.9769 - val_accuracy: 0.6124\n",
      "Epoch 38/40\n",
      "1875/1875 [==============================] - 4s 2ms/step - loss: 1.0342 - accuracy: 0.5810 - val_loss: 1.0017 - val_accuracy: 0.5863\n",
      "Epoch 39/40\n",
      "1875/1875 [==============================] - 4s 2ms/step - loss: 1.5215 - accuracy: 0.3620 - val_loss: 1.5584 - val_accuracy: 0.3298\n",
      "Epoch 40/40\n",
      "1875/1875 [==============================] - 4s 2ms/step - loss: 1.6227 - accuracy: 0.3065 - val_loss: 1.6678 - val_accuracy: 0.2838\n"
     ]
    }
   ],
   "metadata": {}
  },
  {
   "cell_type": "code",
   "execution_count": 28,
   "source": [
    "import numpy as np\r\n",
    "import matplotlib.pyplot as plt\r\n",
    "lrs = 1e-3 * (10**(np.arange(40)/20))\r\n",
    "plt.semilogx(lrs, find_lr_history.history[\"loss\"])\r\n",
    "plt.xlabel(\"Learning rate\")\r\n",
    "plt.ylabel(\"Loss\")\r\n",
    "plt.title(\"Finding the ideal learning rate\")"
   ],
   "outputs": [
    {
     "output_type": "execute_result",
     "data": {
      "text/plain": [
       "Text(0.5, 1.0, 'Finding the ideal learning rate')"
      ]
     },
     "metadata": {},
     "execution_count": 28
    },
    {
     "output_type": "display_data",
     "data": {
      "image/png": "[encoded data removed]",
      "text/plain": [
       "<Figure size 432x288 with 1 Axes>"
      ]
     },
     "metadata": {
      "needs_background": "light"
     }
    }
   ],
   "metadata": {}
  },
  {
   "cell_type": "code",
   "execution_count": 29,
   "source": [
    "model_14 = tf.keras.Sequential([\r\n",
    "  tf.keras.layers.Flatten(input_shape=(28, 28)), # input layer (we had to reshape 28x28 to 784)\r\n",
    "  tf.keras.layers.Dense(4, activation=\"relu\"),\r\n",
    "  tf.keras.layers.Dense(4, activation=\"relu\"),\r\n",
    "  tf.keras.layers.Dense(10, activation=\"softmax\") # output shape is 10, activation is softmax\r\n",
    "])\r\n",
    "\r\n",
    "# Compile the model\r\n",
    "model_14.compile(loss=tf.keras.losses.SparseCategoricalCrossentropy(),\r\n",
    "                 optimizer=tf.keras.optimizers.Adam(learning_rate=0.001), # ideal learning rate (same as default)\r\n",
    "                 metrics=[\"accuracy\"])\r\n",
    "\r\n",
    "# Fit the model\r\n",
    "history = model_14.fit(train_data,\r\n",
    "                       train_labels,\r\n",
    "                       epochs=20,\r\n",
    "                       validation_data=(test_data, test_labels))"
   ],
   "outputs": [
    {
     "output_type": "stream",
     "name": "stdout",
     "text": [
      "Epoch 1/20\n",
      "1875/1875 [==============================] - 5s 3ms/step - loss: 1.0975 - accuracy: 0.6149 - val_loss: 0.8134 - val_accuracy: 0.7277\n",
      "Epoch 2/20\n",
      "1875/1875 [==============================] - 5s 2ms/step - loss: 0.7160 - accuracy: 0.7501 - val_loss: 0.7070 - val_accuracy: 0.7501\n",
      "Epoch 3/20\n",
      "1875/1875 [==============================] - 5s 3ms/step - loss: 0.6611 - accuracy: 0.7634 - val_loss: 0.6763 - val_accuracy: 0.7564\n",
      "Epoch 4/20\n",
      "1875/1875 [==============================] - 5s 2ms/step - loss: 0.6397 - accuracy: 0.7693 - val_loss: 0.6677 - val_accuracy: 0.7638\n",
      "Epoch 5/20\n",
      "1875/1875 [==============================] - 4s 2ms/step - loss: 0.6282 - accuracy: 0.7729 - val_loss: 0.6528 - val_accuracy: 0.7709\n",
      "Epoch 6/20\n",
      "1875/1875 [==============================] - 5s 3ms/step - loss: 0.6187 - accuracy: 0.7769 - val_loss: 0.6518 - val_accuracy: 0.7676\n",
      "Epoch 7/20\n",
      "1875/1875 [==============================] - 5s 3ms/step - loss: 0.6127 - accuracy: 0.7789 - val_loss: 0.6410 - val_accuracy: 0.7711\n",
      "Epoch 8/20\n",
      "1875/1875 [==============================] - 5s 3ms/step - loss: 0.6078 - accuracy: 0.7799 - val_loss: 0.6361 - val_accuracy: 0.7747\n",
      "Epoch 9/20\n",
      "1875/1875 [==============================] - 5s 3ms/step - loss: 0.6025 - accuracy: 0.7822 - val_loss: 0.6494 - val_accuracy: 0.7667\n",
      "Epoch 10/20\n",
      "1875/1875 [==============================] - 5s 3ms/step - loss: 0.5987 - accuracy: 0.7840 - val_loss: 0.6270 - val_accuracy: 0.7756\n",
      "Epoch 11/20\n",
      "1875/1875 [==============================] - 5s 3ms/step - loss: 0.5953 - accuracy: 0.7851 - val_loss: 0.6371 - val_accuracy: 0.7738\n",
      "Epoch 12/20\n",
      "1875/1875 [==============================] - 5s 3ms/step - loss: 0.5922 - accuracy: 0.7863 - val_loss: 0.6318 - val_accuracy: 0.7750\n",
      "Epoch 13/20\n",
      "1875/1875 [==============================] - 5s 2ms/step - loss: 0.5891 - accuracy: 0.7872 - val_loss: 0.6238 - val_accuracy: 0.7796\n",
      "Epoch 14/20\n",
      "1875/1875 [==============================] - 5s 3ms/step - loss: 0.5867 - accuracy: 0.7872 - val_loss: 0.6210 - val_accuracy: 0.7785\n",
      "Epoch 15/20\n",
      "1875/1875 [==============================] - 4s 2ms/step - loss: 0.5838 - accuracy: 0.7894 - val_loss: 0.6227 - val_accuracy: 0.7786\n",
      "Epoch 16/20\n",
      "1875/1875 [==============================] - 5s 2ms/step - loss: 0.5815 - accuracy: 0.7901 - val_loss: 0.6174 - val_accuracy: 0.7808\n",
      "Epoch 17/20\n",
      "1875/1875 [==============================] - 4s 2ms/step - loss: 0.5789 - accuracy: 0.7906 - val_loss: 0.6169 - val_accuracy: 0.7796\n",
      "Epoch 18/20\n",
      "1875/1875 [==============================] - 4s 2ms/step - loss: 0.5772 - accuracy: 0.7918 - val_loss: 0.6116 - val_accuracy: 0.7816\n",
      "Epoch 19/20\n",
      "1875/1875 [==============================] - 5s 2ms/step - loss: 0.5769 - accuracy: 0.7909 - val_loss: 0.6082 - val_accuracy: 0.7841\n",
      "Epoch 20/20\n",
      "1875/1875 [==============================] - 4s 2ms/step - loss: 0.5738 - accuracy: 0.7933 - val_loss: 0.6189 - val_accuracy: 0.7798\n"
     ]
    }
   ],
   "metadata": {}
  },
  {
   "cell_type": "code",
   "execution_count": 30,
   "source": [
    "y_probs = model_14.predict(test_data)\r\n",
    "\r\n",
    "y_probs[:5]"
   ],
   "outputs": [
    {
     "output_type": "execute_result",
     "data": {
      "text/plain": [
       "array([[3.0912281e-10, 1.0448587e-11, 3.2489393e-15, 1.2826373e-10,\n",
       "        2.3033721e-12, 7.1402681e-01, 5.1028717e-12, 7.0626691e-02,\n",
       "        3.0256926e-05, 2.1531628e-01],\n",
       "       [1.5237580e-05, 4.7169329e-04, 7.6923031e-01, 1.4885546e-04,\n",
       "        1.6087419e-01, 1.2432788e-13, 3.6828663e-02, 1.3560311e-26,\n",
       "        3.2431036e-02, 2.1208455e-29],\n",
       "       [7.6090512e-09, 9.9780363e-01, 2.0242021e-08, 2.1826930e-03,\n",
       "        4.6492730e-08, 2.0871854e-13, 1.4520826e-09, 3.7178243e-09,\n",
       "        1.3592424e-05, 5.1258371e-17],\n",
       "       [2.2396771e-10, 9.9926537e-01, 9.7494635e-10, 7.3165039e-04,\n",
       "        4.4140109e-09, 2.2108947e-15, 4.1199759e-11, 3.9322556e-10,\n",
       "        3.0241747e-06, 3.9877062e-19],\n",
       "       [2.3668435e-01, 7.4016913e-03, 2.4136861e-01, 3.2926172e-02,\n",
       "        2.7701654e-02, 1.1597935e-04, 4.3751600e-01, 1.8890540e-09,\n",
       "        1.6285600e-02, 7.8072805e-11]], dtype=float32)"
      ]
     },
     "metadata": {},
     "execution_count": 30
    }
   ],
   "metadata": {}
  },
  {
   "cell_type": "code",
   "execution_count": 31,
   "source": [
    "y_probs[0].argmax(), class_names[y_probs[0].argmax()]"
   ],
   "outputs": [
    {
     "output_type": "execute_result",
     "data": {
      "text/plain": [
       "(5, 'Sandal')"
      ]
     },
     "metadata": {},
     "execution_count": 31
    }
   ],
   "metadata": {}
  },
  {
   "cell_type": "code",
   "execution_count": 32,
   "source": [
    "y_preds = y_probs.argmax(axis=1)\r\n",
    "\r\n",
    "y_preds[:10]"
   ],
   "outputs": [
    {
     "output_type": "execute_result",
     "data": {
      "text/plain": [
       "array([5, 2, 1, 1, 6, 1, 6, 6, 5, 7], dtype=int64)"
      ]
     },
     "metadata": {},
     "execution_count": 32
    }
   ],
   "metadata": {}
  },
  {
   "cell_type": "code",
   "execution_count": 33,
   "source": [
    "from sklearn.metrics import confusion_matrix\r\n",
    "confusion_matrix(y_true=test_labels, \r\n",
    "                 y_pred=y_preds)"
   ],
   "outputs": [
    {
     "output_type": "execute_result",
     "data": {
      "text/plain": [
       "array([[804,   2,  17,  91,   2,   1,  74,   0,   9,   0],\n",
       "       [  8, 921,   3,  56,   2,   0,   9,   0,   1,   0],\n",
       "       [ 28,   1, 529,  17, 175,   0, 241,   0,   9,   0],\n",
       "       [ 51,  34,   4, 815,  27,   1,  59,   3,   6,   0],\n",
       "       [  2,   0,  70,  68, 728,   0, 128,   0,   4,   0],\n",
       "       [  1,   0,   0,   1,   0, 911,   0,  50,   6,  31],\n",
       "       [207,   0, 115,  75, 204,   0, 384,   1,  14,   0],\n",
       "       [  0,   0,   0,   0,   0,  48,   0, 929,   1,  22],\n",
       "       [  7,   0,  28,  15,   5,  10,  20,   5, 910,   0],\n",
       "       [  0,   0,   0,   0,   0,  67,   0,  66,   0, 867]], dtype=int64)"
      ]
     },
     "metadata": {},
     "execution_count": 33
    }
   ],
   "metadata": {}
  },
  {
   "cell_type": "code",
   "execution_count": 34,
   "source": [
    "import random\r\n",
    "def plot_random_image(model, images, true_labels, classes):\r\n",
    "  i = random.randint(0, len(images))\r\n",
    "  \r\n",
    "  target_image = images[i]\r\n",
    "  pred_probs = model.predict(target_image.reshape(1, 28, 28))\r\n",
    "  pred_label = classes[pred_probs.argmax()]\r\n",
    "  true_label = classes[true_labels[i]]\r\n",
    "\r\n",
    "  plt.imshow(target_image, cmap=plt.cm.binary)\r\n",
    "  if pred_label == true_label:\r\n",
    "    color = \"green\"\r\n",
    "  else:\r\n",
    "    color = \"red\"\r\n",
    "\r\n",
    "  plt.xlabel(\"Pred: {} {:2.0f}% (True: {})\".format(pred_label,\r\n",
    "                                                   100*tf.reduce_max(pred_probs),\r\n",
    "                                                   true_label),\r\n",
    "             color=color)"
   ],
   "outputs": [],
   "metadata": {}
  },
  {
   "cell_type": "code",
   "execution_count": 35,
   "source": [
    "model_14.layers"
   ],
   "outputs": [
    {
     "output_type": "execute_result",
     "data": {
      "text/plain": [
       "[<keras.layers.core.Flatten at 0x1ec6a37d280>,\n",
       " <keras.layers.core.Dense at 0x1ec6a37d550>,\n",
       " <keras.layers.core.Dense at 0x1ec6a37dee0>,\n",
       " <keras.layers.core.Dense at 0x1ec6a37dac0>]"
      ]
     },
     "metadata": {},
     "execution_count": 35
    }
   ],
   "metadata": {}
  },
  {
   "cell_type": "code",
   "execution_count": 36,
   "source": [
    "weights, biases = model_14.layers[1].get_weights()\r\n",
    "\r\n",
    "weights, weights.shape"
   ],
   "outputs": [
    {
     "output_type": "execute_result",
     "data": {
      "text/plain": [
       "(array([[-0.46976036,  0.01960626, -0.34197816,  0.5814653 ],\n",
       "        [-0.652685  , -0.02304024, -0.12336614,  0.62138635],\n",
       "        [-0.42349094,  0.03338134, -1.2069837 ,  0.5531393 ],\n",
       "        ...,\n",
       "        [-0.02057106,  0.04025377, -0.17187648, -0.6418347 ],\n",
       "        [-0.03757751, -0.04308283,  0.2186969 , -0.8545105 ],\n",
       "        [ 0.02141763, -0.00872664, -0.3682877 , -0.10482501]],\n",
       "       dtype=float32),\n",
       " (784, 4))"
      ]
     },
     "metadata": {},
     "execution_count": 36
    }
   ],
   "metadata": {}
  },
  {
   "cell_type": "code",
   "execution_count": 37,
   "source": [
    "biases, biases.shape"
   ],
   "outputs": [
    {
     "output_type": "execute_result",
     "data": {
      "text/plain": [
       "(array([ 1.0830986 , -0.00600367,  1.9257659 ,  0.8520019 ], dtype=float32),\n",
       " (4,))"
      ]
     },
     "metadata": {},
     "execution_count": 37
    }
   ],
   "metadata": {}
  },
  {
   "cell_type": "code",
   "execution_count": 38,
   "source": [
    "model_14.summary()"
   ],
   "outputs": [
    {
     "output_type": "stream",
     "name": "stdout",
     "text": [
      "Model: \"sequential_5\"\n",
      "_________________________________________________________________\n",
      "Layer (type)                 Output Shape              Param #   \n",
      "=================================================================\n",
      "flatten_3 (Flatten)          (None, 784)               0         \n",
      "_________________________________________________________________\n",
      "dense_14 (Dense)             (None, 4)                 3140      \n",
      "_________________________________________________________________\n",
      "dense_15 (Dense)             (None, 4)                 20        \n",
      "_________________________________________________________________\n",
      "dense_16 (Dense)             (None, 10)                50        \n",
      "=================================================================\n",
      "Total params: 3,210\n",
      "Trainable params: 3,210\n",
      "Non-trainable params: 0\n",
      "_________________________________________________________________\n"
     ]
    }
   ],
   "metadata": {}
  }
 ],
 "metadata": {
  "orig_nbformat": 4,
  "language_info": {
   "name": "python",
   "version": "3.8.8",
   "mimetype": "text/x-python",
   "codemirror_mode": {
    "name": "ipython",
    "version": 3
   },
   "pygments_lexer": "ipython3",
   "nbconvert_exporter": "python",
   "file_extension": ".py"
  },
  "kernelspec": {
   "name": "python3",
   "display_name": "Python 3.8.8 64-bit ('base': conda)"
  },
  "interpreter": {
   "hash": "07efdcd4b820c98a756949507a4d29d7862823915ec7477944641bea022f4f62"
  }
 },
 "nbformat": 4,
 "nbformat_minor": 2
}