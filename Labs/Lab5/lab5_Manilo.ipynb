{
 "cells": [
  {
   "cell_type": "markdown",
   "source": [
    "# Лабораторна робота №5\r\n",
    "## Студента групи МІТ-31 (підгрупа 2)\r\n",
    "## Маніла Дмитра Олексійовича"
   ],
   "metadata": {}
  },
  {
   "cell_type": "markdown",
   "source": [
    "# Завдання\r\n",
    "1.  Виконати вирішення задач регресії та класифікації для наборів даних, що використовувалися в лабораторних роботах 2,3 з використанням Tensorflow & NN\r\n",
    "2.  Отримані результати викласти на github у репозиторій ml2021 в основну (default) гілку в папці Lab5."
   ],
   "metadata": {}
  },
  {
   "cell_type": "code",
   "execution_count": 1,
   "source": [
    "import tensorflow as tf\r\n",
    "import matplotlib.pyplot as plt\r\n",
    "import numpy as np\r\n",
    "import pandas as pd\r\n",
    "from tensorflow.keras.optimizers import SGD, Adam\r\n",
    "from tensorflow.keras.losses import mae, mse"
   ],
   "outputs": [],
   "metadata": {}
  },
  {
   "cell_type": "code",
   "execution_count": 2,
   "source": [
    "model_1 = pd.read_csv(\"./owner.csv\")"
   ],
   "outputs": [],
   "metadata": {}
  },
  {
   "cell_type": "code",
   "execution_count": 4,
   "source": [
    "insurance = model_1\r\n",
    "insurance.head()"
   ],
   "outputs": [
    {
     "output_type": "execute_result",
     "data": {
      "text/html": [
       "<div>\n",
       "<style scoped>\n",
       "    .dataframe tbody tr th:only-of-type {\n",
       "        vertical-align: middle;\n",
       "    }\n",
       "\n",
       "    .dataframe tbody tr th {\n",
       "        vertical-align: top;\n",
       "    }\n",
       "\n",
       "    .dataframe thead th {\n",
       "        text-align: right;\n",
       "    }\n",
       "</style>\n",
       "<table border=\"1\" class=\"dataframe\">\n",
       "  <thead>\n",
       "    <tr style=\"text-align: right;\">\n",
       "      <th></th>\n",
       "      <th>Unnamed: 0</th>\n",
       "      <th>salary</th>\n",
       "      <th>age</th>\n",
       "      <th>degree</th>\n",
       "      <th>gender</th>\n",
       "      <th>credits</th>\n",
       "      <th>is_gamer</th>\n",
       "    </tr>\n",
       "  </thead>\n",
       "  <tbody>\n",
       "    <tr>\n",
       "      <th>0</th>\n",
       "      <td>0</td>\n",
       "      <td>3996</td>\n",
       "      <td>0</td>\n",
       "      <td>0</td>\n",
       "      <td>1</td>\n",
       "      <td>1</td>\n",
       "      <td>0</td>\n",
       "    </tr>\n",
       "    <tr>\n",
       "      <th>1</th>\n",
       "      <td>1</td>\n",
       "      <td>1016</td>\n",
       "      <td>1</td>\n",
       "      <td>0</td>\n",
       "      <td>0</td>\n",
       "      <td>0</td>\n",
       "      <td>0</td>\n",
       "    </tr>\n",
       "    <tr>\n",
       "      <th>2</th>\n",
       "      <td>2</td>\n",
       "      <td>420</td>\n",
       "      <td>0</td>\n",
       "      <td>1</td>\n",
       "      <td>0</td>\n",
       "      <td>1</td>\n",
       "      <td>1</td>\n",
       "    </tr>\n",
       "    <tr>\n",
       "      <th>3</th>\n",
       "      <td>3</td>\n",
       "      <td>2893</td>\n",
       "      <td>1</td>\n",
       "      <td>1</td>\n",
       "      <td>0</td>\n",
       "      <td>0</td>\n",
       "      <td>1</td>\n",
       "    </tr>\n",
       "    <tr>\n",
       "      <th>4</th>\n",
       "      <td>4</td>\n",
       "      <td>4010</td>\n",
       "      <td>1</td>\n",
       "      <td>0</td>\n",
       "      <td>0</td>\n",
       "      <td>1</td>\n",
       "      <td>1</td>\n",
       "    </tr>\n",
       "  </tbody>\n",
       "</table>\n",
       "</div>"
      ],
      "text/plain": [
       "   Unnamed: 0  salary  age  degree  gender  credits  is_gamer\n",
       "0           0    3996    0       0       1        1         0\n",
       "1           1    1016    1       0       0        0         0\n",
       "2           2     420    0       1       0        1         1\n",
       "3           3    2893    1       1       0        0         1\n",
       "4           4    4010    1       0       0        1         1"
      ]
     },
     "metadata": {},
     "execution_count": 4
    }
   ],
   "metadata": {}
  },
  {
   "cell_type": "code",
   "execution_count": 5,
   "source": [
    "insurance.isna().sum()"
   ],
   "outputs": [
    {
     "output_type": "execute_result",
     "data": {
      "text/plain": [
       "Unnamed: 0    0\n",
       "salary        0\n",
       "age           0\n",
       "degree        0\n",
       "gender        0\n",
       "credits       0\n",
       "is_gamer      0\n",
       "dtype: int64"
      ]
     },
     "metadata": {},
     "execution_count": 5
    }
   ],
   "metadata": {}
  },
  {
   "cell_type": "code",
   "execution_count": 6,
   "source": [
    "insurance=pd.get_dummies(insurance)\r\n",
    "\r\n",
    "insurance.head(3)"
   ],
   "outputs": [
    {
     "output_type": "execute_result",
     "data": {
      "text/html": [
       "<div>\n",
       "<style scoped>\n",
       "    .dataframe tbody tr th:only-of-type {\n",
       "        vertical-align: middle;\n",
       "    }\n",
       "\n",
       "    .dataframe tbody tr th {\n",
       "        vertical-align: top;\n",
       "    }\n",
       "\n",
       "    .dataframe thead th {\n",
       "        text-align: right;\n",
       "    }\n",
       "</style>\n",
       "<table border=\"1\" class=\"dataframe\">\n",
       "  <thead>\n",
       "    <tr style=\"text-align: right;\">\n",
       "      <th></th>\n",
       "      <th>Unnamed: 0</th>\n",
       "      <th>salary</th>\n",
       "      <th>age</th>\n",
       "      <th>degree</th>\n",
       "      <th>gender</th>\n",
       "      <th>credits</th>\n",
       "      <th>is_gamer</th>\n",
       "    </tr>\n",
       "  </thead>\n",
       "  <tbody>\n",
       "    <tr>\n",
       "      <th>0</th>\n",
       "      <td>0</td>\n",
       "      <td>3996</td>\n",
       "      <td>0</td>\n",
       "      <td>0</td>\n",
       "      <td>1</td>\n",
       "      <td>1</td>\n",
       "      <td>0</td>\n",
       "    </tr>\n",
       "    <tr>\n",
       "      <th>1</th>\n",
       "      <td>1</td>\n",
       "      <td>1016</td>\n",
       "      <td>1</td>\n",
       "      <td>0</td>\n",
       "      <td>0</td>\n",
       "      <td>0</td>\n",
       "      <td>0</td>\n",
       "    </tr>\n",
       "    <tr>\n",
       "      <th>2</th>\n",
       "      <td>2</td>\n",
       "      <td>420</td>\n",
       "      <td>0</td>\n",
       "      <td>1</td>\n",
       "      <td>0</td>\n",
       "      <td>1</td>\n",
       "      <td>1</td>\n",
       "    </tr>\n",
       "  </tbody>\n",
       "</table>\n",
       "</div>"
      ],
      "text/plain": [
       "   Unnamed: 0  salary  age  degree  gender  credits  is_gamer\n",
       "0           0    3996    0       0       1        1         0\n",
       "1           1    1016    1       0       0        0         0\n",
       "2           2     420    0       1       0        1         1"
      ]
     },
     "metadata": {},
     "execution_count": 6
    }
   ],
   "metadata": {}
  },
  {
   "cell_type": "code",
   "execution_count": 9,
   "source": [
    "X=insurance.drop(\"salary\",axis=1)\r\n",
    "y=insurance[\"salary\"]\r\n",
    "\r\n",
    "X.head(), y.head()"
   ],
   "outputs": [
    {
     "output_type": "execute_result",
     "data": {
      "text/plain": [
       "(   Unnamed: 0  age  degree  gender  credits  is_gamer\n",
       " 0           0    0       0       1        1         0\n",
       " 1           1    1       0       0        0         0\n",
       " 2           2    0       1       0        1         1\n",
       " 3           3    1       1       0        0         1\n",
       " 4           4    1       0       0        1         1,\n",
       " 0    3996\n",
       " 1    1016\n",
       " 2     420\n",
       " 3    2893\n",
       " 4    4010\n",
       " Name: salary, dtype: int64)"
      ]
     },
     "metadata": {},
     "execution_count": 9
    }
   ],
   "metadata": {}
  },
  {
   "cell_type": "code",
   "execution_count": 10,
   "source": [
    "from sklearn.model_selection import train_test_split \r\n",
    "X_train,X_test,y_train,y_test = train_test_split(X,y,test_size=0.2,random_state=48)\r\n",
    "\r\n",
    "\r\n",
    "tf.random.set_seed=13\r\n",
    "\r\n",
    "ins_model = tf.keras.Sequential([ \r\n",
    "    tf.keras.layers.Dense(10),\r\n",
    "    tf.keras.layers.Dense(1)\r\n",
    "])\r\n",
    "\r\n",
    "ins_model.compile(\r\n",
    "    loss='mse',\r\n",
    "    optimizer=Adam(),\r\n",
    "    metrics=['mse']\r\n",
    ")\r\n",
    "\r\n",
    "X_train.shape"
   ],
   "outputs": [
    {
     "output_type": "execute_result",
     "data": {
      "text/plain": [
       "(266, 6)"
      ]
     },
     "metadata": {},
     "execution_count": 10
    }
   ],
   "metadata": {}
  },
  {
   "cell_type": "code",
   "execution_count": 11,
   "source": [
    "ins_history = ins_model.fit(X_train,y_train,epochs=10)"
   ],
   "outputs": [
    {
     "output_type": "stream",
     "name": "stdout",
     "text": [
      "Epoch 1/10\n",
      "9/9 [==============================] - 1s 2ms/step - loss: 9859374.0000 - mse: 9859374.0000\n",
      "Epoch 2/10\n",
      "9/9 [==============================] - 0s 2ms/step - loss: 9807554.0000 - mse: 9807554.0000\n",
      "Epoch 3/10\n",
      "9/9 [==============================] - 0s 2ms/step - loss: 9756637.0000 - mse: 9756637.0000\n",
      "Epoch 4/10\n",
      "9/9 [==============================] - 0s 2ms/step - loss: 9706861.0000 - mse: 9706861.0000\n",
      "Epoch 5/10\n",
      "9/9 [==============================] - 0s 2ms/step - loss: 9656273.0000 - mse: 9656273.0000\n",
      "Epoch 6/10\n",
      "9/9 [==============================] - 0s 2ms/step - loss: 9607243.0000 - mse: 9607243.0000\n",
      "Epoch 7/10\n",
      "9/9 [==============================] - 0s 2ms/step - loss: 9560666.0000 - mse: 9560666.0000\n",
      "Epoch 8/10\n",
      "9/9 [==============================] - 0s 2ms/step - loss: 9512055.0000 - mse: 9512055.0000\n",
      "Epoch 9/10\n",
      "9/9 [==============================] - 0s 2ms/step - loss: 9463945.0000 - mse: 9463945.0000\n",
      "Epoch 10/10\n",
      "9/9 [==============================] - 0s 2ms/step - loss: 9416375.0000 - mse: 9416375.0000\n"
     ]
    }
   ],
   "metadata": {}
  },
  {
   "cell_type": "code",
   "execution_count": 12,
   "source": [
    "ins_history2 = ins_model.fit(X_train,y_train,epochs=200, verbose=0)\r\n",
    "\r\n",
    "score1=ins_model.evaluate(X_test,y_test)"
   ],
   "outputs": [
    {
     "output_type": "stream",
     "name": "stdout",
     "text": [
      "3/3 [==============================] - 0s 2ms/step - loss: 3517376.2500 - mse: 3517376.2500\n"
     ]
    }
   ],
   "metadata": {}
  },
  {
   "cell_type": "code",
   "execution_count": 18,
   "source": [
    "ins_model.save(\"i_mod.h5\")\r\n",
    "\r\n",
    "ins_model_loaded=tf.keras.models.load_model(\"i_mod.h5\")\r\n",
    "\r\n",
    "\r\n",
    "y1=ins_model.predict(X_test)\r\n",
    "y2=ins_model_loaded.predict(X_test)\r\n",
    "\r\n",
    "(y1-y2).sum()\r\n",
    "\r\n",
    "X_train.head()"
   ],
   "outputs": [
    {
     "output_type": "execute_result",
     "data": {
      "text/html": [
       "<div>\n",
       "<style scoped>\n",
       "    .dataframe tbody tr th:only-of-type {\n",
       "        vertical-align: middle;\n",
       "    }\n",
       "\n",
       "    .dataframe tbody tr th {\n",
       "        vertical-align: top;\n",
       "    }\n",
       "\n",
       "    .dataframe thead th {\n",
       "        text-align: right;\n",
       "    }\n",
       "</style>\n",
       "<table border=\"1\" class=\"dataframe\">\n",
       "  <thead>\n",
       "    <tr style=\"text-align: right;\">\n",
       "      <th></th>\n",
       "      <th>Unnamed: 0</th>\n",
       "      <th>age</th>\n",
       "      <th>degree</th>\n",
       "      <th>gender</th>\n",
       "      <th>credits</th>\n",
       "      <th>is_gamer</th>\n",
       "    </tr>\n",
       "  </thead>\n",
       "  <tbody>\n",
       "    <tr>\n",
       "      <th>58</th>\n",
       "      <td>58</td>\n",
       "      <td>1</td>\n",
       "      <td>1</td>\n",
       "      <td>1</td>\n",
       "      <td>0</td>\n",
       "      <td>1</td>\n",
       "    </tr>\n",
       "    <tr>\n",
       "      <th>259</th>\n",
       "      <td>259</td>\n",
       "      <td>0</td>\n",
       "      <td>1</td>\n",
       "      <td>1</td>\n",
       "      <td>0</td>\n",
       "      <td>1</td>\n",
       "    </tr>\n",
       "    <tr>\n",
       "      <th>95</th>\n",
       "      <td>95</td>\n",
       "      <td>0</td>\n",
       "      <td>0</td>\n",
       "      <td>0</td>\n",
       "      <td>0</td>\n",
       "      <td>0</td>\n",
       "    </tr>\n",
       "    <tr>\n",
       "      <th>131</th>\n",
       "      <td>131</td>\n",
       "      <td>1</td>\n",
       "      <td>0</td>\n",
       "      <td>1</td>\n",
       "      <td>1</td>\n",
       "      <td>0</td>\n",
       "    </tr>\n",
       "    <tr>\n",
       "      <th>286</th>\n",
       "      <td>286</td>\n",
       "      <td>1</td>\n",
       "      <td>1</td>\n",
       "      <td>1</td>\n",
       "      <td>1</td>\n",
       "      <td>0</td>\n",
       "    </tr>\n",
       "  </tbody>\n",
       "</table>\n",
       "</div>"
      ],
      "text/plain": [
       "     Unnamed: 0  age  degree  gender  credits  is_gamer\n",
       "58           58    1       1       1        0         1\n",
       "259         259    0       1       1        0         1\n",
       "95           95    0       0       0        0         0\n",
       "131         131    1       0       1        1         0\n",
       "286         286    1       1       1        1         0"
      ]
     },
     "metadata": {},
     "execution_count": 18
    }
   ],
   "metadata": {}
  },
  {
   "cell_type": "code",
   "execution_count": 19,
   "source": [
    "from sklearn.compose import make_column_transformer\r\n",
    "from sklearn.preprocessing import MinMaxScaler, OneHotEncoder\r\n",
    "\r\n",
    "insurance2 = model_1\r\n",
    "insurance2.head(2)"
   ],
   "outputs": [
    {
     "output_type": "execute_result",
     "data": {
      "text/html": [
       "<div>\n",
       "<style scoped>\n",
       "    .dataframe tbody tr th:only-of-type {\n",
       "        vertical-align: middle;\n",
       "    }\n",
       "\n",
       "    .dataframe tbody tr th {\n",
       "        vertical-align: top;\n",
       "    }\n",
       "\n",
       "    .dataframe thead th {\n",
       "        text-align: right;\n",
       "    }\n",
       "</style>\n",
       "<table border=\"1\" class=\"dataframe\">\n",
       "  <thead>\n",
       "    <tr style=\"text-align: right;\">\n",
       "      <th></th>\n",
       "      <th>Unnamed: 0</th>\n",
       "      <th>salary</th>\n",
       "      <th>age</th>\n",
       "      <th>degree</th>\n",
       "      <th>gender</th>\n",
       "      <th>credits</th>\n",
       "      <th>is_gamer</th>\n",
       "    </tr>\n",
       "  </thead>\n",
       "  <tbody>\n",
       "    <tr>\n",
       "      <th>0</th>\n",
       "      <td>0</td>\n",
       "      <td>3996</td>\n",
       "      <td>0</td>\n",
       "      <td>0</td>\n",
       "      <td>1</td>\n",
       "      <td>1</td>\n",
       "      <td>0</td>\n",
       "    </tr>\n",
       "    <tr>\n",
       "      <th>1</th>\n",
       "      <td>1</td>\n",
       "      <td>1016</td>\n",
       "      <td>1</td>\n",
       "      <td>0</td>\n",
       "      <td>0</td>\n",
       "      <td>0</td>\n",
       "      <td>0</td>\n",
       "    </tr>\n",
       "  </tbody>\n",
       "</table>\n",
       "</div>"
      ],
      "text/plain": [
       "   Unnamed: 0  salary  age  degree  gender  credits  is_gamer\n",
       "0           0    3996    0       0       1        1         0\n",
       "1           1    1016    1       0       0        0         0"
      ]
     },
     "metadata": {},
     "execution_count": 19
    }
   ],
   "metadata": {}
  },
  {
   "cell_type": "code",
   "execution_count": 41,
   "source": [
    "ct = make_column_transformer(\r\n",
    "    (MinMaxScaler(),[\"age\", \"degree\",\"gender\"]), \r\n",
    "    (OneHotEncoder(handle_unknown=\"ignore\"),['credits','is_gamer'])\r\n",
    ")\r\n",
    "X=insurance2.drop(\"salary\", axis=1)\r\n",
    "y = insurance2[\"salary\"]\r\n",
    "\r\n",
    "X_train,X_test,y_train,y_test = train_test_split(X,y,test_size=0.2)\r\n",
    "\r\n",
    "ct.fit(X_train)\r\n",
    "\r\n",
    "X_train_norm = ct.transform(X_train)\r\n",
    "X_test_norm = ct.transform(X_test)\r\n",
    "\r\n",
    "im3= tf.keras.Sequential([ \r\n",
    "    \r\n",
    "    tf.keras.layers.Dense(100),\r\n",
    "    tf.keras.layers.Dense(10),\r\n",
    "    tf.keras.layers.Dense(1)\r\n",
    "])"
   ],
   "outputs": [],
   "metadata": {}
  },
  {
   "cell_type": "code",
   "execution_count": 42,
   "source": [
    "im3.compile(\r\n",
    "    loss=mae, \r\n",
    "    optimizer=tf.keras.optimizers.Adam(), \r\n",
    "    metrics=[\"mae\"]\r\n",
    ")\r\n",
    "history_im3=im3.fit(X_train_norm,y_train,validation_split=0.3,epochs=30,verbose=0)\r\n",
    "\r\n",
    "im3.evaluate(X_test_norm,y_test)\r\n",
    "\r\n",
    "X_train.shape"
   ],
   "outputs": [
    {
     "output_type": "stream",
     "name": "stdout",
     "text": [
      "3/3 [==============================] - 0s 2ms/step - loss: 2395.6282 - mae: 2395.6282\n"
     ]
    },
    {
     "output_type": "execute_result",
     "data": {
      "text/plain": [
       "(266, 6)"
      ]
     },
     "metadata": {},
     "execution_count": 42
    }
   ],
   "metadata": {}
  },
  {
   "cell_type": "code",
   "execution_count": 43,
   "source": [
    "plt.plot(history_im3.history['loss'])\r\n",
    "plt.plot(history_im3.history['val_loss'])\r\n",
    "plt.title('model loss')\r\n",
    "plt.ylabel('loss')\r\n",
    "plt.xlabel('epoch')\r\n",
    "plt.legend(['loss', 'val_loss'], loc='upper right')\r\n",
    "plt.show()"
   ],
   "outputs": [
    {
     "output_type": "display_data",
     "data": {
      "image/png": "[encoded data removed]",
      "text/plain": [
       "<Figure size 432x288 with 1 Axes>"
      ]
     },
     "metadata": {
      "needs_background": "light"
     }
    }
   ],
   "metadata": {}
  },
  {
   "cell_type": "code",
   "execution_count": 44,
   "source": [
    "import matplotlib as plt\r\n",
    "import sklearn.model_selection\r\n",
    "import sklearn.datasets\r\n",
    "import seaborn as sns"
   ],
   "outputs": [],
   "metadata": {}
  },
  {
   "cell_type": "code",
   "execution_count": 45,
   "source": [
    "from tensorflow.keras.datasets import fashion_mnist\r\n",
    "\r\n",
    "(train_data, train_labels), (test_data, test_labels) = fashion_mnist.load_data()"
   ],
   "outputs": [
    {
     "output_type": "stream",
     "name": "stdout",
     "text": [
      "Downloading data from https://storage.googleapis.com/tensorflow/tf-keras-datasets/train-labels-idx1-ubyte.gz\n",
      "32768/29515 [=================================] - 0s 1us/step\n",
      "40960/29515 [=========================================] - 0s 1us/step\n",
      "Downloading data from https://storage.googleapis.com/tensorflow/tf-keras-datasets/train-images-idx3-ubyte.gz\n",
      "26427392/26421880 [==============================] - 6s 0us/step\n",
      "26435584/26421880 [==============================] - 6s 0us/step\n",
      "Downloading data from https://storage.googleapis.com/tensorflow/tf-keras-datasets/t10k-labels-idx1-ubyte.gz\n",
      "16384/5148 [===============================================================================================] - 0s 0s/step\n",
      "Downloading data from https://storage.googleapis.com/tensorflow/tf-keras-datasets/t10k-images-idx3-ubyte.gz\n",
      "4423680/4422102 [==============================] - 1s 0us/step\n",
      "4431872/4422102 [==============================] - 1s 0us/step\n"
     ]
    }
   ],
   "metadata": {}
  },
  {
   "cell_type": "code",
   "execution_count": 46,
   "source": [
    "print(f\"Training sample:\\n{train_data[0]}\\n\") \r\n",
    "print(f\"Training label: {train_labels[0]}\")"
   ],
   "outputs": [
    {
     "output_type": "stream",
     "name": "stdout",
     "text": [
      "Training sample:\n",
      "[[  0   0   0   0   0   0   0   0   0   0   0   0   0   0   0   0   0   0\n",
      "    0   0   0   0   0   0   0   0   0   0]\n",
      " [  0   0   0   0   0   0   0   0   0   0   0   0   0   0   0   0   0   0\n",
      "    0   0   0   0   0   0   0   0   0   0]\n",
      " [  0   0   0   0   0   0   0   0   0   0   0   0   0   0   0   0   0   0\n",
      "    0   0   0   0   0   0   0   0   0   0]\n",
      " [  0   0   0   0   0   0   0   0   0   0   0   0   1   0   0  13  73   0\n",
      "    0   1   4   0   0   0   0   1   1   0]\n",
      " [  0   0   0   0   0   0   0   0   0   0   0   0   3   0  36 136 127  62\n",
      "   54   0   0   0   1   3   4   0   0   3]\n",
      " [  0   0   0   0   0   0   0   0   0   0   0   0   6   0 102 204 176 134\n",
      "  144 123  23   0   0   0   0  12  10   0]\n",
      " [  0   0   0   0   0   0   0   0   0   0   0   0   0   0 155 236 207 178\n",
      "  107 156 161 109  64  23  77 130  72  15]\n",
      " [  0   0   0   0   0   0   0   0   0   0   0   1   0  69 207 223 218 216\n",
      "  216 163 127 121 122 146 141  88 172  66]\n",
      " [  0   0   0   0   0   0   0   0   0   1   1   1   0 200 232 232 233 229\n",
      "  223 223 215 213 164 127 123 196 229   0]\n",
      " [  0   0   0   0   0   0   0   0   0   0   0   0   0 183 225 216 223 228\n",
      "  235 227 224 222 224 221 223 245 173   0]\n",
      " [  0   0   0   0   0   0   0   0   0   0   0   0   0 193 228 218 213 198\n",
      "  180 212 210 211 213 223 220 243 202   0]\n",
      " [  0   0   0   0   0   0   0   0   0   1   3   0  12 219 220 212 218 192\n",
      "  169 227 208 218 224 212 226 197 209  52]\n",
      " [  0   0   0   0   0   0   0   0   0   0   6   0  99 244 222 220 218 203\n",
      "  198 221 215 213 222 220 245 119 167  56]\n",
      " [  0   0   0   0   0   0   0   0   0   4   0   0  55 236 228 230 228 240\n",
      "  232 213 218 223 234 217 217 209  92   0]\n",
      " [  0   0   1   4   6   7   2   0   0   0   0   0 237 226 217 223 222 219\n",
      "  222 221 216 223 229 215 218 255  77   0]\n",
      " [  0   3   0   0   0   0   0   0   0  62 145 204 228 207 213 221 218 208\n",
      "  211 218 224 223 219 215 224 244 159   0]\n",
      " [  0   0   0   0  18  44  82 107 189 228 220 222 217 226 200 205 211 230\n",
      "  224 234 176 188 250 248 233 238 215   0]\n",
      " [  0  57 187 208 224 221 224 208 204 214 208 209 200 159 245 193 206 223\n",
      "  255 255 221 234 221 211 220 232 246   0]\n",
      " [  3 202 228 224 221 211 211 214 205 205 205 220 240  80 150 255 229 221\n",
      "  188 154 191 210 204 209 222 228 225   0]\n",
      " [ 98 233 198 210 222 229 229 234 249 220 194 215 217 241  65  73 106 117\n",
      "  168 219 221 215 217 223 223 224 229  29]\n",
      " [ 75 204 212 204 193 205 211 225 216 185 197 206 198 213 240 195 227 245\n",
      "  239 223 218 212 209 222 220 221 230  67]\n",
      " [ 48 203 183 194 213 197 185 190 194 192 202 214 219 221 220 236 225 216\n",
      "  199 206 186 181 177 172 181 205 206 115]\n",
      " [  0 122 219 193 179 171 183 196 204 210 213 207 211 210 200 196 194 191\n",
      "  195 191 198 192 176 156 167 177 210  92]\n",
      " [  0   0  74 189 212 191 175 172 175 181 185 188 189 188 193 198 204 209\n",
      "  210 210 211 188 188 194 192 216 170   0]\n",
      " [  2   0   0   0  66 200 222 237 239 242 246 243 244 221 220 193 191 179\n",
      "  182 182 181 176 166 168  99  58   0   0]\n",
      " [  0   0   0   0   0   0   0  40  61  44  72  41  35   0   0   0   0   0\n",
      "    0   0   0   0   0   0   0   0   0   0]\n",
      " [  0   0   0   0   0   0   0   0   0   0   0   0   0   0   0   0   0   0\n",
      "    0   0   0   0   0   0   0   0   0   0]\n",
      " [  0   0   0   0   0   0   0   0   0   0   0   0   0   0   0   0   0   0\n",
      "    0   0   0   0   0   0   0   0   0   0]]\n",
      "\n",
      "Training label: 9\n"
     ]
    }
   ],
   "metadata": {}
  },
  {
   "cell_type": "code",
   "execution_count": 47,
   "source": [
    "train_data.shape, train_labels.shape, test_data.shape, test_labels.shape"
   ],
   "outputs": [
    {
     "output_type": "execute_result",
     "data": {
      "text/plain": [
       "((60000, 28, 28), (60000,), (10000, 28, 28), (10000,))"
      ]
     },
     "metadata": {},
     "execution_count": 47
    }
   ],
   "metadata": {}
  },
  {
   "cell_type": "code",
   "execution_count": 48,
   "source": [
    "train_data[0].shape, train_labels[0].shape"
   ],
   "outputs": [
    {
     "output_type": "execute_result",
     "data": {
      "text/plain": [
       "((28, 28), ())"
      ]
     },
     "metadata": {},
     "execution_count": 48
    }
   ],
   "metadata": {}
  },
  {
   "cell_type": "code",
   "execution_count": 49,
   "source": [
    "train_labels[7]"
   ],
   "outputs": [
    {
     "output_type": "execute_result",
     "data": {
      "text/plain": [
       "2"
      ]
     },
     "metadata": {},
     "execution_count": 49
    }
   ],
   "metadata": {}
  },
  {
   "cell_type": "code",
   "execution_count": 51,
   "source": [
    "class_names = ['T-shirt/top', 'Trouser', 'Pullover', 'Dress', 'Coat', \r\n",
    "               'Sandal', 'Shirt', 'Sneaker', 'Bag', 'Ankle boot']\r\n",
    "len(class_names)"
   ],
   "outputs": [
    {
     "output_type": "execute_result",
     "data": {
      "text/plain": [
       "10"
      ]
     },
     "metadata": {},
     "execution_count": 51
    }
   ],
   "metadata": {}
  },
  {
   "cell_type": "code",
   "execution_count": 52,
   "source": [
    "model_11 = tf.keras.Sequential([\r\n",
    "  tf.keras.layers.Flatten(input_shape=(28, 28)),\r\n",
    "  tf.keras.layers.Dense(4, activation=\"relu\"),\r\n",
    "  tf.keras.layers.Dense(4, activation=\"relu\"),\r\n",
    "  tf.keras.layers.Dense(10, activation=\"softmax\")\r\n",
    "])\r\n",
    "\r\n",
    "# Compile the model\r\n",
    "model_11.compile(loss=tf.keras.losses.SparseCategoricalCrossentropy(),\r\n",
    "                 optimizer=tf.keras.optimizers.Adam(),\r\n",
    "                 metrics=[\"accuracy\"])\r\n",
    "\r\n",
    "# Fit the model\r\n",
    "non_norm_history = model_11.fit(train_data,\r\n",
    "                                train_labels,\r\n",
    "                                epochs=10,\r\n",
    "                                validation_data=(test_data, test_labels))"
   ],
   "outputs": [
    {
     "output_type": "stream",
     "name": "stdout",
     "text": [
      "Epoch 1/10\n",
      "1875/1875 [==============================] - 5s 2ms/step - loss: 2.4505 - accuracy: 0.0973 - val_loss: 2.3026 - val_accuracy: 0.1000\n",
      "Epoch 2/10\n",
      "1875/1875 [==============================] - 4s 2ms/step - loss: 2.3027 - accuracy: 0.0980 - val_loss: 2.3027 - val_accuracy: 0.1000\n",
      "Epoch 3/10\n",
      "1875/1875 [==============================] - 4s 2ms/step - loss: 2.3027 - accuracy: 0.0987 - val_loss: 2.3027 - val_accuracy: 0.1000\n",
      "Epoch 4/10\n",
      "1875/1875 [==============================] - 4s 2ms/step - loss: 2.3026 - accuracy: 0.1003 - val_loss: 2.3026 - val_accuracy: 0.1000\n",
      "Epoch 5/10\n",
      "1875/1875 [==============================] - 4s 2ms/step - loss: 2.3027 - accuracy: 0.0981 - val_loss: 2.3023 - val_accuracy: 0.1002\n",
      "Epoch 6/10\n",
      "1875/1875 [==============================] - 4s 2ms/step - loss: 2.3030 - accuracy: 0.0983 - val_loss: 2.3026 - val_accuracy: 0.1000\n",
      "Epoch 7/10\n",
      "1875/1875 [==============================] - 4s 2ms/step - loss: 2.3048 - accuracy: 0.0977 - val_loss: 2.3026 - val_accuracy: 0.1000\n",
      "Epoch 8/10\n",
      "1875/1875 [==============================] - 3s 2ms/step - loss: 2.3025 - accuracy: 0.1003 - val_loss: 2.3027 - val_accuracy: 0.1000\n",
      "Epoch 9/10\n",
      "1875/1875 [==============================] - 3s 2ms/step - loss: 2.3026 - accuracy: 0.0973 - val_loss: 2.3026 - val_accuracy: 0.1000\n",
      "Epoch 10/10\n",
      "1875/1875 [==============================] - 3s 2ms/step - loss: 2.3025 - accuracy: 0.1007 - val_loss: 2.3026 - val_accuracy: 0.1000\n"
     ]
    }
   ],
   "metadata": {}
  },
  {
   "cell_type": "code",
   "execution_count": 53,
   "source": [
    "train_data.min(), train_data.max()\r\n",
    "\r\n",
    "# Divide train and test images by the maximum value (normalize it)\r\n",
    "train_data = train_data / 255.0\r\n",
    "test_data = test_data / 255.0\r\n",
    "\r\n",
    "# Check the min and max values of the training data\r\n",
    "train_data.min(), train_data.max()"
   ],
   "outputs": [
    {
     "output_type": "execute_result",
     "data": {
      "text/plain": [
       "(0.0, 1.0)"
      ]
     },
     "metadata": {},
     "execution_count": 53
    }
   ],
   "metadata": {}
  },
  {
   "cell_type": "code",
   "execution_count": 54,
   "source": [
    "model_12 = tf.keras.Sequential([\r\n",
    "  tf.keras.layers.Flatten(input_shape=(28, 28)), # input layer (we had to reshape 28x28 to 784)\r\n",
    "  tf.keras.layers.Dense(4, activation=\"relu\"),\r\n",
    "  tf.keras.layers.Dense(4, activation=\"relu\"),\r\n",
    "  tf.keras.layers.Dense(10, activation=\"softmax\") # output shape is 10, activation is softmax\r\n",
    "])\r\n",
    "\r\n",
    "# Compile the model\r\n",
    "model_12.compile(loss=tf.keras.losses.SparseCategoricalCrossentropy(),\r\n",
    "                 optimizer=tf.keras.optimizers.Adam(),\r\n",
    "                 metrics=[\"accuracy\"])\r\n",
    "\r\n",
    "# Fit the model (to the normalized data)\r\n",
    "norm_history = model_12.fit(train_data,\r\n",
    "                            train_labels,\r\n",
    "                            epochs=10,\r\n",
    "                            validation_data=(test_data, test_labels))"
   ],
   "outputs": [
    {
     "output_type": "stream",
     "name": "stdout",
     "text": [
      "Epoch 1/10\n",
      "1875/1875 [==============================] - 5s 2ms/step - loss: 1.1823 - accuracy: 0.5504 - val_loss: 0.8595 - val_accuracy: 0.6693\n",
      "Epoch 2/10\n",
      "1875/1875 [==============================] - 5s 3ms/step - loss: 0.7931 - accuracy: 0.7024 - val_loss: 0.7641 - val_accuracy: 0.7205\n",
      "Epoch 3/10\n",
      "1875/1875 [==============================] - 6s 3ms/step - loss: 0.7238 - accuracy: 0.7343 - val_loss: 0.7203 - val_accuracy: 0.7392\n",
      "Epoch 4/10\n",
      "1875/1875 [==============================] - 6s 3ms/step - loss: 0.6802 - accuracy: 0.7539 - val_loss: 0.7084 - val_accuracy: 0.7408\n",
      "Epoch 5/10\n",
      "1875/1875 [==============================] - 6s 3ms/step - loss: 0.6560 - accuracy: 0.7633 - val_loss: 0.6703 - val_accuracy: 0.7600\n",
      "Epoch 6/10\n",
      "1875/1875 [==============================] - 5s 3ms/step - loss: 0.6382 - accuracy: 0.7696 - val_loss: 0.6498 - val_accuracy: 0.7689\n",
      "Epoch 7/10\n",
      "1875/1875 [==============================] - 5s 3ms/step - loss: 0.6252 - accuracy: 0.7723 - val_loss: 0.6416 - val_accuracy: 0.7720\n",
      "Epoch 8/10\n",
      "1875/1875 [==============================] - 5s 3ms/step - loss: 0.6164 - accuracy: 0.7777 - val_loss: 0.6337 - val_accuracy: 0.7759\n",
      "Epoch 9/10\n",
      "1875/1875 [==============================] - 5s 3ms/step - loss: 0.6094 - accuracy: 0.7798 - val_loss: 0.6343 - val_accuracy: 0.7777\n",
      "Epoch 10/10\n",
      "1875/1875 [==============================] - 6s 3ms/step - loss: 0.6039 - accuracy: 0.7796 - val_loss: 0.6270 - val_accuracy: 0.7777\n"
     ]
    }
   ],
   "metadata": {}
  },
  {
   "cell_type": "code",
   "execution_count": 55,
   "source": [
    "pd.DataFrame(non_norm_history.history).plot(title=\"Non-normalized Data\")\r\n",
    "pd.DataFrame(norm_history.history).plot(title=\"Normalized data\")"
   ],
   "outputs": [
    {
     "output_type": "execute_result",
     "data": {
      "text/plain": [
       "<AxesSubplot:title={'center':'Normalized data'}>"
      ]
     },
     "metadata": {},
     "execution_count": 55
    },
    {
     "output_type": "display_data",
     "data": {
      "image/png": "[encoded data removed]",
      "text/plain": [
       "<Figure size 432x288 with 1 Axes>"
      ]
     },
     "metadata": {
      "needs_background": "light"
     }
    },
    {
     "output_type": "display_data",
     "data": {
      "image/png": "[encoded data removed]",
      "text/plain": [
       "<Figure size 432x288 with 1 Axes>"
      ]
     },
     "metadata": {
      "needs_background": "light"
     }
    }
   ],
   "metadata": {}
  },
  {
   "cell_type": "code",
   "execution_count": 56,
   "source": [
    "model_13 = tf.keras.Sequential([\r\n",
    "  tf.keras.layers.Flatten(input_shape=(28, 28)), # input layer (we had to reshape 28x28 to 784)\r\n",
    "  tf.keras.layers.Dense(4, activation=\"relu\"),\r\n",
    "  tf.keras.layers.Dense(4, activation=\"relu\"),\r\n",
    "  tf.keras.layers.Dense(10, activation=\"softmax\") # output shape is 10, activation is softmax\r\n",
    "])\r\n",
    "\r\n",
    "# Compile the model\r\n",
    "model_13.compile(loss=tf.keras.losses.SparseCategoricalCrossentropy(),\r\n",
    "                 optimizer=tf.keras.optimizers.Adam(),\r\n",
    "                 metrics=[\"accuracy\"])\r\n",
    "\r\n",
    "# Create the learning rate callback\r\n",
    "lr_scheduler = tf.keras.callbacks.LearningRateScheduler(lambda epoch: 1e-3 * 10**(epoch/20))\r\n",
    "\r\n",
    "# Fit the model\r\n",
    "find_lr_history = model_13.fit(train_data,\r\n",
    "                               train_labels,\r\n",
    "                               epochs=40, # model already doing pretty good with current LR, probably don't need 100 epochs\r\n",
    "                               validation_data=(test_data, test_labels),\r\n",
    "                               callbacks=[lr_scheduler])"
   ],
   "outputs": [
    {
     "output_type": "stream",
     "name": "stdout",
     "text": [
      "Epoch 1/40\n",
      "1875/1875 [==============================] - 5s 2ms/step - loss: 1.1971 - accuracy: 0.5830 - val_loss: 0.8772 - val_accuracy: 0.6822\n",
      "Epoch 2/40\n",
      "1875/1875 [==============================] - 4s 2ms/step - loss: 0.7446 - accuracy: 0.7198 - val_loss: 0.7128 - val_accuracy: 0.7273\n",
      "Epoch 3/40\n",
      "1875/1875 [==============================] - 4s 2ms/step - loss: 0.6514 - accuracy: 0.7560 - val_loss: 0.6602 - val_accuracy: 0.7661\n",
      "Epoch 4/40\n",
      "1875/1875 [==============================] - 4s 2ms/step - loss: 0.6151 - accuracy: 0.7773 - val_loss: 0.6458 - val_accuracy: 0.7754\n",
      "Epoch 5/40\n",
      "1875/1875 [==============================] - 4s 2ms/step - loss: 0.5988 - accuracy: 0.7820 - val_loss: 0.6244 - val_accuracy: 0.7710\n",
      "Epoch 6/40\n",
      "1875/1875 [==============================] - 4s 2ms/step - loss: 0.5879 - accuracy: 0.7843 - val_loss: 0.6265 - val_accuracy: 0.7757\n",
      "Epoch 7/40\n",
      "1875/1875 [==============================] - 4s 2ms/step - loss: 0.5818 - accuracy: 0.7850 - val_loss: 0.6144 - val_accuracy: 0.7784\n",
      "Epoch 8/40\n",
      "1875/1875 [==============================] - 5s 2ms/step - loss: 0.5774 - accuracy: 0.7887 - val_loss: 0.6549 - val_accuracy: 0.7650\n",
      "Epoch 9/40\n",
      "1875/1875 [==============================] - 4s 2ms/step - loss: 0.5749 - accuracy: 0.7885 - val_loss: 0.6093 - val_accuracy: 0.7784\n",
      "Epoch 10/40\n",
      "1875/1875 [==============================] - 4s 2ms/step - loss: 0.5745 - accuracy: 0.7893 - val_loss: 0.6105 - val_accuracy: 0.7786\n",
      "Epoch 11/40\n",
      "1875/1875 [==============================] - 4s 2ms/step - loss: 0.5725 - accuracy: 0.7898 - val_loss: 0.6155 - val_accuracy: 0.7707\n",
      "Epoch 12/40\n",
      "1875/1875 [==============================] - 4s 2ms/step - loss: 0.5724 - accuracy: 0.7908 - val_loss: 0.6082 - val_accuracy: 0.7804\n",
      "Epoch 13/40\n",
      "1875/1875 [==============================] - 4s 2ms/step - loss: 0.5745 - accuracy: 0.7900 - val_loss: 0.6148 - val_accuracy: 0.7836\n",
      "Epoch 14/40\n",
      "1875/1875 [==============================] - 4s 2ms/step - loss: 0.5749 - accuracy: 0.7904 - val_loss: 0.6045 - val_accuracy: 0.7806\n",
      "Epoch 15/40\n",
      "1875/1875 [==============================] - 4s 2ms/step - loss: 0.5744 - accuracy: 0.7901 - val_loss: 0.6152 - val_accuracy: 0.7836\n",
      "Epoch 16/40\n",
      "1875/1875 [==============================] - 4s 2ms/step - loss: 0.5764 - accuracy: 0.7914 - val_loss: 0.6084 - val_accuracy: 0.7825\n",
      "Epoch 17/40\n",
      "1875/1875 [==============================] - 4s 2ms/step - loss: 0.5827 - accuracy: 0.7889 - val_loss: 0.6309 - val_accuracy: 0.7729\n",
      "Epoch 18/40\n",
      "1875/1875 [==============================] - 4s 2ms/step - loss: 0.5801 - accuracy: 0.7900 - val_loss: 0.6670 - val_accuracy: 0.7620\n",
      "Epoch 19/40\n",
      "1875/1875 [==============================] - 5s 2ms/step - loss: 0.5823 - accuracy: 0.7895 - val_loss: 0.6553 - val_accuracy: 0.7770\n",
      "Epoch 20/40\n",
      "1875/1875 [==============================] - 4s 2ms/step - loss: 0.5887 - accuracy: 0.7878 - val_loss: 0.6453 - val_accuracy: 0.7735\n",
      "Epoch 21/40\n",
      "1875/1875 [==============================] - 3s 2ms/step - loss: 0.5964 - accuracy: 0.7846 - val_loss: 0.7126 - val_accuracy: 0.7560\n",
      "Epoch 22/40\n",
      "1875/1875 [==============================] - 3s 2ms/step - loss: 0.5991 - accuracy: 0.7837 - val_loss: 0.6249 - val_accuracy: 0.7762\n",
      "Epoch 23/40\n",
      "1875/1875 [==============================] - 3s 2ms/step - loss: 0.6044 - accuracy: 0.7821 - val_loss: 0.6390 - val_accuracy: 0.7756\n",
      "Epoch 24/40\n",
      "1875/1875 [==============================] - 3s 2ms/step - loss: 0.6138 - accuracy: 0.7789 - val_loss: 0.6874 - val_accuracy: 0.7567\n",
      "Epoch 25/40\n",
      "1875/1875 [==============================] - 3s 2ms/step - loss: 0.6179 - accuracy: 0.7789 - val_loss: 0.6548 - val_accuracy: 0.7736\n",
      "Epoch 26/40\n",
      "1875/1875 [==============================] - 4s 2ms/step - loss: 0.6346 - accuracy: 0.7747 - val_loss: 0.6939 - val_accuracy: 0.7600\n",
      "Epoch 27/40\n",
      "1875/1875 [==============================] - 4s 2ms/step - loss: 0.6426 - accuracy: 0.7700 - val_loss: 0.6854 - val_accuracy: 0.7596\n",
      "Epoch 28/40\n",
      "1875/1875 [==============================] - 4s 2ms/step - loss: 0.6588 - accuracy: 0.7686 - val_loss: 0.7038 - val_accuracy: 0.7590\n",
      "Epoch 29/40\n",
      "1875/1875 [==============================] - 3s 2ms/step - loss: 0.6789 - accuracy: 0.7615 - val_loss: 0.6847 - val_accuracy: 0.7613\n",
      "Epoch 30/40\n",
      "1875/1875 [==============================] - 3s 2ms/step - loss: 0.6847 - accuracy: 0.7617 - val_loss: 0.7049 - val_accuracy: 0.7548\n",
      "Epoch 31/40\n",
      "1875/1875 [==============================] - 4s 2ms/step - loss: 0.7098 - accuracy: 0.7523 - val_loss: 0.7471 - val_accuracy: 0.7421\n",
      "Epoch 32/40\n",
      "1875/1875 [==============================] - 3s 2ms/step - loss: 0.7613 - accuracy: 0.7372 - val_loss: 0.8373 - val_accuracy: 0.7074\n",
      "Epoch 33/40\n",
      "1875/1875 [==============================] - 4s 2ms/step - loss: 0.7858 - accuracy: 0.7192 - val_loss: 0.7980 - val_accuracy: 0.7282\n",
      "Epoch 34/40\n",
      "1875/1875 [==============================] - 4s 2ms/step - loss: 0.8312 - accuracy: 0.6972 - val_loss: 0.7909 - val_accuracy: 0.6910\n",
      "Epoch 35/40\n",
      "1875/1875 [==============================] - 4s 2ms/step - loss: 0.9116 - accuracy: 0.6651 - val_loss: 0.9168 - val_accuracy: 0.6441\n",
      "Epoch 36/40\n",
      "1875/1875 [==============================] - 4s 2ms/step - loss: 1.1609 - accuracy: 0.5273 - val_loss: 1.3699 - val_accuracy: 0.3683\n",
      "Epoch 37/40\n",
      "1875/1875 [==============================] - 4s 2ms/step - loss: 1.3709 - accuracy: 0.3858 - val_loss: 1.3881 - val_accuracy: 0.3625\n",
      "Epoch 38/40\n",
      "1875/1875 [==============================] - 4s 2ms/step - loss: 1.5457 - accuracy: 0.3225 - val_loss: 1.8905 - val_accuracy: 0.1889\n",
      "Epoch 39/40\n",
      "1875/1875 [==============================] - 4s 2ms/step - loss: 1.7929 - accuracy: 0.1971 - val_loss: 1.7744 - val_accuracy: 0.1971\n",
      "Epoch 40/40\n",
      "1875/1875 [==============================] - 3s 2ms/step - loss: 1.7979 - accuracy: 0.1931 - val_loss: 1.8975 - val_accuracy: 0.1881\n"
     ]
    }
   ],
   "metadata": {}
  },
  {
   "cell_type": "code",
   "execution_count": 58,
   "source": [
    "import numpy as np\r\n",
    "import matplotlib.pyplot as plt\r\n",
    "lrs = 1e-3 * (10**(np.arange(40)/20))\r\n",
    "plt.semilogx(lrs, find_lr_history.history[\"loss\"])\r\n",
    "plt.xlabel(\"Learning rate\")\r\n",
    "plt.ylabel(\"Loss\")\r\n",
    "plt.title(\"Finding the ideal learning rate\")"
   ],
   "outputs": [
    {
     "output_type": "execute_result",
     "data": {
      "text/plain": [
       "Text(0.5, 1.0, 'Finding the ideal learning rate')"
      ]
     },
     "metadata": {},
     "execution_count": 58
    },
    {
     "output_type": "display_data",
     "data": {
      "image/png": "[encoded data removed]",
      "text/plain": [
       "<Figure size 432x288 with 1 Axes>"
      ]
     },
     "metadata": {
      "needs_background": "light"
     }
    }
   ],
   "metadata": {}
  },
  {
   "cell_type": "code",
   "execution_count": 60,
   "source": [
    "model_14 = tf.keras.Sequential([\r\n",
    "  tf.keras.layers.Flatten(input_shape=(28, 28)), # input layer (we had to reshape 28x28 to 784)\r\n",
    "  tf.keras.layers.Dense(4, activation=\"relu\"),\r\n",
    "  tf.keras.layers.Dense(4, activation=\"relu\"),\r\n",
    "  tf.keras.layers.Dense(10, activation=\"softmax\") # output shape is 10, activation is softmax\r\n",
    "])\r\n",
    "\r\n",
    "# Compile the model\r\n",
    "model_14.compile(loss=tf.keras.losses.SparseCategoricalCrossentropy(),\r\n",
    "                 optimizer=tf.keras.optimizers.Adam(learning_rate=0.001), # ideal learning rate (same as default)\r\n",
    "                 metrics=[\"accuracy\"])\r\n",
    "\r\n",
    "# Fit the model\r\n",
    "history = model_14.fit(train_data,\r\n",
    "                       train_labels,\r\n",
    "                       epochs=20,\r\n",
    "                       validation_data=(test_data, test_labels))"
   ],
   "outputs": [
    {
     "output_type": "stream",
     "name": "stdout",
     "text": [
      "Epoch 1/20\n",
      "1875/1875 [==============================] - 4s 2ms/step - loss: 1.2020 - accuracy: 0.5362 - val_loss: 0.7479 - val_accuracy: 0.7302\n",
      "Epoch 2/20\n",
      "1875/1875 [==============================] - 4s 2ms/step - loss: 0.6855 - accuracy: 0.7466 - val_loss: 0.6660 - val_accuracy: 0.7583\n",
      "Epoch 3/20\n",
      "1875/1875 [==============================] - 3s 2ms/step - loss: 0.6286 - accuracy: 0.7744 - val_loss: 0.6289 - val_accuracy: 0.7749\n",
      "Epoch 4/20\n",
      "1875/1875 [==============================] - 3s 2ms/step - loss: 0.5952 - accuracy: 0.7864 - val_loss: 0.6105 - val_accuracy: 0.7798\n",
      "Epoch 5/20\n",
      "1875/1875 [==============================] - 4s 2ms/step - loss: 0.5696 - accuracy: 0.7995 - val_loss: 0.6034 - val_accuracy: 0.7897\n",
      "Epoch 6/20\n",
      "1875/1875 [==============================] - 4s 2ms/step - loss: 0.5550 - accuracy: 0.8043 - val_loss: 0.5796 - val_accuracy: 0.7976\n",
      "Epoch 7/20\n",
      "1875/1875 [==============================] - 4s 2ms/step - loss: 0.5439 - accuracy: 0.8089 - val_loss: 0.5754 - val_accuracy: 0.7997\n",
      "Epoch 8/20\n",
      "1875/1875 [==============================] - 4s 2ms/step - loss: 0.5361 - accuracy: 0.8123 - val_loss: 0.5717 - val_accuracy: 0.8026\n",
      "Epoch 9/20\n",
      "1875/1875 [==============================] - 3s 2ms/step - loss: 0.5328 - accuracy: 0.8134 - val_loss: 0.5607 - val_accuracy: 0.8036\n",
      "Epoch 10/20\n",
      "1875/1875 [==============================] - 4s 2ms/step - loss: 0.5244 - accuracy: 0.8157 - val_loss: 0.5644 - val_accuracy: 0.8007\n",
      "Epoch 11/20\n",
      "1875/1875 [==============================] - 4s 2ms/step - loss: 0.5206 - accuracy: 0.8177 - val_loss: 0.5608 - val_accuracy: 0.8063\n",
      "Epoch 12/20\n",
      "1875/1875 [==============================] - 4s 2ms/step - loss: 0.5155 - accuracy: 0.8201 - val_loss: 0.5630 - val_accuracy: 0.8035\n",
      "Epoch 13/20\n",
      "1875/1875 [==============================] - 4s 2ms/step - loss: 0.5131 - accuracy: 0.8220 - val_loss: 0.5626 - val_accuracy: 0.8064\n",
      "Epoch 14/20\n",
      "1875/1875 [==============================] - 4s 2ms/step - loss: 0.5102 - accuracy: 0.8236 - val_loss: 0.5472 - val_accuracy: 0.8077\n",
      "Epoch 15/20\n",
      "1875/1875 [==============================] - 4s 2ms/step - loss: 0.5084 - accuracy: 0.8241 - val_loss: 0.5480 - val_accuracy: 0.8113\n",
      "Epoch 16/20\n",
      "1875/1875 [==============================] - 3s 2ms/step - loss: 0.5044 - accuracy: 0.8249 - val_loss: 0.5589 - val_accuracy: 0.8080\n",
      "Epoch 17/20\n",
      "1875/1875 [==============================] - 5s 2ms/step - loss: 0.5042 - accuracy: 0.8264 - val_loss: 0.5499 - val_accuracy: 0.8086\n",
      "Epoch 18/20\n",
      "1875/1875 [==============================] - 4s 2ms/step - loss: 0.5014 - accuracy: 0.8269 - val_loss: 0.5450 - val_accuracy: 0.8112\n",
      "Epoch 19/20\n",
      "1875/1875 [==============================] - 4s 2ms/step - loss: 0.4992 - accuracy: 0.8271 - val_loss: 0.5493 - val_accuracy: 0.8144\n",
      "Epoch 20/20\n",
      "1875/1875 [==============================] - 4s 2ms/step - loss: 0.4974 - accuracy: 0.8289 - val_loss: 0.5798 - val_accuracy: 0.7979\n"
     ]
    }
   ],
   "metadata": {}
  },
  {
   "cell_type": "code",
   "execution_count": 61,
   "source": [
    "import itertools\r\n",
    "from sklearn.metrics import confusion_matrix\r\n",
    "\r\n",
    "def make_confusion_matrix(y_true, y_pred, classes=None, figsize=(10, 10), text_size=15):\r\n",
    "  cm = confusion_matrix(y_true, y_pred)\r\n",
    "  cm_norm = cm.astype(\"float\") / cm.sum(axis=1)[:, np.newaxis]\r\n",
    "  n_classes = cm.shape[0]\r\n",
    "\r\n",
    "  fig, ax = plt.subplots(figsize=figsize)\r\n",
    "  cax = ax.matshow(cm, cmap=plt.cm.Blues)\r\n",
    "  fig.colorbar(cax)\r\n",
    "\r\n",
    "  if classes:\r\n",
    "    labels = classes\r\n",
    "  else:\r\n",
    "    labels = np.arange(cm.shape[0])\r\n",
    "  \r\n",
    "  ax.set(title=\"Confusion Matrix\",\r\n",
    "         xlabel=\"Predicted label\",\r\n",
    "         ylabel=\"True label\",\r\n",
    "         xticks=np.arange(n_classes),\r\n",
    "         yticks=np.arange(n_classes), \r\n",
    "         xticklabels=labels,\r\n",
    "         yticklabels=labels)\r\n",
    "  \r\n",
    "  ax.xaxis.set_label_position(\"bottom\")\r\n",
    "  ax.xaxis.tick_bottom()\r\n",
    "\r\n",
    "  threshold = (cm.max() + cm.min()) / 2.\r\n",
    "\r\n",
    "  for i, j in itertools.product(range(cm.shape[0]), range(cm.shape[1])):\r\n",
    "    plt.text(j, i, f\"{cm[i, j]} ({cm_norm[i, j]*100:.1f}%)\",\r\n",
    "             horizontalalignment=\"center\",\r\n",
    "             color=\"white\" if cm[i, j] > threshold else \"black\",\r\n",
    "             size=text_size)"
   ],
   "outputs": [],
   "metadata": {}
  },
  {
   "cell_type": "code",
   "execution_count": 62,
   "source": [
    "y_probs = model_14.predict(test_data)\r\n",
    "\r\n",
    "y_probs[:5]"
   ],
   "outputs": [
    {
     "output_type": "execute_result",
     "data": {
      "text/plain": [
       "array([[6.25031021e-07, 1.82524764e-06, 3.07414666e-06, 1.54529234e-09,\n",
       "        1.69139258e-10, 8.20061862e-02, 3.27872044e-07, 9.02572349e-02,\n",
       "        1.21296034e-03, 8.26517761e-01],\n",
       "       [2.23576266e-04, 4.76673478e-04, 9.76238906e-01, 2.71715635e-06,\n",
       "        5.80651220e-03, 4.89589264e-25, 1.72506068e-02, 2.62947123e-35,\n",
       "        1.03333639e-06, 1.71510906e-18],\n",
       "       [5.36944353e-05, 9.99231458e-01, 9.60212105e-07, 7.13796413e-04,\n",
       "        2.88304891e-09, 1.54118041e-07, 2.24268977e-08, 0.00000000e+00,\n",
       "        2.66507367e-12, 2.88695173e-38],\n",
       "       [1.07526881e-04, 9.98471439e-01, 2.56655312e-06, 1.41796877e-03,\n",
       "        1.21369332e-08, 3.46609596e-07, 8.06166227e-08, 0.00000000e+00,\n",
       "        1.38806865e-11, 2.86351095e-36],\n",
       "       [1.37410462e-01, 7.85887969e-05, 3.28277610e-02, 4.97209057e-02,\n",
       "        5.78794107e-02, 2.11287048e-16, 7.20710754e-01, 9.88960466e-26,\n",
       "        1.37212023e-03, 6.63573722e-20]], dtype=float32)"
      ]
     },
     "metadata": {},
     "execution_count": 62
    }
   ],
   "metadata": {}
  },
  {
   "cell_type": "code",
   "execution_count": 63,
   "source": [
    "y_probs[0].argmax(), class_names[y_probs[0].argmax()]"
   ],
   "outputs": [
    {
     "output_type": "execute_result",
     "data": {
      "text/plain": [
       "(9, 'Ankle boot')"
      ]
     },
     "metadata": {},
     "execution_count": 63
    }
   ],
   "metadata": {}
  },
  {
   "cell_type": "code",
   "execution_count": 64,
   "source": [
    "y_preds = y_probs.argmax(axis=1)\r\n",
    "\r\n",
    "y_preds[:10]"
   ],
   "outputs": [
    {
     "output_type": "execute_result",
     "data": {
      "text/plain": [
       "array([9, 2, 1, 1, 6, 1, 4, 6, 5, 7], dtype=int64)"
      ]
     },
     "metadata": {},
     "execution_count": 64
    }
   ],
   "metadata": {}
  },
  {
   "cell_type": "code",
   "execution_count": 65,
   "source": [
    "from sklearn.metrics import confusion_matrix\r\n",
    "confusion_matrix(y_true=test_labels, \r\n",
    "                 y_pred=y_preds)"
   ],
   "outputs": [
    {
     "output_type": "execute_result",
     "data": {
      "text/plain": [
       "array([[601,   3,  13, 106,   8,   1, 247,   0,  21,   0],\n",
       "       [  0, 915,   9,  59,  10,   1,   6,   0,   0,   0],\n",
       "       [  4,   0, 633,   9, 256,   0,  92,   0,   6,   0],\n",
       "       [ 22,  10,   5, 797,  75,   0,  86,   0,   4,   1],\n",
       "       [  0,   0,  57,  15, 854,   1,  71,   0,   2,   0],\n",
       "       [  0,   0,   0,   0,   0, 861,   0,  79,  11,  49],\n",
       "       [ 48,   1,  96,  49, 225,   1, 564,   0,  15,   1],\n",
       "       [  0,   0,   0,   0,   0,  30,   0, 920,   0,  50],\n",
       "       [  2,   0,  21,   6,   5,   9,  61,   6, 890,   0],\n",
       "       [  0,   0,   1,   0,   0,   6,   0,  41,   8, 944]], dtype=int64)"
      ]
     },
     "metadata": {},
     "execution_count": 65
    }
   ],
   "metadata": {}
  },
  {
   "cell_type": "code",
   "execution_count": 66,
   "source": [
    "import random\r\n",
    "def plot_random_image(model, images, true_labels, classes):\r\n",
    "  i = random.randint(0, len(images))\r\n",
    "  \r\n",
    "  target_image = images[i]\r\n",
    "  pred_probs = model.predict(target_image.reshape(1, 28, 28))\r\n",
    "  pred_label = classes[pred_probs.argmax()]\r\n",
    "  true_label = classes[true_labels[i]]\r\n",
    "\r\n",
    "  plt.imshow(target_image, cmap=plt.cm.binary)\r\n",
    "  if pred_label == true_label:\r\n",
    "    color = \"green\"\r\n",
    "  else:\r\n",
    "    color = \"red\"\r\n",
    "\r\n",
    "  plt.xlabel(\"Pred: {} {:2.0f}% (True: {})\".format(pred_label,\r\n",
    "                                                   100*tf.reduce_max(pred_probs),\r\n",
    "                                                   true_label),\r\n",
    "             color=color)"
   ],
   "outputs": [],
   "metadata": {}
  },
  {
   "cell_type": "code",
   "execution_count": 67,
   "source": [
    "model_14.layers"
   ],
   "outputs": [
    {
     "output_type": "execute_result",
     "data": {
      "text/plain": [
       "[<keras.layers.core.Flatten at 0x10d086b29a0>,\n",
       " <keras.layers.core.Dense at 0x10d0e4d0b80>,\n",
       " <keras.layers.core.Dense at 0x10d0e535f40>,\n",
       " <keras.layers.core.Dense at 0x10d0b766760>]"
      ]
     },
     "metadata": {},
     "execution_count": 67
    }
   ],
   "metadata": {}
  },
  {
   "cell_type": "code",
   "execution_count": 68,
   "source": [
    "weights, biases = model_14.layers[1].get_weights()\r\n",
    "\r\n",
    "weights, weights.shape"
   ],
   "outputs": [
    {
     "output_type": "execute_result",
     "data": {
      "text/plain": [
       "(array([[-0.64669174,  0.59598213,  0.14162645, -0.7522467 ],\n",
       "        [-0.06447422,  0.82093394, -0.38830617, -0.10662339],\n",
       "        [-0.7721479 ,  0.3626354 ,  0.85348856, -0.6599971 ],\n",
       "        ...,\n",
       "        [ 0.3967281 , -0.01324915, -0.20878327, -0.60815066],\n",
       "        [ 0.40858588, -0.24787202, -0.09063309, -0.5709937 ],\n",
       "        [ 0.22905678,  0.87736106,  0.358648  , -0.20346151]],\n",
       "       dtype=float32),\n",
       " (784, 4))"
      ]
     },
     "metadata": {},
     "execution_count": 68
    }
   ],
   "metadata": {}
  },
  {
   "cell_type": "code",
   "execution_count": 69,
   "source": [
    "biases, biases.shape"
   ],
   "outputs": [
    {
     "output_type": "execute_result",
     "data": {
      "text/plain": [
       "(array([ 0.663465  ,  0.77224255, -0.10646163,  1.1019033 ], dtype=float32),\n",
       " (4,))"
      ]
     },
     "metadata": {},
     "execution_count": 69
    }
   ],
   "metadata": {}
  },
  {
   "cell_type": "code",
   "execution_count": 70,
   "source": [
    "model_14.summary()"
   ],
   "outputs": [
    {
     "output_type": "stream",
     "name": "stdout",
     "text": [
      "Model: \"sequential_7\"\n",
      "_________________________________________________________________\n",
      "Layer (type)                 Output Shape              Param #   \n",
      "=================================================================\n",
      "flatten_4 (Flatten)          (None, 784)               0         \n",
      "_________________________________________________________________\n",
      "dense_20 (Dense)             (None, 4)                 3140      \n",
      "_________________________________________________________________\n",
      "dense_21 (Dense)             (None, 4)                 20        \n",
      "_________________________________________________________________\n",
      "dense_22 (Dense)             (None, 10)                50        \n",
      "=================================================================\n",
      "Total params: 3,210\n",
      "Trainable params: 3,210\n",
      "Non-trainable params: 0\n",
      "_________________________________________________________________\n"
     ]
    }
   ],
   "metadata": {}
  }
 ],
 "metadata": {
  "orig_nbformat": 4,
  "language_info": {
   "name": "python",
   "version": "3.8.8",
   "mimetype": "text/x-python",
   "codemirror_mode": {
    "name": "ipython",
    "version": 3
   },
   "pygments_lexer": "ipython3",
   "nbconvert_exporter": "python",
   "file_extension": ".py"
  },
  "kernelspec": {
   "name": "python3",
   "display_name": "Python 3.8.8 64-bit ('base': conda)"
  },
  "interpreter": {
   "hash": "07efdcd4b820c98a756949507a4d29d7862823915ec7477944641bea022f4f62"
  }
 },
 "nbformat": 4,
 "nbformat_minor": 2
}