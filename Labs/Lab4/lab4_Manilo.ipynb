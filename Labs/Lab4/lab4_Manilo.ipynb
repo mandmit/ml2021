{
 "cells": [
  {
   "cell_type": "markdown",
   "source": [
    "# Лабораторна робота №4\r\n",
    "## Студента групи МІТ-31 (підгрупа 2)\r\n",
    "## Маніла Дмитра Олексійовича"
   ],
   "metadata": {}
  },
  {
   "cell_type": "markdown",
   "source": [
    "# Завдання\r\n",
    "1.  Здійснити загальні операції з використанням TensorFlow (створити набір даних (розмір за власним рішенням) у вигляді тензорів, провести CRUD операції над даними (скаляр, вектор, матриця)).\r\n",
    "\r\n",
    "2.  Згенерувати набір даних для регресії та класифікації з використанням TensorFlow\r\n",
    "\r\n",
    "3.  Здійснити графічний аналіз наборів даних за допомогою Matplotlib\r\n",
    "\r\n",
    "4.  Відповіді оформити .ipynb документом\r\n",
    "\r\n",
    "5.  Викласти у зазначений репозіторій GitHub в окремій папці з назвою Lab4 де має бути .ipynb файл та необхідні файли з даними"
   ],
   "metadata": {}
  },
  {
   "cell_type": "code",
   "execution_count": 5,
   "source": [
    "import tensorflow as tf\r\n",
    "import matplotlib.pyplot as plt\r\n",
    "import numpy as np\r\n",
    "import pandas as pd"
   ],
   "outputs": [],
   "metadata": {}
  },
  {
   "cell_type": "code",
   "execution_count": 8,
   "source": [
    "scalar = tf.constant(13)\r\n",
    "\r\n",
    "vector = tf.constant([2.0, 15, 33])\r\n",
    "\r\n",
    "matrix = tf.constant([[13, 2], [5, 3], [17, 5], [8, 92]])\r\n",
    "\r\n",
    "print('Scalar:' , scalar)\r\n",
    "\r\n",
    "print('Vector:', vector)\r\n",
    "\r\n",
    "print('Matrix:', matrix)"
   ],
   "outputs": [
    {
     "output_type": "stream",
     "name": "stdout",
     "text": [
      "Scalar: tf.Tensor(13, shape=(), dtype=int32)\n",
      "Vector: tf.Tensor([ 2. 15. 33.], shape=(3,), dtype=float32)\n",
      "Matrix: tf.Tensor(\n",
      "[[13  2]\n",
      " [ 5  3]\n",
      " [17  5]\n",
      " [ 8 92]], shape=(4, 2), dtype=int32)\n"
     ]
    }
   ],
   "metadata": {}
  },
  {
   "cell_type": "code",
   "execution_count": 24,
   "source": [
    "random1 = tf.random.Generator.from_seed(2) \r\n",
    "random1 = random1.normal(shape=(2, 5))\r\n",
    "\r\n",
    "random2 = tf.random.Generator.from_seed(2)\r\n",
    "random2 = random2.normal(shape=(2, 5))"
   ],
   "outputs": [],
   "metadata": {}
  },
  {
   "cell_type": "code",
   "execution_count": 25,
   "source": [
    "ones = tf.ones([5, 12])\r\n",
    "\r\n",
    "zeros = tf.zeros(shape=(1,2,4,4))\r\n",
    "print('Ones:', ones)\r\n",
    "\r\n",
    "print('Zeros:', zeros)"
   ],
   "outputs": [
    {
     "output_type": "stream",
     "name": "stdout",
     "text": [
      "Ones: tf.Tensor(\n",
      "[[1. 1. 1. 1. 1. 1. 1. 1. 1. 1. 1. 1.]\n",
      " [1. 1. 1. 1. 1. 1. 1. 1. 1. 1. 1. 1.]\n",
      " [1. 1. 1. 1. 1. 1. 1. 1. 1. 1. 1. 1.]\n",
      " [1. 1. 1. 1. 1. 1. 1. 1. 1. 1. 1. 1.]\n",
      " [1. 1. 1. 1. 1. 1. 1. 1. 1. 1. 1. 1.]], shape=(5, 12), dtype=float32)\n",
      "Zeros: tf.Tensor(\n",
      "[[[[0. 0. 0. 0.]\n",
      "   [0. 0. 0. 0.]\n",
      "   [0. 0. 0. 0.]\n",
      "   [0. 0. 0. 0.]]\n",
      "\n",
      "  [[0. 0. 0. 0.]\n",
      "   [0. 0. 0. 0.]\n",
      "   [0. 0. 0. 0.]\n",
      "   [0. 0. 0. 0.]]]], shape=(1, 2, 4, 4), dtype=float32)\n"
     ]
    }
   ],
   "metadata": {}
  },
  {
   "cell_type": "code",
   "execution_count": 26,
   "source": [
    "changeable_tensor = tf.Variable([5, 12])\r\n",
    "unchangeable_tensor = tf.constant([5, 12])\r\n",
    "\r\n",
    "changeable_tensor[0].assign(12)"
   ],
   "outputs": [
    {
     "output_type": "execute_result",
     "data": {
      "text/plain": [
       "<tf.Variable 'UnreadVariable' shape=(2,) dtype=int32, numpy=array([12, 12])>"
      ]
     },
     "metadata": {},
     "execution_count": 26
    }
   ],
   "metadata": {}
  },
  {
   "cell_type": "code",
   "execution_count": 27,
   "source": [
    "random3 = tf.random.Generator.from_seed(2) \r\n",
    "random3 = random3.normal(shape=(2, 5))\r\n",
    "print(random3)\r\n",
    "\r\n",
    "tf.random.set_seed(13)\r\n",
    "tf.random.shuffle(random3, seed=13)\r\n",
    "print(random3)"
   ],
   "outputs": [
    {
     "output_type": "stream",
     "name": "stdout",
     "text": [
      "tf.Tensor(\n",
      "[[-0.1012345  -0.2744976   1.4204658   1.2609464  -0.43640924]\n",
      " [-1.9633987  -0.06452483 -1.056841    1.0019137   0.6735137 ]], shape=(2, 5), dtype=float32)\n",
      "tf.Tensor(\n",
      "[[-0.1012345  -0.2744976   1.4204658   1.2609464  -0.43640924]\n",
      " [-1.9633987  -0.06452483 -1.056841    1.0019137   0.6735137 ]], shape=(2, 5), dtype=float32)\n"
     ]
    }
   ],
   "metadata": {}
  },
  {
   "cell_type": "code",
   "execution_count": 31,
   "source": [
    "rank4_tensor = tf.zeros(shape=[1, 2, 4, 6])\r\n",
    "rank4_tensor"
   ],
   "outputs": [
    {
     "output_type": "execute_result",
     "data": {
      "text/plain": [
       "<tf.Tensor: shape=(1, 2, 4, 6), dtype=float32, numpy=\n",
       "array([[[[0., 0., 0., 0., 0., 0.],\n",
       "         [0., 0., 0., 0., 0., 0.],\n",
       "         [0., 0., 0., 0., 0., 0.],\n",
       "         [0., 0., 0., 0., 0., 0.]],\n",
       "\n",
       "        [[0., 0., 0., 0., 0., 0.],\n",
       "         [0., 0., 0., 0., 0., 0.],\n",
       "         [0., 0., 0., 0., 0., 0.],\n",
       "         [0., 0., 0., 0., 0., 0.]]]], dtype=float32)>"
      ]
     },
     "metadata": {},
     "execution_count": 31
    }
   ],
   "metadata": {}
  },
  {
   "cell_type": "code",
   "execution_count": 32,
   "source": [
    "rank4_tensor.shape, rank4_tensor.ndim, tf.size(rank4_tensor)\r\n",
    "\r\n",
    "print(\"Number of dimensions (rank):\", rank4_tensor.ndim)\r\n",
    "print(\"Elements along the last axis:\", rank4_tensor.shape[-1])\r\n",
    "print(\"Shape of tensor:\", rank4_tensor.shape)\r\n",
    "print(\"Total number of elements in our tensor:\", tf.size(rank4_tensor).numpy())\r\n",
    "print(\"Total number of elements in our tensor:\", tf.size(rank4_tensor))\r\n",
    "print(\"Elements along the 0 axis:\", rank4_tensor.shape[0])\r\n",
    "print(\"Datatype of every element:\", rank4_tensor.dtype)"
   ],
   "outputs": [
    {
     "output_type": "stream",
     "name": "stdout",
     "text": [
      "Number of dimensions (rank): 4\n",
      "Elements along the last axis: 6\n",
      "Shape of tensor: (1, 2, 4, 6)\n",
      "Total number of elements in our tensor: 48\n",
      "Total number of elements in our tensor: tf.Tensor(48, shape=(), dtype=int32)\n",
      "Elements along the 0 axis: 1\n",
      "Datatype of every element: <dtype: 'float32'>\n"
     ]
    }
   ],
   "metadata": {}
  },
  {
   "cell_type": "code",
   "execution_count": 33,
   "source": [
    "print(matrix + 3, matrix * 3, matrix - 3)\r\n",
    "print(tf.multiply(matrix, 3))"
   ],
   "outputs": [
    {
     "output_type": "stream",
     "name": "stdout",
     "text": [
      "tf.Tensor(\n",
      "[[16  5]\n",
      " [ 8  6]\n",
      " [20  8]\n",
      " [11 95]], shape=(4, 2), dtype=int32) tf.Tensor(\n",
      "[[ 39   6]\n",
      " [ 15   9]\n",
      " [ 51  15]\n",
      " [ 24 276]], shape=(4, 2), dtype=int32) tf.Tensor(\n",
      "[[10 -1]\n",
      " [ 2  0]\n",
      " [14  2]\n",
      " [ 5 89]], shape=(4, 2), dtype=int32)\n",
      "tf.Tensor(\n",
      "[[ 39   6]\n",
      " [ 15   9]\n",
      " [ 51  15]\n",
      " [ 24 276]], shape=(4, 2), dtype=int32)\n"
     ]
    }
   ],
   "metadata": {}
  },
  {
   "cell_type": "code",
   "execution_count": 34,
   "source": [
    "def tf_delete(tensor,index,row=True):\r\n",
    "    \r\n",
    "    if row:\r\n",
    "        sub = list(range(tensor.shape[0]))\r\n",
    "    else:\r\n",
    "        sub = list(range(tensor.shape[1]))\r\n",
    "    sub.pop(index)\r\n",
    "    \r\n",
    "    if row:\r\n",
    "        return  tf.gather(tensor,sub)\r\n",
    "    return tf.transpose(tf.gather(tf.transpose(tensor),sub))"
   ],
   "outputs": [],
   "metadata": {}
  },
  {
   "cell_type": "code",
   "execution_count": 35,
   "source": [
    "print(matrix)\r\n",
    "matrix = tf_delete(matrix,1,row=True)\r\n",
    "print(matrix)\r\n",
    "matrix = tf_delete(matrix,1,row=False)\r\n",
    "print(matrix)"
   ],
   "outputs": [
    {
     "output_type": "stream",
     "name": "stdout",
     "text": [
      "tf.Tensor(\n",
      "[[13  2]\n",
      " [ 5  3]\n",
      " [17  5]\n",
      " [ 8 92]], shape=(4, 2), dtype=int32)\n",
      "tf.Tensor(\n",
      "[[13  2]\n",
      " [17  5]\n",
      " [ 8 92]], shape=(3, 2), dtype=int32)\n",
      "tf.Tensor(\n",
      "[[13]\n",
      " [17]\n",
      " [ 8]], shape=(3, 1), dtype=int32)\n"
     ]
    }
   ],
   "metadata": {}
  },
  {
   "cell_type": "code",
   "execution_count": 36,
   "source": [
    "basic_computer = tf.constant([\"mouse\", \"keyboard\", \"processor\", \"graphic card\", \"monitor\"])\r\n",
    "computer_price = tf.constant([8550])\r\n",
    "basic_computer, computer_price\r\n",
    "\r\n",
    "X = np.array([-3.0, -1.0, 1.0, 3.0, 5.0, 7.0, 9.0, 11.0])\r\n",
    "\r\n",
    "y = np.array([10.0, 12.0, 14.0, 16.0, 18.0, 20.0, 22.0, 24.0])\r\n",
    "\r\n",
    "plt.scatter(X, y)\r\n",
    "\r\n",
    "input_shape = X[0].shape \r\n",
    "\r\n",
    "output_shape = y[0].shape"
   ],
   "outputs": [
    {
     "output_type": "display_data",
     "data": {
      "image/png": "[encoded data removed]",
      "text/plain": [
       "<Figure size 432x288 with 1 Axes>"
      ]
     },
     "metadata": {
      "needs_background": "light"
     }
    }
   ],
   "metadata": {}
  },
  {
   "cell_type": "code",
   "execution_count": 53,
   "source": [
    "X = np.array([-3.0, -1.0, 1.0, 3.0, 5.0, 7.0, 9.0, 11.0])\r\n",
    "\r\n",
    "y = np.array([10.0, 12.0, 14.0, 16.0, 18.0, 20.0, 22.0, 24.0])\r\n",
    "\r\n",
    "X_train = X[:8]\r\n",
    "y_train = y[:8]\r\n",
    "\r\n",
    "X_test = X[0:]\r\n",
    "y_test = y[0:]"
   ],
   "outputs": [],
   "metadata": {}
  },
  {
   "cell_type": "code",
   "execution_count": 54,
   "source": [
    "tf.random.set_seed(13)\r\n",
    "\r\n",
    "model = tf.keras.Sequential([\r\n",
    "  tf.keras.layers.Dense(1)\r\n",
    "])\r\n",
    "\r\n",
    "model.compile(loss=tf.keras.losses.mae,\r\n",
    "              optimizer=tf.keras.optimizers.SGD(),\r\n",
    "              metrics=[\"mae\"])\r\n",
    "\r\n",
    "model.fit(X, y, epochs=5)\r\n",
    "\r\n",
    "model.predict([16.0])"
   ],
   "outputs": [
    {
     "output_type": "stream",
     "name": "stdout",
     "text": [
      "Epoch 1/5\n",
      "1/1 [==============================] - 1s 586ms/step - loss: 15.6370 - mae: 15.6370\n",
      "Epoch 2/5\n",
      "1/1 [==============================] - 0s 5ms/step - loss: 15.4670 - mae: 15.4670\n",
      "Epoch 3/5\n",
      "1/1 [==============================] - 0s 3ms/step - loss: 15.2970 - mae: 15.2970\n",
      "Epoch 4/5\n",
      "1/1 [==============================] - 0s 3ms/step - loss: 15.1270 - mae: 15.1270\n",
      "Epoch 5/5\n",
      "1/1 [==============================] - 0s 4ms/step - loss: 14.9570 - mae: 14.9570\n"
     ]
    },
    {
     "output_type": "execute_result",
     "data": {
      "text/plain": [
       "array([[8.702131]], dtype=float32)"
      ]
     },
     "metadata": {},
     "execution_count": 54
    }
   ],
   "metadata": {}
  },
  {
   "cell_type": "code",
   "execution_count": 55,
   "source": [
    "from sklearn.datasets import make_circles\r\n",
    "\r\n",
    "n_samples = 1000\r\n",
    "\r\n",
    "X, y = make_circles(n_samples, \r\n",
    "                    noise=0.03, \r\n",
    "                    random_state=13)\r\n",
    "\r\n",
    "X.shape, y.shape"
   ],
   "outputs": [
    {
     "output_type": "execute_result",
     "data": {
      "text/plain": [
       "((1000, 2), (1000,))"
      ]
     },
     "metadata": {},
     "execution_count": 55
    }
   ],
   "metadata": {}
  },
  {
   "cell_type": "code",
   "execution_count": 56,
   "source": [
    "tf.random.set_seed(13)\r\n",
    "\r\n",
    "model_1 = tf.keras.Sequential([\r\n",
    "  tf.keras.layers.Dense(1)\r\n",
    "])\r\n",
    "\r\n",
    "model_1.compile(loss=tf.keras.losses.BinaryCrossentropy(),\r\n",
    "                optimizer=tf.keras.optimizers.SGD(),\r\n",
    "                metrics=['accuracy'])\r\n",
    "\r\n",
    "model_1.fit(X, y, epochs=5)\r\n",
    "\r\n",
    "model_1.fit(X, y, epochs=200, verbose=0)\r\n",
    "model_1.evaluate(X, y)"
   ],
   "outputs": [
    {
     "output_type": "stream",
     "name": "stdout",
     "text": [
      "Epoch 1/5\n",
      "32/32 [==============================] - 1s 2ms/step - loss: 5.4784 - accuracy: 0.4910\n",
      "Epoch 2/5\n",
      "32/32 [==============================] - 0s 2ms/step - loss: 3.9628 - accuracy: 0.4990\n",
      "Epoch 3/5\n",
      "32/32 [==============================] - 0s 2ms/step - loss: 1.0001 - accuracy: 0.4980\n",
      "Epoch 4/5\n",
      "32/32 [==============================] - 0s 2ms/step - loss: 0.7223 - accuracy: 0.4960\n",
      "Epoch 5/5\n",
      "32/32 [==============================] - 0s 2ms/step - loss: 0.7032 - accuracy: 0.4980\n",
      "32/32 [==============================] - 0s 1ms/step - loss: 0.6932 - accuracy: 0.5000\n"
     ]
    },
    {
     "output_type": "execute_result",
     "data": {
      "text/plain": [
       "[0.6932075619697571, 0.5]"
      ]
     },
     "metadata": {},
     "execution_count": 56
    }
   ],
   "metadata": {}
  },
  {
   "cell_type": "code",
   "execution_count": 57,
   "source": [
    "tf.random.set_seed(42)\r\n",
    "\r\n",
    "model_3 = tf.keras.Sequential([\r\n",
    "  tf.keras.layers.Dense(4, activation=\"relu\"),\r\n",
    "  tf.keras.layers.Dense(4, activation=\"relu\"),\r\n",
    "  tf.keras.layers.Dense(1, activation=\"sigmoid\")\r\n",
    "])\r\n",
    "\r\n",
    "model_3.compile(loss=\"binary_crossentropy\",\r\n",
    "              optimizer=\"Adam\",\r\n",
    "              metrics=[\"accuracy\"]) \r\n",
    "\r\n",
    "lr_scheduler = tf.keras.callbacks.LearningRateScheduler(lambda epoch: 1e-4 * 10**(epoch/20))\r\n",
    "\r\n",
    "history = model_3.fit(X_train, \r\n",
    "                      y_train, \r\n",
    "                      epochs=100,\r\n",
    "                      callbacks=[lr_scheduler])\r\n",
    "\r\n",
    "pd.DataFrame(history.history).plot(figsize=(10,7), xlabel=\"epochs\")"
   ],
   "outputs": [
    {
     "output_type": "stream",
     "name": "stdout",
     "text": [
      "Epoch 1/100\n",
      "1/1 [==============================] - 1s 618ms/step - loss: 21.5628 - accuracy: 0.0000e+00\n",
      "Epoch 2/100\n",
      "1/1 [==============================] - 0s 6ms/step - loss: 21.5425 - accuracy: 0.0000e+00\n",
      "Epoch 3/100\n",
      "1/1 [==============================] - 0s 4ms/step - loss: 21.5198 - accuracy: 0.0000e+00\n",
      "Epoch 4/100\n",
      "1/1 [==============================] - 0s 4ms/step - loss: 21.4943 - accuracy: 0.0000e+00\n",
      "Epoch 5/100\n",
      "1/1 [==============================] - 0s 8ms/step - loss: 21.4657 - accuracy: 0.0000e+00\n",
      "Epoch 6/100\n",
      "1/1 [==============================] - 0s 5ms/step - loss: 21.4337 - accuracy: 0.0000e+00\n",
      "Epoch 7/100\n",
      "1/1 [==============================] - 0s 7ms/step - loss: 21.3977 - accuracy: 0.0000e+00\n",
      "Epoch 8/100\n",
      "1/1 [==============================] - 0s 5ms/step - loss: 21.3574 - accuracy: 0.0000e+00\n",
      "Epoch 9/100\n",
      "1/1 [==============================] - 0s 4ms/step - loss: 21.3122 - accuracy: 0.0000e+00\n",
      "Epoch 10/100\n",
      "1/1 [==============================] - 0s 7ms/step - loss: 21.2615 - accuracy: 0.0000e+00\n",
      "Epoch 11/100\n",
      "1/1 [==============================] - 0s 5ms/step - loss: 21.2047 - accuracy: 0.0000e+00\n",
      "Epoch 12/100\n",
      "1/1 [==============================] - 0s 4ms/step - loss: 21.1410 - accuracy: 0.0000e+00\n",
      "Epoch 13/100\n",
      "1/1 [==============================] - 0s 5ms/step - loss: 21.0696 - accuracy: 0.0000e+00\n",
      "Epoch 14/100\n",
      "1/1 [==============================] - 0s 4ms/step - loss: 20.9896 - accuracy: 0.0000e+00\n",
      "Epoch 15/100\n",
      "1/1 [==============================] - 0s 8ms/step - loss: 20.9000 - accuracy: 0.0000e+00\n",
      "Epoch 16/100\n",
      "1/1 [==============================] - 0s 5ms/step - loss: 20.7996 - accuracy: 0.0000e+00\n",
      "Epoch 17/100\n",
      "1/1 [==============================] - 0s 8ms/step - loss: 20.6872 - accuracy: 0.0000e+00\n",
      "Epoch 18/100\n",
      "1/1 [==============================] - 0s 7ms/step - loss: 20.5613 - accuracy: 0.0000e+00\n",
      "Epoch 19/100\n",
      "1/1 [==============================] - 0s 6ms/step - loss: 20.4213 - accuracy: 0.0000e+00\n",
      "Epoch 20/100\n",
      "1/1 [==============================] - 0s 4ms/step - loss: 20.2632 - accuracy: 0.0000e+00\n",
      "Epoch 21/100\n",
      "1/1 [==============================] - 0s 9ms/step - loss: 20.0874 - accuracy: 0.0000e+00\n",
      "Epoch 22/100\n",
      "1/1 [==============================] - 0s 5ms/step - loss: 19.8908 - accuracy: 0.0000e+00\n",
      "Epoch 23/100\n",
      "1/1 [==============================] - 0s 5ms/step - loss: 19.6709 - accuracy: 0.0000e+00\n",
      "Epoch 24/100\n",
      "1/1 [==============================] - 0s 8ms/step - loss: 19.4246 - accuracy: 0.0000e+00\n",
      "Epoch 25/100\n",
      "1/1 [==============================] - 0s 5ms/step - loss: 19.1496 - accuracy: 0.0000e+00\n",
      "Epoch 26/100\n",
      "1/1 [==============================] - 0s 6ms/step - loss: 18.8426 - accuracy: 0.0000e+00\n",
      "Epoch 27/100\n",
      "1/1 [==============================] - 0s 4ms/step - loss: 18.5003 - accuracy: 0.0000e+00\n",
      "Epoch 28/100\n",
      "1/1 [==============================] - 0s 5ms/step - loss: 18.1189 - accuracy: 0.0000e+00\n",
      "Epoch 29/100\n",
      "1/1 [==============================] - 0s 4ms/step - loss: 17.6927 - accuracy: 0.0000e+00\n",
      "Epoch 30/100\n",
      "1/1 [==============================] - 0s 4ms/step - loss: 17.2173 - accuracy: 0.0000e+00\n",
      "Epoch 31/100\n",
      "1/1 [==============================] - 0s 4ms/step - loss: 16.6846 - accuracy: 0.0000e+00\n",
      "Epoch 32/100\n",
      "1/1 [==============================] - 0s 5ms/step - loss: 16.0791 - accuracy: 0.0000e+00\n",
      "Epoch 33/100\n",
      "1/1 [==============================] - 0s 4ms/step - loss: 15.3802 - accuracy: 0.0000e+00\n",
      "Epoch 34/100\n",
      "1/1 [==============================] - 0s 5ms/step - loss: 14.5976 - accuracy: 0.0000e+00\n",
      "Epoch 35/100\n",
      "1/1 [==============================] - 0s 5ms/step - loss: 13.7265 - accuracy: 0.0000e+00\n",
      "Epoch 36/100\n",
      "1/1 [==============================] - 0s 5ms/step - loss: 12.7632 - accuracy: 0.0000e+00\n",
      "Epoch 37/100\n",
      "1/1 [==============================] - 0s 6ms/step - loss: 11.6724 - accuracy: 0.0000e+00\n",
      "Epoch 38/100\n",
      "1/1 [==============================] - 0s 5ms/step - loss: 10.4630 - accuracy: 0.0000e+00\n",
      "Epoch 39/100\n",
      "1/1 [==============================] - 0s 6ms/step - loss: 9.1541 - accuracy: 0.0000e+00\n",
      "Epoch 40/100\n",
      "1/1 [==============================] - 0s 5ms/step - loss: 7.7112 - accuracy: 0.0000e+00\n",
      "Epoch 41/100\n",
      "1/1 [==============================] - 0s 5ms/step - loss: 6.1337 - accuracy: 0.0000e+00\n",
      "Epoch 42/100\n",
      "1/1 [==============================] - 0s 13ms/step - loss: 4.5402 - accuracy: 0.0000e+00\n",
      "Epoch 43/100\n",
      "1/1 [==============================] - 0s 12ms/step - loss: 2.5221 - accuracy: 0.0000e+00\n",
      "Epoch 44/100\n",
      "1/1 [==============================] - 0s 5ms/step - loss: 0.5012 - accuracy: 0.0000e+00\n",
      "Epoch 45/100\n",
      "1/1 [==============================] - 0s 6ms/step - loss: -1.6763 - accuracy: 0.0000e+00\n",
      "Epoch 46/100\n",
      "1/1 [==============================] - 0s 4ms/step - loss: -4.0350 - accuracy: 0.0000e+00\n",
      "Epoch 47/100\n",
      "1/1 [==============================] - 0s 7ms/step - loss: -6.5839 - accuracy: 0.0000e+00\n",
      "Epoch 48/100\n",
      "1/1 [==============================] - 0s 4ms/step - loss: -9.3567 - accuracy: 0.0000e+00\n",
      "Epoch 49/100\n",
      "1/1 [==============================] - 0s 5ms/step - loss: -12.3711 - accuracy: 0.0000e+00\n",
      "Epoch 50/100\n",
      "1/1 [==============================] - 0s 3ms/step - loss: -15.6286 - accuracy: 0.0000e+00\n",
      "Epoch 51/100\n",
      "1/1 [==============================] - 0s 4ms/step - loss: -19.2390 - accuracy: 0.0000e+00\n",
      "Epoch 52/100\n",
      "1/1 [==============================] - 0s 7ms/step - loss: -23.3638 - accuracy: 0.0000e+00\n",
      "Epoch 53/100\n",
      "1/1 [==============================] - 0s 5ms/step - loss: -28.1352 - accuracy: 0.0000e+00\n",
      "Epoch 54/100\n",
      "1/1 [==============================] - 0s 7ms/step - loss: -34.0527 - accuracy: 0.0000e+00\n",
      "Epoch 55/100\n",
      "1/1 [==============================] - 0s 4ms/step - loss: -41.7793 - accuracy: 0.0000e+00\n",
      "Epoch 56/100\n",
      "1/1 [==============================] - 0s 5ms/step - loss: -52.4932 - accuracy: 0.0000e+00\n",
      "Epoch 57/100\n",
      "1/1 [==============================] - 0s 4ms/step - loss: -67.8615 - accuracy: 0.0000e+00\n",
      "Epoch 58/100\n",
      "1/1 [==============================] - 0s 6ms/step - loss: -90.5696 - accuracy: 0.0000e+00\n",
      "Epoch 59/100\n",
      "1/1 [==============================] - 0s 5ms/step - loss: -125.0461 - accuracy: 0.0000e+00\n",
      "Epoch 60/100\n",
      "1/1 [==============================] - 0s 7ms/step - loss: -177.7982 - accuracy: 0.0000e+00\n",
      "Epoch 61/100\n",
      "1/1 [==============================] - 0s 15ms/step - loss: -259.0405 - accuracy: 0.0000e+00\n",
      "Epoch 62/100\n",
      "1/1 [==============================] - 0s 9ms/step - loss: -384.3721 - accuracy: 0.0000e+00\n",
      "Epoch 63/100\n",
      "1/1 [==============================] - 0s 8ms/step - loss: -576.7989 - accuracy: 0.0000e+00\n",
      "Epoch 64/100\n",
      "1/1 [==============================] - 0s 7ms/step - loss: -869.1243 - accuracy: 0.0000e+00\n",
      "Epoch 65/100\n",
      "1/1 [==============================] - 0s 22ms/step - loss: -1307.9143 - accuracy: 0.0000e+00\n",
      "Epoch 66/100\n",
      "1/1 [==============================] - 0s 8ms/step - loss: -1963.6877 - accuracy: 0.0000e+00\n",
      "Epoch 67/100\n",
      "1/1 [==============================] - 0s 5ms/step - loss: -2938.1162 - accuracy: 0.0000e+00\n",
      "Epoch 68/100\n",
      "1/1 [==============================] - 0s 5ms/step - loss: -4379.9863 - accuracy: 0.0000e+00\n",
      "Epoch 69/100\n",
      "1/1 [==============================] - 0s 4ms/step - loss: -6506.9189 - accuracy: 0.0000e+00\n",
      "Epoch 70/100\n",
      "1/1 [==============================] - 0s 5ms/step - loss: -9636.8008 - accuracy: 0.0000e+00\n",
      "Epoch 71/100\n",
      "1/1 [==============================] - 0s 4ms/step - loss: -14233.3369 - accuracy: 0.0000e+00\n",
      "Epoch 72/100\n",
      "1/1 [==============================] - 0s 7ms/step - loss: -20972.0312 - accuracy: 0.0000e+00\n",
      "Epoch 73/100\n",
      "1/1 [==============================] - 0s 6ms/step - loss: -30835.7500 - accuracy: 0.0000e+00\n",
      "Epoch 74/100\n",
      "1/1 [==============================] - 0s 17ms/step - loss: -45252.9844 - accuracy: 0.0000e+00\n",
      "Epoch 75/100\n",
      "1/1 [==============================] - 0s 5ms/step - loss: -66297.8516 - accuracy: 0.0000e+00\n",
      "Epoch 76/100\n",
      "1/1 [==============================] - 0s 7ms/step - loss: -96979.0625 - accuracy: 0.0000e+00\n",
      "Epoch 77/100\n",
      "1/1 [==============================] - 0s 5ms/step - loss: -141657.5312 - accuracy: 0.0000e+00\n",
      "Epoch 78/100\n",
      "1/1 [==============================] - 0s 6ms/step - loss: -206648.8125 - accuracy: 0.0000e+00\n",
      "Epoch 79/100\n",
      "1/1 [==============================] - 0s 9ms/step - loss: -301092.9062 - accuracy: 0.0000e+00\n",
      "Epoch 80/100\n",
      "1/1 [==============================] - 0s 6ms/step - loss: -438208.2500 - accuracy: 0.0000e+00\n",
      "Epoch 81/100\n",
      "1/1 [==============================] - 0s 7ms/step - loss: -637099.2500 - accuracy: 0.0000e+00\n",
      "Epoch 82/100\n",
      "1/1 [==============================] - 0s 5ms/step - loss: -925361.0000 - accuracy: 0.0000e+00\n",
      "Epoch 83/100\n",
      "1/1 [==============================] - 0s 6ms/step - loss: -1342830.7500 - accuracy: 0.0000e+00\n",
      "Epoch 84/100\n",
      "1/1 [==============================] - 0s 6ms/step - loss: -1946988.2500 - accuracy: 0.0000e+00\n",
      "Epoch 85/100\n",
      "1/1 [==============================] - 0s 5ms/step - loss: -2820728.5000 - accuracy: 0.0000e+00\n",
      "Epoch 86/100\n",
      "1/1 [==============================] - 0s 7ms/step - loss: -4083542.0000 - accuracy: 0.0000e+00\n",
      "Epoch 87/100\n",
      "1/1 [==============================] - 0s 5ms/step - loss: -5907599.5000 - accuracy: 0.0000e+00\n",
      "Epoch 88/100\n",
      "1/1 [==============================] - 0s 6ms/step - loss: -8540864.0000 - accuracy: 0.0000e+00\n",
      "Epoch 89/100\n",
      "1/1 [==============================] - 0s 6ms/step - loss: -12340328.0000 - accuracy: 0.0000e+00\n",
      "Epoch 90/100\n",
      "1/1 [==============================] - 0s 5ms/step - loss: -17819744.0000 - accuracy: 0.0000e+00\n",
      "Epoch 91/100\n",
      "1/1 [==============================] - 0s 6ms/step - loss: -25718236.0000 - accuracy: 0.0000e+00\n",
      "Epoch 92/100\n",
      "1/1 [==============================] - 0s 4ms/step - loss: -37098744.0000 - accuracy: 0.0000e+00\n",
      "Epoch 93/100\n",
      "1/1 [==============================] - 0s 4ms/step - loss: -53489448.0000 - accuracy: 0.0000e+00\n",
      "Epoch 94/100\n",
      "1/1 [==============================] - 0s 4ms/step - loss: -77086736.0000 - accuracy: 0.0000e+00\n",
      "Epoch 95/100\n",
      "1/1 [==============================] - 0s 4ms/step - loss: -111046416.0000 - accuracy: 0.0000e+00\n",
      "Epoch 96/100\n",
      "1/1 [==============================] - 0s 5ms/step - loss: -159901600.0000 - accuracy: 0.0000e+00\n",
      "Epoch 97/100\n",
      "1/1 [==============================] - 0s 5ms/step - loss: -230161968.0000 - accuracy: 0.0000e+00\n",
      "Epoch 98/100\n",
      "1/1 [==============================] - 0s 8ms/step - loss: -331173440.0000 - accuracy: 0.0000e+00\n",
      "Epoch 99/100\n",
      "1/1 [==============================] - 0s 7ms/step - loss: -476350368.0000 - accuracy: 0.0000e+00\n",
      "Epoch 100/100\n",
      "1/1 [==============================] - 0s 7ms/step - loss: -684942272.0000 - accuracy: 0.0000e+00\n"
     ]
    },
    {
     "output_type": "execute_result",
     "data": {
      "text/plain": [
       "<AxesSubplot:xlabel='epochs'>"
      ]
     },
     "metadata": {},
     "execution_count": 57
    },
    {
     "output_type": "display_data",
     "data": {
      "image/png": "[encoded data removed]",
      "text/plain": [
       "<Figure size 720x504 with 1 Axes>"
      ]
     },
     "metadata": {
      "needs_background": "light"
     }
    }
   ],
   "metadata": {}
  },
  {
   "cell_type": "code",
   "execution_count": 58,
   "source": [
    "lrs = 1e-4 * (10 ** (np.arange(100)/20))\r\n",
    "plt.figure(figsize=(10, 7))\r\n",
    "plt.semilogx(lrs, history.history[\"loss\"])\r\n",
    "plt.xlabel(\"Learning Rate\")\r\n",
    "plt.ylabel(\"Loss\")\r\n",
    "plt.title(\"Learning rate vs. loss\")"
   ],
   "outputs": [
    {
     "output_type": "execute_result",
     "data": {
      "text/plain": [
       "Text(0.5, 1.0, 'Learning rate vs. loss')"
      ]
     },
     "metadata": {},
     "execution_count": 58
    },
    {
     "output_type": "display_data",
     "data": {
      "image/png": "[encoded data removed]",
      "text/plain": [
       "<Figure size 720x504 with 1 Axes>"
      ]
     },
     "metadata": {
      "needs_background": "light"
     }
    }
   ],
   "metadata": {}
  },
  {
   "cell_type": "code",
   "execution_count": 59,
   "source": [
    "plt.figure(figsize=(10, 7))\r\n",
    "plt.scatter(X_train, y_train, c='r', label='Training data')\r\n",
    "plt.scatter(X_test, y_test, c='y', label='Testing data')\r\n",
    "plt.legend()"
   ],
   "outputs": [
    {
     "output_type": "execute_result",
     "data": {
      "text/plain": [
       "<matplotlib.legend.Legend at 0x29ce6835f40>"
      ]
     },
     "metadata": {},
     "execution_count": 59
    },
    {
     "output_type": "display_data",
     "data": {
      "image/png": "[encoded data removed]",
      "text/plain": [
       "<Figure size 720x504 with 1 Axes>"
      ]
     },
     "metadata": {
      "needs_background": "light"
     }
    }
   ],
   "metadata": {}
  },
  {
   "cell_type": "code",
   "execution_count": 60,
   "source": [
    "y_preds = model.predict(X_test)"
   ],
   "outputs": [],
   "metadata": {}
  },
  {
   "cell_type": "code",
   "execution_count": 65,
   "source": [
    "def plot_predictions(train_data=X_train, \r\n",
    "                     train_labels=y_train, \r\n",
    "                     test_data=X_test, \r\n",
    "                     test_labels=y_test, \r\n",
    "                     predictions=y_preds):\r\n",
    "  plt.figure(figsize=(10, 7))\r\n",
    "  plt.scatter(train_data, train_labels, c=\"b\", label=\"Training data\")\r\n",
    "  plt.scatter(test_data, test_labels, c=\"g\", label=\"Testing data\")\r\n",
    "  plt.scatter(test_data, predictions, c=\"r\", label=\"Predictions\")\r\n",
    "  plt.legend()"
   ],
   "outputs": [],
   "metadata": {}
  },
  {
   "cell_type": "code",
   "execution_count": 66,
   "source": [
    "plot_predictions()"
   ],
   "outputs": [
    {
     "output_type": "display_data",
     "data": {
      "image/png": "[encoded data removed]",
      "text/plain": [
       "<Figure size 720x504 with 1 Axes>"
      ]
     },
     "metadata": {
      "needs_background": "light"
     }
    }
   ],
   "metadata": {}
  }
 ],
 "metadata": {
  "orig_nbformat": 4,
  "language_info": {
   "name": "python",
   "version": "3.8.8",
   "mimetype": "text/x-python",
   "codemirror_mode": {
    "name": "ipython",
    "version": 3
   },
   "pygments_lexer": "ipython3",
   "nbconvert_exporter": "python",
   "file_extension": ".py"
  },
  "kernelspec": {
   "name": "python3",
   "display_name": "Python 3.8.8 64-bit ('base': conda)"
  },
  "interpreter": {
   "hash": "07efdcd4b820c98a756949507a4d29d7862823915ec7477944641bea022f4f62"
  }
 },
 "nbformat": 4,
 "nbformat_minor": 2
}