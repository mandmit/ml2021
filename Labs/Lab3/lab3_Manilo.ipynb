{
 "cells": [
  {
   "cell_type": "markdown",
   "source": [
    "# Лабораторна робота №3\r\n",
    "## Студента групи МІТ-31 (підгрупа 2)\r\n",
    "## Маніла Дмитра Олексійовича"
   ],
   "metadata": {}
  },
  {
   "cell_type": "markdown",
   "source": [
    "# Завдання\r\n",
    "1.  Створити набір даних за допомогою DatasetGenerator\r\n",
    "\r\n",
    "2.  Завантажити набір даних для класифікації на сайті (у кожного студента має бути інший - прошу організуватись відповідним чином)\r\n",
    "\r\n",
    "3.  (опціонально для отримання відмінної оцінки) Згенерувати набір даних для класифікації на основі звичайних можливостей Python.\r\n",
    "\r\n",
    "4.  Для отриманих наборів даних провести встановленні кроки моделювання.\r\n",
    "\r\n",
    "5.  Отримані результати викласти на github у репозиторій ml2021 в основну (default) гілку в папці Lab3."
   ],
   "metadata": {}
  },
  {
   "cell_type": "code",
   "execution_count": null,
   "source": [
    "import numpy as np\r\n",
    "import matplotlib as plt\r\n",
    "import sklearn.model_selection\r\n",
    "import sklearn.datasets\r\n",
    "import pandas as pd\r\n",
    "import seaborn as sns"
   ],
   "outputs": [],
   "metadata": {}
  },
  {
   "cell_type": "code",
   "execution_count": null,
   "source": [
    "X, y = sklearn.datasets.make_classification(n_samples=1024, n_features=20, class_sep=0.98, random_state=0)\r\n",
    "model1 = (sklearn.model_selection.train_test_split(X, y, test_size=0.5, random_state=0),) # x_train, x_test, y_train, y_test\r\n",
    "\r\n",
    "model2 = pd.DataFrame(data={'X':[np.random.uniform(-4.0, 4.0) for i in range(1000)],'Y':[np.random.uniform(-300.0, 300.0) for i in range(1000)],'Z':['90.0' for i in range(1000)]})\r\n",
    "\r\n",
    "model3 = pd.read_csv(\"./Stars.csv\")\r\n",
    "df = model3\r\n",
    "data = df"
   ],
   "outputs": [],
   "metadata": {}
  },
  {
   "cell_type": "code",
   "execution_count": null,
   "source": [
    "df.head()"
   ],
   "outputs": [],
   "metadata": {}
  },
  {
   "cell_type": "code",
   "execution_count": null,
   "source": [
    "sns.FacetGrid(df, hue=\"Type\", size=6) \\\r\n",
    "   .map(plt.pyplot.scatter, \"Temperature\", \"A_M\") \\\r\n",
    "   .add_legend()\r\n",
    "\r\n",
    "plt.pyplot.show()"
   ],
   "outputs": [],
   "metadata": {}
  },
  {
   "cell_type": "code",
   "execution_count": null,
   "source": [
    "# step 1\r\n",
    "features = list(data.columns[0:4])          \r\n",
    "target = data.columns[4]                      \r\n",
    "\r\n",
    "print('Features:',features)\r\n",
    "print('Target:',target)\r\n",
    "\r\n",
    "# store feature matrix in \"X\"\r\n",
    "X = data.iloc[:,0:4]                          # slicing: all rows and 1 to 4 cols\r\n",
    "\r\n",
    "# store response vector in \"y\"\r\n",
    "y = data.iloc[:,4]                            # slicing: all rows and 5th col\r\n",
    "\r\n",
    "\r\n",
    "print(y.shape)\r\n",
    "print(X.shape)"
   ],
   "outputs": [],
   "metadata": {}
  },
  {
   "cell_type": "code",
   "execution_count": null,
   "source": [
    "from sklearn import preprocessing\r\n",
    "le = preprocessing.LabelEncoder()\r\n",
    "le.fit(y)\r\n",
    "y=le.transform(y)\r\n",
    "\r\n",
    "# new col\r\n",
    "data['EncodedType'] = y\r\n",
    "\r\n",
    "print('Classes:',le.classes_)\r\n",
    "print('Response variable after encoding:',y)\r\n",
    "data.tail(10)"
   ],
   "outputs": [],
   "metadata": {}
  },
  {
   "cell_type": "code",
   "execution_count": null,
   "source": [
    "#Step2\r\n",
    "from sklearn.neighbors import KNeighborsClassifier\r\n",
    "knn = KNeighborsClassifier(n_neighbors=1)\r\n",
    "knn.fit(X, y)"
   ],
   "outputs": [],
   "metadata": {}
  },
  {
   "cell_type": "code",
   "execution_count": null,
   "source": [
    "#Step3: Prediction for new observation\r\n",
    "value = knn.predict([[3, 5, 4, 2]])\r\n",
    "print('prediction value:',value)\r\n",
    "\r\n",
    "print('Predicted Class' , data.loc[data['EncodedType'] == 2, 'Type'].values[0])"
   ],
   "outputs": [],
   "metadata": {}
  },
  {
   "cell_type": "code",
   "execution_count": null,
   "source": [
    "# more predictions for other rows\r\n",
    "\r\n",
    "X_new = [[3, 5, 4, 2], [5, 4, 3, 2]]                        # Consider them as two new rows of input features in X\r\n",
    "knn.predict(X_new)"
   ],
   "outputs": [],
   "metadata": {}
  },
  {
   "cell_type": "code",
   "execution_count": null,
   "source": [
    "# Different value of K \r\n",
    "# instantiate the model (using the value K=5)\r\n",
    "\r\n",
    "knn = KNeighborsClassifier(n_neighbors=5)\r\n",
    "\r\n",
    "# fit the model with data\r\n",
    "knn.fit(X, y)\r\n",
    "\r\n",
    "# predict the response for new observations\r\n",
    "print(knn.predict(X_new))\r\n",
    "\r\n",
    "kypred = knn.predict(X)"
   ],
   "outputs": [],
   "metadata": {}
  },
  {
   "cell_type": "code",
   "execution_count": null,
   "source": [
    "# For an optimal value of K for KNN\r\n",
    "\r\n",
    "from sklearn import metrics\r\n",
    "v=[]\r\n",
    "\r\n",
    "\r\n",
    "\r\n",
    "\r\n",
    "k_range = list(range(1, 50))\r\n",
    "for i in k_range:\r\n",
    "    knn = KNeighborsClassifier(n_neighbors=i)\r\n",
    "    # fit the model with data\r\n",
    "    knn.fit(X, y)\r\n",
    "    k_pred = knn.predict(X)\r\n",
    "    v.append( metrics.accuracy_score(y, k_pred))\r\n",
    "\r\n",
    "\r\n",
    "import matplotlib.pyplot as plt\r\n",
    "plt.plot(k_range,v,c='Orange',)\r\n",
    "plt.show()"
   ],
   "outputs": [],
   "metadata": {}
  },
  {
   "cell_type": "code",
   "execution_count": null,
   "source": [
    "# Logistic regression\r\n",
    "\r\n",
    "from sklearn.linear_model import LogisticRegression\r\n",
    "\r\n",
    "# instantiate the model (using the default parameters)\r\n",
    "logreg = LogisticRegression()\r\n",
    "\r\n",
    "# fit the model with data\r\n",
    "logreg.fit(X, y)\r\n",
    "\r\n",
    "# predict the response values for the observations in column: [3, 5, 4, 2]\r\n",
    "logreg.predict([[3, 5, 4, 2]]) # Col vector # See previous result\r\n",
    "\r\n",
    "\r\n",
    "y_pred = logreg.predict(X)\r\n",
    "\r\n",
    "print(y_pred)"
   ],
   "outputs": [],
   "metadata": {}
  },
  {
   "cell_type": "code",
   "execution_count": null,
   "source": [
    "from sklearn import metrics\r\n",
    "print(metrics.accuracy_score(y, kypred))\r\n",
    "from sklearn import metrics\r\n",
    "print(metrics.accuracy_score(y, y_pred))"
   ],
   "outputs": [],
   "metadata": {}
  },
  {
   "cell_type": "code",
   "execution_count": null,
   "source": [
    "# STEP 1: split X and y into training and testing sets\r\n",
    "from sklearn.model_selection import train_test_split\r\n",
    "X_train, X_test, y_train, y_test = train_test_split(X, y, test_size=0.4, random_state=4)\r\n",
    "print(X_train.shape)\r\n",
    "print(y_train.shape)"
   ],
   "outputs": [],
   "metadata": {}
  },
  {
   "cell_type": "code",
   "execution_count": null,
   "source": [
    "logres = LogisticRegression()\r\n",
    "logres.fit(X_train,y_train) # train data\r\n",
    "\r\n",
    "\r\n",
    "# predict from test\r\n",
    "log_pred = logres.predict(X_test)\r\n",
    "\r\n",
    "# check accuracy\r\n",
    "import sklearn.metrics as mt\r\n",
    "mt.accuracy_score(log_pred,y_test)"
   ],
   "outputs": [],
   "metadata": {}
  },
  {
   "cell_type": "code",
   "execution_count": null,
   "source": [
    "from sklearn import metrics\r\n",
    "v=[]\r\n",
    "\r\n",
    "\r\n",
    "k_range = list(range(1, 50))\r\n",
    "for i in k_range:\r\n",
    "    knn = KNeighborsClassifier(n_neighbors=i)\r\n",
    "    # fit the model with data\r\n",
    "    knn.fit(X_train, y_train)\r\n",
    "    k_pred = knn.predict(X_test)\r\n",
    "    v.append( metrics.accuracy_score(y_test, k_pred))\r\n",
    "\r\n",
    "\r\n",
    "\r\n",
    "import matplotlib.pyplot as plt\r\n",
    "plt.plot(k_range,v)\r\n",
    "\r\n",
    "plt.show()"
   ],
   "outputs": [],
   "metadata": {}
  },
  {
   "cell_type": "code",
   "execution_count": null,
   "source": [
    "knn = KNeighborsClassifier(n_neighbors=12)\r\n",
    "# fit the model with data\r\n",
    "knn.fit(X_train, y_train)\r\n",
    "k_pred = knn.predict(X_test)\r\n",
    "\r\n",
    "metrics.accuracy_score(y_test, k_pred)"
   ],
   "outputs": [],
   "metadata": {}
  }
 ],
 "metadata": {
  "orig_nbformat": 4,
  "language_info": {
   "name": "python",
   "version": "3.8.8"
  },
  "kernelspec": {
   "name": "python3",
   "display_name": "Python 3.8.8 64-bit ('Anaconda': conda)"
  },
  "interpreter": {
   "hash": "70862961505998aa1451e0b3ee6ab0e10a175ad5519c3a544355a993ff0f6050"
  }
 },
 "nbformat": 4,
 "nbformat_minor": 2
}