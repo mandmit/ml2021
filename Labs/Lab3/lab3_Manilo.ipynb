{
 "cells": [
  {
   "cell_type": "markdown",
   "source": [
    "# Лабораторна робота №3\r\n",
    "## Студента групи МІТ-31 (підгрупа 2)\r\n",
    "## Маніла Дмитра Олексійовича"
   ],
   "metadata": {}
  },
  {
   "cell_type": "markdown",
   "source": [
    "# Завдання\r\n",
    "1.  Створити набір даних за допомогою DatasetGenerator\r\n",
    "\r\n",
    "2.  Завантажити набір даних для класифікації на сайті (у кожного студента має бути інший - прошу організуватись відповідним чином)\r\n",
    "\r\n",
    "3.  (опціонально для отримання відмінної оцінки) Згенерувати набір даних для класифікації на основі звичайних можливостей Python.\r\n",
    "\r\n",
    "4.  Для отриманих наборів даних провести встановленні кроки моделювання.\r\n",
    "\r\n",
    "5.  Отримані результати викласти на github у репозиторій ml2021 в основну (default) гілку в папці Lab3."
   ],
   "metadata": {}
  },
  {
   "cell_type": "code",
   "execution_count": 21,
   "source": [
    "import numpy as np\r\n",
    "import matplotlib as plt\r\n",
    "import sklearn.model_selection\r\n",
    "import sklearn.datasets\r\n",
    "import pandas as pd\r\n",
    "import seaborn as sns"
   ],
   "outputs": [],
   "metadata": {}
  },
  {
   "cell_type": "code",
   "execution_count": 22,
   "source": [
    "X, y = sklearn.datasets.make_classification(n_samples=1024, n_features=20, class_sep=0.98, random_state=0)\r\n",
    "model1 = (sklearn.model_selection.train_test_split(X, y, test_size=0.5, random_state=0),)\r\n",
    "\r\n",
    "model2 = pd.read_csv(\".\\citrus.csv\")\r\n",
    "df = model2\r\n",
    "data = df"
   ],
   "outputs": [],
   "metadata": {}
  },
  {
   "cell_type": "code",
   "execution_count": 23,
   "source": [
    "df.describe()"
   ],
   "outputs": [
    {
     "output_type": "execute_result",
     "data": {
      "text/html": [
       "<div>\n",
       "<style scoped>\n",
       "    .dataframe tbody tr th:only-of-type {\n",
       "        vertical-align: middle;\n",
       "    }\n",
       "\n",
       "    .dataframe tbody tr th {\n",
       "        vertical-align: top;\n",
       "    }\n",
       "\n",
       "    .dataframe thead th {\n",
       "        text-align: right;\n",
       "    }\n",
       "</style>\n",
       "<table border=\"1\" class=\"dataframe\">\n",
       "  <thead>\n",
       "    <tr style=\"text-align: right;\">\n",
       "      <th></th>\n",
       "      <th>diameter</th>\n",
       "      <th>weight</th>\n",
       "      <th>red</th>\n",
       "      <th>green</th>\n",
       "      <th>blue</th>\n",
       "    </tr>\n",
       "  </thead>\n",
       "  <tbody>\n",
       "    <tr>\n",
       "      <th>count</th>\n",
       "      <td>10000.000000</td>\n",
       "      <td>10000.000000</td>\n",
       "      <td>10000.000000</td>\n",
       "      <td>10000.000000</td>\n",
       "      <td>10000.000000</td>\n",
       "    </tr>\n",
       "    <tr>\n",
       "      <th>mean</th>\n",
       "      <td>9.975685</td>\n",
       "      <td>175.050792</td>\n",
       "      <td>153.847800</td>\n",
       "      <td>76.010600</td>\n",
       "      <td>11.363200</td>\n",
       "    </tr>\n",
       "    <tr>\n",
       "      <th>std</th>\n",
       "      <td>1.947844</td>\n",
       "      <td>29.212119</td>\n",
       "      <td>10.432954</td>\n",
       "      <td>11.708433</td>\n",
       "      <td>9.061275</td>\n",
       "    </tr>\n",
       "    <tr>\n",
       "      <th>min</th>\n",
       "      <td>2.960000</td>\n",
       "      <td>86.760000</td>\n",
       "      <td>115.000000</td>\n",
       "      <td>31.000000</td>\n",
       "      <td>2.000000</td>\n",
       "    </tr>\n",
       "    <tr>\n",
       "      <th>25%</th>\n",
       "      <td>8.460000</td>\n",
       "      <td>152.220000</td>\n",
       "      <td>147.000000</td>\n",
       "      <td>68.000000</td>\n",
       "      <td>2.000000</td>\n",
       "    </tr>\n",
       "    <tr>\n",
       "      <th>50%</th>\n",
       "      <td>9.980000</td>\n",
       "      <td>174.985000</td>\n",
       "      <td>154.000000</td>\n",
       "      <td>76.000000</td>\n",
       "      <td>10.000000</td>\n",
       "    </tr>\n",
       "    <tr>\n",
       "      <th>75%</th>\n",
       "      <td>11.480000</td>\n",
       "      <td>197.722500</td>\n",
       "      <td>161.000000</td>\n",
       "      <td>84.000000</td>\n",
       "      <td>17.000000</td>\n",
       "    </tr>\n",
       "    <tr>\n",
       "      <th>max</th>\n",
       "      <td>16.450000</td>\n",
       "      <td>261.510000</td>\n",
       "      <td>192.000000</td>\n",
       "      <td>116.000000</td>\n",
       "      <td>56.000000</td>\n",
       "    </tr>\n",
       "  </tbody>\n",
       "</table>\n",
       "</div>"
      ],
      "text/plain": [
       "           diameter        weight           red         green          blue\n",
       "count  10000.000000  10000.000000  10000.000000  10000.000000  10000.000000\n",
       "mean       9.975685    175.050792    153.847800     76.010600     11.363200\n",
       "std        1.947844     29.212119     10.432954     11.708433      9.061275\n",
       "min        2.960000     86.760000    115.000000     31.000000      2.000000\n",
       "25%        8.460000    152.220000    147.000000     68.000000      2.000000\n",
       "50%        9.980000    174.985000    154.000000     76.000000     10.000000\n",
       "75%       11.480000    197.722500    161.000000     84.000000     17.000000\n",
       "max       16.450000    261.510000    192.000000    116.000000     56.000000"
      ]
     },
     "metadata": {},
     "execution_count": 23
    }
   ],
   "metadata": {}
  },
  {
   "cell_type": "code",
   "execution_count": 24,
   "source": [
    "df.head()"
   ],
   "outputs": [
    {
     "output_type": "execute_result",
     "data": {
      "text/html": [
       "<div>\n",
       "<style scoped>\n",
       "    .dataframe tbody tr th:only-of-type {\n",
       "        vertical-align: middle;\n",
       "    }\n",
       "\n",
       "    .dataframe tbody tr th {\n",
       "        vertical-align: top;\n",
       "    }\n",
       "\n",
       "    .dataframe thead th {\n",
       "        text-align: right;\n",
       "    }\n",
       "</style>\n",
       "<table border=\"1\" class=\"dataframe\">\n",
       "  <thead>\n",
       "    <tr style=\"text-align: right;\">\n",
       "      <th></th>\n",
       "      <th>name</th>\n",
       "      <th>diameter</th>\n",
       "      <th>weight</th>\n",
       "      <th>red</th>\n",
       "      <th>green</th>\n",
       "      <th>blue</th>\n",
       "    </tr>\n",
       "  </thead>\n",
       "  <tbody>\n",
       "    <tr>\n",
       "      <th>0</th>\n",
       "      <td>orange</td>\n",
       "      <td>2.96</td>\n",
       "      <td>86.76</td>\n",
       "      <td>172</td>\n",
       "      <td>85</td>\n",
       "      <td>2</td>\n",
       "    </tr>\n",
       "    <tr>\n",
       "      <th>1</th>\n",
       "      <td>orange</td>\n",
       "      <td>3.91</td>\n",
       "      <td>88.05</td>\n",
       "      <td>166</td>\n",
       "      <td>78</td>\n",
       "      <td>3</td>\n",
       "    </tr>\n",
       "    <tr>\n",
       "      <th>2</th>\n",
       "      <td>orange</td>\n",
       "      <td>4.42</td>\n",
       "      <td>95.17</td>\n",
       "      <td>156</td>\n",
       "      <td>81</td>\n",
       "      <td>2</td>\n",
       "    </tr>\n",
       "    <tr>\n",
       "      <th>3</th>\n",
       "      <td>orange</td>\n",
       "      <td>4.47</td>\n",
       "      <td>95.60</td>\n",
       "      <td>163</td>\n",
       "      <td>81</td>\n",
       "      <td>4</td>\n",
       "    </tr>\n",
       "    <tr>\n",
       "      <th>4</th>\n",
       "      <td>orange</td>\n",
       "      <td>4.48</td>\n",
       "      <td>95.76</td>\n",
       "      <td>161</td>\n",
       "      <td>72</td>\n",
       "      <td>9</td>\n",
       "    </tr>\n",
       "  </tbody>\n",
       "</table>\n",
       "</div>"
      ],
      "text/plain": [
       "     name  diameter  weight  red  green  blue\n",
       "0  orange      2.96   86.76  172     85     2\n",
       "1  orange      3.91   88.05  166     78     3\n",
       "2  orange      4.42   95.17  156     81     2\n",
       "3  orange      4.47   95.60  163     81     4\n",
       "4  orange      4.48   95.76  161     72     9"
      ]
     },
     "metadata": {},
     "execution_count": 24
    }
   ],
   "metadata": {}
  },
  {
   "cell_type": "code",
   "execution_count": 30,
   "source": [
    "sns.FacetGrid(df, hue=\"name\", size=6) \\\r\n",
    "   .map(plt.pyplot.scatter, \"weight\", \"red\") \\\r\n",
    "   .add_legend()\r\n",
    "\r\n",
    "plt.pyplot.show()"
   ],
   "outputs": [
    {
     "output_type": "stream",
     "name": "stderr",
     "text": [
      "D:\\Anaconda\\lib\\site-packages\\seaborn\\axisgrid.py:316: UserWarning: The `size` parameter has been renamed to `height`; please update your code.\n",
      "  warnings.warn(msg, UserWarning)\n"
     ]
    },
    {
     "output_type": "display_data",
     "data": {
      "image/png": "[encoded data removed]",
      "text/plain": [
       "<Figure size 517.875x432 with 1 Axes>"
      ]
     },
     "metadata": {
      "needs_background": "light"
     }
    }
   ],
   "metadata": {}
  },
  {
   "cell_type": "code",
   "execution_count": 57,
   "source": [
    "# step 1\r\n",
    "features = list(data.columns[0:6])          \r\n",
    "target = data.columns[1]                      \r\n",
    "\r\n",
    "print('Features:',features)\r\n",
    "print('Target:',target)\r\n",
    "\r\n",
    "# store feature matrix in \"X\"\r\n",
    "X = data.iloc[:,1:6]\r\n",
    "\r\n",
    "# store response vector in \"y\"\r\n",
    "y = data.iloc[:,6]\r\n",
    "\r\n",
    "\r\n",
    "print(y.shape)\r\n",
    "print(X.shape)"
   ],
   "outputs": [
    {
     "output_type": "stream",
     "name": "stdout",
     "text": [
      "Features: ['name', 'diameter', 'weight', 'red', 'green', 'blue']\n",
      "Target: diameter\n",
      "(10000,)\n",
      "(10000, 5)\n"
     ]
    }
   ],
   "metadata": {}
  },
  {
   "cell_type": "code",
   "execution_count": 58,
   "source": [
    "from sklearn import preprocessing\r\n",
    "le = preprocessing.LabelEncoder()\r\n",
    "le.fit(y)\r\n",
    "y=le.transform(y)\r\n",
    "\r\n",
    "# new col\r\n",
    "data['EncodedType'] = y\r\n",
    "\r\n",
    "print('Classes:',le.classes_)\r\n",
    "print('Response variable after encoding:',y)\r\n",
    "data.tail(10)"
   ],
   "outputs": [
    {
     "output_type": "stream",
     "name": "stdout",
     "text": [
      "Classes: [ 0  1  2  3  4  5  6  7  8  9 10 11 12 13 14 15 16 17 18 19 20 21 22 23\n",
      " 24 25 26 27 28 29 30 31 32 33 34 35 36 37 38 39 40 41 42 43 44 45 46 47\n",
      " 48 49 50 51 52 53 54 55 56 57 58 59 60 61 62 63 64 65 66 67 68 69 70 71\n",
      " 72 73 74 75 76 77 78 79]\n",
      "Response variable after encoding: [50 43 46 ... 47 37 39]\n"
     ]
    },
    {
     "output_type": "execute_result",
     "data": {
      "text/html": [
       "<div>\n",
       "<style scoped>\n",
       "    .dataframe tbody tr th:only-of-type {\n",
       "        vertical-align: middle;\n",
       "    }\n",
       "\n",
       "    .dataframe tbody tr th {\n",
       "        vertical-align: top;\n",
       "    }\n",
       "\n",
       "    .dataframe thead th {\n",
       "        text-align: right;\n",
       "    }\n",
       "</style>\n",
       "<table border=\"1\" class=\"dataframe\">\n",
       "  <thead>\n",
       "    <tr style=\"text-align: right;\">\n",
       "      <th></th>\n",
       "      <th>name</th>\n",
       "      <th>diameter</th>\n",
       "      <th>weight</th>\n",
       "      <th>red</th>\n",
       "      <th>green</th>\n",
       "      <th>blue</th>\n",
       "      <th>EncodedType</th>\n",
       "    </tr>\n",
       "  </thead>\n",
       "  <tbody>\n",
       "    <tr>\n",
       "      <th>9990</th>\n",
       "      <td>grapefruit</td>\n",
       "      <td>14.91</td>\n",
       "      <td>250.68</td>\n",
       "      <td>158</td>\n",
       "      <td>73</td>\n",
       "      <td>15</td>\n",
       "      <td>38</td>\n",
       "    </tr>\n",
       "    <tr>\n",
       "      <th>9991</th>\n",
       "      <td>grapefruit</td>\n",
       "      <td>14.93</td>\n",
       "      <td>251.41</td>\n",
       "      <td>138</td>\n",
       "      <td>75</td>\n",
       "      <td>20</td>\n",
       "      <td>40</td>\n",
       "    </tr>\n",
       "    <tr>\n",
       "      <th>9992</th>\n",
       "      <td>grapefruit</td>\n",
       "      <td>14.95</td>\n",
       "      <td>251.82</td>\n",
       "      <td>149</td>\n",
       "      <td>84</td>\n",
       "      <td>6</td>\n",
       "      <td>49</td>\n",
       "    </tr>\n",
       "    <tr>\n",
       "      <th>9993</th>\n",
       "      <td>grapefruit</td>\n",
       "      <td>14.96</td>\n",
       "      <td>252.28</td>\n",
       "      <td>152</td>\n",
       "      <td>58</td>\n",
       "      <td>9</td>\n",
       "      <td>23</td>\n",
       "    </tr>\n",
       "    <tr>\n",
       "      <th>9994</th>\n",
       "      <td>grapefruit</td>\n",
       "      <td>15.16</td>\n",
       "      <td>253.64</td>\n",
       "      <td>136</td>\n",
       "      <td>76</td>\n",
       "      <td>20</td>\n",
       "      <td>41</td>\n",
       "    </tr>\n",
       "    <tr>\n",
       "      <th>9995</th>\n",
       "      <td>grapefruit</td>\n",
       "      <td>15.35</td>\n",
       "      <td>253.89</td>\n",
       "      <td>149</td>\n",
       "      <td>77</td>\n",
       "      <td>20</td>\n",
       "      <td>42</td>\n",
       "    </tr>\n",
       "    <tr>\n",
       "      <th>9996</th>\n",
       "      <td>grapefruit</td>\n",
       "      <td>15.41</td>\n",
       "      <td>254.67</td>\n",
       "      <td>148</td>\n",
       "      <td>68</td>\n",
       "      <td>7</td>\n",
       "      <td>33</td>\n",
       "    </tr>\n",
       "    <tr>\n",
       "      <th>9997</th>\n",
       "      <td>grapefruit</td>\n",
       "      <td>15.59</td>\n",
       "      <td>256.50</td>\n",
       "      <td>168</td>\n",
       "      <td>82</td>\n",
       "      <td>20</td>\n",
       "      <td>47</td>\n",
       "    </tr>\n",
       "    <tr>\n",
       "      <th>9998</th>\n",
       "      <td>grapefruit</td>\n",
       "      <td>15.92</td>\n",
       "      <td>260.14</td>\n",
       "      <td>142</td>\n",
       "      <td>72</td>\n",
       "      <td>11</td>\n",
       "      <td>37</td>\n",
       "    </tr>\n",
       "    <tr>\n",
       "      <th>9999</th>\n",
       "      <td>grapefruit</td>\n",
       "      <td>16.45</td>\n",
       "      <td>261.51</td>\n",
       "      <td>152</td>\n",
       "      <td>74</td>\n",
       "      <td>2</td>\n",
       "      <td>39</td>\n",
       "    </tr>\n",
       "  </tbody>\n",
       "</table>\n",
       "</div>"
      ],
      "text/plain": [
       "            name  diameter  weight  red  green  blue  EncodedType\n",
       "9990  grapefruit     14.91  250.68  158     73    15           38\n",
       "9991  grapefruit     14.93  251.41  138     75    20           40\n",
       "9992  grapefruit     14.95  251.82  149     84     6           49\n",
       "9993  grapefruit     14.96  252.28  152     58     9           23\n",
       "9994  grapefruit     15.16  253.64  136     76    20           41\n",
       "9995  grapefruit     15.35  253.89  149     77    20           42\n",
       "9996  grapefruit     15.41  254.67  148     68     7           33\n",
       "9997  grapefruit     15.59  256.50  168     82    20           47\n",
       "9998  grapefruit     15.92  260.14  142     72    11           37\n",
       "9999  grapefruit     16.45  261.51  152     74     2           39"
      ]
     },
     "metadata": {},
     "execution_count": 58
    }
   ],
   "metadata": {}
  },
  {
   "cell_type": "code",
   "execution_count": 59,
   "source": [
    "#Step2\r\n",
    "from sklearn.neighbors import KNeighborsClassifier\r\n",
    "knn = KNeighborsClassifier(n_neighbors=1)\r\n",
    "knn.fit(X, y)"
   ],
   "outputs": [
    {
     "output_type": "execute_result",
     "data": {
      "text/plain": [
       "KNeighborsClassifier(n_neighbors=1)"
      ]
     },
     "metadata": {},
     "execution_count": 59
    }
   ],
   "metadata": {}
  },
  {
   "cell_type": "code",
   "execution_count": 61,
   "source": [
    "#Step3: Prediction for new observation\r\n",
    "\r\n",
    "value = knn.predict([[2, 3, 4, 5, 6]])\r\n",
    "print('prediction value:',value)\r\n",
    "\r\n",
    "print('Predicted Class' , data.loc[data['EncodedType'] == 2, 'name'].values[0])"
   ],
   "outputs": [
    {
     "output_type": "stream",
     "name": "stdout",
     "text": [
      "prediction value: [39]\n",
      "Predicted Class grapefruit\n"
     ]
    }
   ],
   "metadata": {}
  },
  {
   "cell_type": "code",
   "execution_count": 63,
   "source": [
    "# more predictions for other rows\r\n",
    "\r\n",
    "X_new = [[3, 5, 4, 2, 6], [5, 4, 3, 2, 6]]                        # Consider them as two new rows of input features in X\r\n",
    "knn.predict(X_new)"
   ],
   "outputs": [
    {
     "output_type": "execute_result",
     "data": {
      "text/plain": [
       "array([39, 39], dtype=int64)"
      ]
     },
     "metadata": {},
     "execution_count": 63
    }
   ],
   "metadata": {}
  },
  {
   "cell_type": "code",
   "execution_count": 64,
   "source": [
    "# Different value of K \r\n",
    "# instantiate the model (using the value K=5)\r\n",
    "\r\n",
    "knn = KNeighborsClassifier(n_neighbors=5)\r\n",
    "\r\n",
    "# fit the model with data\r\n",
    "knn.fit(X, y)\r\n",
    "\r\n",
    "# predict the response for new observations\r\n",
    "print(knn.predict(X_new))\r\n",
    "\r\n",
    "kypred = knn.predict(X)"
   ],
   "outputs": [
    {
     "output_type": "stream",
     "name": "stdout",
     "text": [
      "[30 30]\n"
     ]
    }
   ],
   "metadata": {}
  },
  {
   "cell_type": "code",
   "execution_count": 71,
   "source": [
    "# For an optimal value of K for KNN\r\n",
    "\r\n",
    "from sklearn import metrics\r\n",
    "v=[]\r\n",
    "\r\n",
    "\r\n",
    "\r\n",
    "\r\n",
    "k_range = list(range(1, 50))\r\n",
    "for i in k_range:\r\n",
    "    knn = KNeighborsClassifier(n_neighbors=i)\r\n",
    "    # fit the model with data\r\n",
    "    knn.fit(X, y)\r\n",
    "    k_pred = knn.predict(X)\r\n",
    "    v.append( metrics.accuracy_score(y, k_pred))\r\n",
    "\r\n",
    "\r\n",
    "import matplotlib.pyplot as plt\r\n",
    "plt.plot(k_range,v,c='Orange',)\r\n",
    "plt.show()"
   ],
   "outputs": [
    {
     "output_type": "display_data",
     "data": {
      "image/png": "[encoded data removed]",
      "text/plain": [
       "<Figure size 432x288 with 1 Axes>"
      ]
     },
     "metadata": {
      "needs_background": "light"
     }
    }
   ],
   "metadata": {}
  },
  {
   "cell_type": "code",
   "execution_count": 72,
   "source": [
    "# Logistic regression\r\n",
    "\r\n",
    "from sklearn.linear_model import LogisticRegression\r\n",
    "\r\n",
    "# instantiate the model (using the default parameters)\r\n",
    "logreg = LogisticRegression()\r\n",
    "\r\n",
    "# fit the model with data\r\n",
    "logreg.fit(X, y)\r\n",
    "\r\n",
    "logreg.predict([[3, 5, 4, 2, 6]]) # Col vector # See previous result\r\n",
    "\r\n",
    "\r\n",
    "y_pred = logreg.predict(X)\r\n",
    "\r\n",
    "print(y_pred)"
   ],
   "outputs": [
    {
     "output_type": "stream",
     "name": "stdout",
     "text": [
      "[69 74 68 ... 34 11 11]\n"
     ]
    },
    {
     "output_type": "stream",
     "name": "stderr",
     "text": [
      "D:\\Anaconda\\lib\\site-packages\\sklearn\\linear_model\\_logistic.py:763: ConvergenceWarning: lbfgs failed to converge (status=1):\n",
      "STOP: TOTAL NO. of ITERATIONS REACHED LIMIT.\n",
      "\n",
      "Increase the number of iterations (max_iter) or scale the data as shown in:\n",
      "    https://scikit-learn.org/stable/modules/preprocessing.html\n",
      "Please also refer to the documentation for alternative solver options:\n",
      "    https://scikit-learn.org/stable/modules/linear_model.html#logistic-regression\n",
      "  n_iter_i = _check_optimize_result(\n"
     ]
    }
   ],
   "metadata": {}
  },
  {
   "cell_type": "code",
   "execution_count": 73,
   "source": [
    "#1 KNN ACCURACY\r\n",
    "from sklearn import metrics\r\n",
    "print(metrics.accuracy_score(y, kypred))\r\n"
   ],
   "outputs": [
    {
     "output_type": "stream",
     "name": "stdout",
     "text": [
      "0.4574\n"
     ]
    }
   ],
   "metadata": {}
  },
  {
   "cell_type": "code",
   "execution_count": 74,
   "source": [
    "#2\r\n",
    "from sklearn import metrics\r\n",
    "print(metrics.accuracy_score(y, y_pred))"
   ],
   "outputs": [
    {
     "output_type": "stream",
     "name": "stdout",
     "text": [
      "0.0967\n"
     ]
    }
   ],
   "metadata": {}
  },
  {
   "cell_type": "code",
   "execution_count": 75,
   "source": [
    "# STEP 1: split X and y into training and testing sets\r\n",
    "from sklearn.model_selection import train_test_split\r\n",
    "X_train, X_test, y_train, y_test = train_test_split(X, y, test_size=0.4, random_state=4)\r\n",
    "print(X_train.shape)\r\n",
    "print(y_train.shape)"
   ],
   "outputs": [
    {
     "output_type": "stream",
     "name": "stdout",
     "text": [
      "(6000, 5)\n",
      "(6000,)\n"
     ]
    }
   ],
   "metadata": {}
  },
  {
   "cell_type": "code",
   "execution_count": 76,
   "source": [
    "logres = LogisticRegression()\r\n",
    "logres.fit(X_train,y_train) # train data\r\n",
    "\r\n",
    "\r\n",
    "# predict from test\r\n",
    "log_pred = logres.predict(X_test)\r\n",
    "\r\n",
    "# check accuracy\r\n",
    "import sklearn.metrics as mt\r\n",
    "mt.accuracy_score(log_pred,y_test)"
   ],
   "outputs": [
    {
     "output_type": "stream",
     "name": "stderr",
     "text": [
      "D:\\Anaconda\\lib\\site-packages\\sklearn\\linear_model\\_logistic.py:763: ConvergenceWarning: lbfgs failed to converge (status=1):\n",
      "STOP: TOTAL NO. of ITERATIONS REACHED LIMIT.\n",
      "\n",
      "Increase the number of iterations (max_iter) or scale the data as shown in:\n",
      "    https://scikit-learn.org/stable/modules/preprocessing.html\n",
      "Please also refer to the documentation for alternative solver options:\n",
      "    https://scikit-learn.org/stable/modules/linear_model.html#logistic-regression\n",
      "  n_iter_i = _check_optimize_result(\n"
     ]
    },
    {
     "output_type": "execute_result",
     "data": {
      "text/plain": [
       "0.08075"
      ]
     },
     "metadata": {},
     "execution_count": 76
    }
   ],
   "metadata": {}
  },
  {
   "cell_type": "code",
   "execution_count": 77,
   "source": [
    "from sklearn import metrics\r\n",
    "v=[]\r\n",
    "\r\n",
    "\r\n",
    "k_range = list(range(1, 50))\r\n",
    "for i in k_range:\r\n",
    "    knn = KNeighborsClassifier(n_neighbors=i)\r\n",
    "    # fit the model with data\r\n",
    "    knn.fit(X_train, y_train)\r\n",
    "    k_pred = knn.predict(X_test)\r\n",
    "    v.append( metrics.accuracy_score(y_test, k_pred))\r\n",
    "\r\n",
    "\r\n",
    "\r\n",
    "import matplotlib.pyplot as plt\r\n",
    "plt.plot(k_range,v)\r\n",
    "\r\n",
    "plt.show()"
   ],
   "outputs": [
    {
     "output_type": "display_data",
     "data": {
      "image/png": "[encoded data removed]",
      "text/plain": [
       "<Figure size 432x288 with 1 Axes>"
      ]
     },
     "metadata": {
      "needs_background": "light"
     }
    }
   ],
   "metadata": {}
  },
  {
   "cell_type": "code",
   "execution_count": 78,
   "source": [
    "knn = KNeighborsClassifier(n_neighbors=12)\r\n",
    "# fit the model with data\r\n",
    "knn.fit(X_train, y_train)\r\n",
    "k_pred = knn.predict(X_test)\r\n",
    "\r\n",
    "metrics.accuracy_score(y_test, k_pred)"
   ],
   "outputs": [
    {
     "output_type": "execute_result",
     "data": {
      "text/plain": [
       "0.14375"
      ]
     },
     "metadata": {},
     "execution_count": 78
    }
   ],
   "metadata": {}
  }
 ],
 "metadata": {
  "orig_nbformat": 4,
  "language_info": {
   "name": "python",
   "version": "3.8.8",
   "mimetype": "text/x-python",
   "codemirror_mode": {
    "name": "ipython",
    "version": 3
   },
   "pygments_lexer": "ipython3",
   "nbconvert_exporter": "python",
   "file_extension": ".py"
  },
  "kernelspec": {
   "name": "python3",
   "display_name": "Python 3.8.8 64-bit ('base': conda)"
  },
  "interpreter": {
   "hash": "07efdcd4b820c98a756949507a4d29d7862823915ec7477944641bea022f4f62"
  }
 },
 "nbformat": 4,
 "nbformat_minor": 2
}